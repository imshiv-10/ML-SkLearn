{
  "cells": [
    {
      "cell_type": "markdown",
      "metadata": {
        "id": "view-in-github",
        "colab_type": "text"
      },
      "source": [
        "<a href=\"https://colab.research.google.com/github/imshiv-10/ML-SkLearn/blob/main/house_prediction_RandomFores-Project.ipynb\" target=\"_parent\"><img src=\"https://colab.research.google.com/assets/colab-badge.svg\" alt=\"Open In Colab\"/></a>"
      ]
    },
    {
      "cell_type": "markdown",
      "id": "completed-acrobat",
      "metadata": {
        "id": "completed-acrobat"
      },
      "source": [
        "# Assignment - Decision Trees and Random Forests\n",
        "\n",
        "![](https://i.imgur.com/3sw1fY9.jpg)\n",
        "\n",
        "In this assignment, you'll continue building on the previous assignment to predict the price of a house using information like its location, area, no. of rooms etc. You'll use the dataset from the [House Prices - Advanced Regression Techniques](https://www.kaggle.com/c/house-prices-advanced-regression-techniques) competition on [Kaggle](https://kaggle.com). \n",
        "\n",
        "We'll follow a step-by-step process:\n",
        "\n",
        "1. Download and prepare the dataset for training\n",
        "2. Train, evaluate and interpret a decision tree\n",
        "3. Train, evaluate and interpret a random forest\n",
        "4. Tune hyperparameters to improve the model\n",
        "5. Make predictions and save the model\n",
        "\n",
        "As you go through this notebook, you will find a **???** in certain places. Your job is to replace the **???** with appropriate code or values, to ensure that the notebook runs properly end-to-end and your machine learning model is trained properly without errors. \n",
        "\n",
        "**Guidelines**\n",
        "\n",
        "1. Make sure to run all the code cells in order. Otherwise, you may get errors like `NameError` for undefined variables.\n",
        "2. Do not change variable names, delete cells, or disturb other existing code. It may cause problems during evaluation.\n",
        "3. In some cases, you may need to add some code cells or new statements before or after the line of code containing the **???**. \n",
        "4. Since you'll be using a temporary online service for code execution, save your work by running `jovian.commit` at regular intervals.\n",
        "5. Review the \"Evaluation Criteria\" for the assignment carefully and make sure your submission meets all the criteria.\n",
        "6. Questions marked **(Optional)** will not be considered for evaluation and can be skipped. They are for your learning.\n",
        "7. It's okay to ask for help & discuss ideas on the [community forum](https://jovian.ai/forum/c/zero-to-gbms/gbms-assignment-2/99), but please don't post full working code, to give everyone an opportunity to solve the assignment on their own.\n",
        "\n",
        "\n",
        "**Important Links**:\n",
        "\n",
        "- Make a submission here: https://jovian.ai/learn/machine-learning-with-python-zero-to-gbms/assignment/assignment-2-decision-trees-and-random-forests\n",
        "- Ask questions, discuss ideas and get help here: https://jovian.ai/forum/c/zero-to-gbms/gbms-assignment-2/99\n",
        "- Review this Jupyter notebook: https://jovian.ai/aakashns/sklearn-decision-trees-random-forests\n"
      ]
    },
    {
      "cell_type": "markdown",
      "id": "fluid-hormone",
      "metadata": {
        "id": "fluid-hormone"
      },
      "source": [
        "## How to Run the Code and Save Your Work\n",
        "\n",
        "**Option 1: Running using free online resources (1-click, recommended):** The easiest way to start executing the code is to click the **Run** button at the top of this page and select **Run on Binder**. This will set up a cloud-based Jupyter notebook server and allow you to modify/execute the code.\n",
        "\n",
        "\n",
        "**Option 2: Running on your computer locally:** To run the code on your computer locally, you'll need to set up [Python](https://www.python.org), download the notebook and install the required libraries. Click the **Run** button at the top of this page, select the **Run Locally** option, and follow the instructions.\n",
        "\n",
        "**Saving your work**: You can save a snapshot of the assignment to your [Jovian](https://jovian.ai) profile, so that you can access it later and continue your work. Keep saving your work by running `jovian.commit` from time to time."
      ]
    },
    {
      "cell_type": "code",
      "execution_count": null,
      "id": "enhanced-volume",
      "metadata": {
        "colab": {
          "base_uri": "https://localhost:8080/"
        },
        "id": "enhanced-volume",
        "outputId": "ac6ba40d-e62f-4750-c9bd-61459c08783f"
      },
      "outputs": [
        {
          "output_type": "stream",
          "name": "stdout",
          "text": [
            "\u001b[?25l     \u001b[90m━━━━━━━━━━━━━━━━━━━━━━━━━━━━━━━━━━━━━━━━\u001b[0m \u001b[32m0.0/68.6 KB\u001b[0m \u001b[31m?\u001b[0m eta \u001b[36m-:--:--\u001b[0m\r\u001b[2K     \u001b[90m━━━━━━━━━━━━━━━━━━━━━━━━━━━━━━━━━━━━━━━━\u001b[0m \u001b[32m68.6/68.6 KB\u001b[0m \u001b[31m3.6 MB/s\u001b[0m eta \u001b[36m0:00:00\u001b[0m\n",
            "\u001b[?25h  Preparing metadata (setup.py) ... \u001b[?25l\u001b[?25hdone\n",
            "  Building wheel for uuid (setup.py) ... \u001b[?25l\u001b[?25hdone\n"
          ]
        }
      ],
      "source": [
        "!pip install jovian --upgrade --quiet"
      ]
    },
    {
      "cell_type": "code",
      "execution_count": null,
      "id": "saved-police",
      "metadata": {
        "id": "saved-police"
      },
      "outputs": [],
      "source": [
        "import jovian"
      ]
    },
    {
      "cell_type": "code",
      "execution_count": null,
      "id": "offshore-musical",
      "metadata": {
        "colab": {
          "base_uri": "https://localhost:8080/"
        },
        "id": "offshore-musical",
        "outputId": "1175c109-d446-4e1f-dd39-8a247f4d9a4e"
      },
      "outputs": [
        {
          "output_type": "stream",
          "name": "stdout",
          "text": [
            "[jovian] Detected Colab notebook...\u001b[0m\n",
            "[jovian] jovian.commit() is no longer required on Google Colab. If you ran this notebook from Jovian, \n",
            "then just save this file in Colab using Ctrl+S/Cmd+S and it will be updated on Jovian. \n",
            "Also, you can also delete this cell, it's no longer necessary.\u001b[0m\n"
          ]
        }
      ],
      "source": [
        "jovian.commit(project='python-random-forests-assignment', privacy='secret')"
      ]
    },
    {
      "cell_type": "markdown",
      "id": "hourly-rhythm",
      "metadata": {
        "id": "hourly-rhythm"
      },
      "source": [
        "Let's begin by installing the required libraries."
      ]
    },
    {
      "cell_type": "code",
      "execution_count": null,
      "id": "continent-yacht",
      "metadata": {
        "colab": {
          "base_uri": "https://localhost:8080/"
        },
        "id": "continent-yacht",
        "outputId": "b04b0e52-a868-407a-ff2c-7e49c52432eb"
      },
      "outputs": [
        {
          "output_type": "stream",
          "name": "stdout",
          "text": [
            "\u001b[2K     \u001b[90m━━━━━━━━━━━━━━━━━━━━━━━━━━━━━━━━━━━━━━━━\u001b[0m \u001b[32m9.8/9.8 MB\u001b[0m \u001b[31m69.4 MB/s\u001b[0m eta \u001b[36m0:00:00\u001b[0m\n",
            "\u001b[2K     \u001b[90m━━━━━━━━━━━━━━━━━━━━━━━━━━━━━━━━━━━━━━━━\u001b[0m \u001b[32m15.2/15.2 MB\u001b[0m \u001b[31m40.2 MB/s\u001b[0m eta \u001b[36m0:00:00\u001b[0m\n",
            "\u001b[2K     \u001b[90m━━━━━━━━━━━━━━━━━━━━━━━━━━━━━━━━━━━━━━━\u001b[0m \u001b[32m102.3/102.3 KB\u001b[0m \u001b[31m9.0 MB/s\u001b[0m eta \u001b[36m0:00:00\u001b[0m\n",
            "\u001b[?25h"
          ]
        }
      ],
      "source": [
        "!pip install opendatasets scikit-learn plotly folium --upgrade --quiet"
      ]
    },
    {
      "cell_type": "code",
      "execution_count": null,
      "id": "australian-suicide",
      "metadata": {
        "id": "australian-suicide"
      },
      "outputs": [],
      "source": [
        "!pip install pandas numpy matplotlib seaborn --quiet"
      ]
    },
    {
      "cell_type": "markdown",
      "id": "twelve-thanksgiving",
      "metadata": {
        "id": "twelve-thanksgiving"
      },
      "source": [
        "## Download and prepare the dataset for training"
      ]
    },
    {
      "cell_type": "code",
      "execution_count": null,
      "id": "aggressive-taste",
      "metadata": {
        "colab": {
          "base_uri": "https://localhost:8080/"
        },
        "id": "aggressive-taste",
        "outputId": "6474b361-615b-478f-aaee-a856f1896462"
      },
      "outputs": [
        {
          "output_type": "execute_result",
          "data": {
            "text/plain": [
              "['sample_submission.csv', 'data_description.txt', 'train.csv', 'test.csv']"
            ]
          },
          "metadata": {},
          "execution_count": 7
        }
      ],
      "source": [
        "import os\n",
        "from zipfile import ZipFile\n",
        "from urllib.request import urlretrieve\n",
        "\n",
        "dataset_url = 'https://github.com/JovianML/opendatasets/raw/master/data/house-prices-advanced-regression-techniques.zip'\n",
        "urlretrieve(dataset_url, 'house-prices.zip')\n",
        "with ZipFile('house-prices.zip') as f:\n",
        "    f.extractall(path='house-prices')\n",
        "    \n",
        "os.listdir('house-prices')"
      ]
    },
    {
      "cell_type": "code",
      "execution_count": null,
      "id": "tracked-window",
      "metadata": {
        "colab": {
          "base_uri": "https://localhost:8080/",
          "height": 476
        },
        "id": "tracked-window",
        "outputId": "a5ecbb6f-dbd4-4ac9-8d9a-f60c87a33c92"
      },
      "outputs": [
        {
          "output_type": "execute_result",
          "data": {
            "text/plain": [
              "        Id  MSSubClass MSZoning  LotFrontage  LotArea Street Alley LotShape  \\\n",
              "0        1          60       RL         65.0     8450   Pave   NaN      Reg   \n",
              "1        2          20       RL         80.0     9600   Pave   NaN      Reg   \n",
              "2        3          60       RL         68.0    11250   Pave   NaN      IR1   \n",
              "3        4          70       RL         60.0     9550   Pave   NaN      IR1   \n",
              "4        5          60       RL         84.0    14260   Pave   NaN      IR1   \n",
              "...    ...         ...      ...          ...      ...    ...   ...      ...   \n",
              "1455  1456          60       RL         62.0     7917   Pave   NaN      Reg   \n",
              "1456  1457          20       RL         85.0    13175   Pave   NaN      Reg   \n",
              "1457  1458          70       RL         66.0     9042   Pave   NaN      Reg   \n",
              "1458  1459          20       RL         68.0     9717   Pave   NaN      Reg   \n",
              "1459  1460          20       RL         75.0     9937   Pave   NaN      Reg   \n",
              "\n",
              "     LandContour Utilities LotConfig LandSlope Neighborhood Condition1  \\\n",
              "0            Lvl    AllPub    Inside       Gtl      CollgCr       Norm   \n",
              "1            Lvl    AllPub       FR2       Gtl      Veenker      Feedr   \n",
              "2            Lvl    AllPub    Inside       Gtl      CollgCr       Norm   \n",
              "3            Lvl    AllPub    Corner       Gtl      Crawfor       Norm   \n",
              "4            Lvl    AllPub       FR2       Gtl      NoRidge       Norm   \n",
              "...          ...       ...       ...       ...          ...        ...   \n",
              "1455         Lvl    AllPub    Inside       Gtl      Gilbert       Norm   \n",
              "1456         Lvl    AllPub    Inside       Gtl       NWAmes       Norm   \n",
              "1457         Lvl    AllPub    Inside       Gtl      Crawfor       Norm   \n",
              "1458         Lvl    AllPub    Inside       Gtl        NAmes       Norm   \n",
              "1459         Lvl    AllPub    Inside       Gtl      Edwards       Norm   \n",
              "\n",
              "     Condition2 BldgType HouseStyle  OverallQual  OverallCond  YearBuilt  \\\n",
              "0          Norm     1Fam     2Story            7            5       2003   \n",
              "1          Norm     1Fam     1Story            6            8       1976   \n",
              "2          Norm     1Fam     2Story            7            5       2001   \n",
              "3          Norm     1Fam     2Story            7            5       1915   \n",
              "4          Norm     1Fam     2Story            8            5       2000   \n",
              "...         ...      ...        ...          ...          ...        ...   \n",
              "1455       Norm     1Fam     2Story            6            5       1999   \n",
              "1456       Norm     1Fam     1Story            6            6       1978   \n",
              "1457       Norm     1Fam     2Story            7            9       1941   \n",
              "1458       Norm     1Fam     1Story            5            6       1950   \n",
              "1459       Norm     1Fam     1Story            5            6       1965   \n",
              "\n",
              "      YearRemodAdd RoofStyle RoofMatl Exterior1st Exterior2nd MasVnrType  \\\n",
              "0             2003     Gable  CompShg     VinylSd     VinylSd    BrkFace   \n",
              "1             1976     Gable  CompShg     MetalSd     MetalSd       None   \n",
              "2             2002     Gable  CompShg     VinylSd     VinylSd    BrkFace   \n",
              "3             1970     Gable  CompShg     Wd Sdng     Wd Shng       None   \n",
              "4             2000     Gable  CompShg     VinylSd     VinylSd    BrkFace   \n",
              "...            ...       ...      ...         ...         ...        ...   \n",
              "1455          2000     Gable  CompShg     VinylSd     VinylSd       None   \n",
              "1456          1988     Gable  CompShg     Plywood     Plywood      Stone   \n",
              "1457          2006     Gable  CompShg     CemntBd     CmentBd       None   \n",
              "1458          1996       Hip  CompShg     MetalSd     MetalSd       None   \n",
              "1459          1965     Gable  CompShg     HdBoard     HdBoard       None   \n",
              "\n",
              "      MasVnrArea ExterQual ExterCond Foundation BsmtQual BsmtCond  \\\n",
              "0          196.0        Gd        TA      PConc       Gd       TA   \n",
              "1            0.0        TA        TA     CBlock       Gd       TA   \n",
              "2          162.0        Gd        TA      PConc       Gd       TA   \n",
              "3            0.0        TA        TA     BrkTil       TA       Gd   \n",
              "4          350.0        Gd        TA      PConc       Gd       TA   \n",
              "...          ...       ...       ...        ...      ...      ...   \n",
              "1455         0.0        TA        TA      PConc       Gd       TA   \n",
              "1456       119.0        TA        TA     CBlock       Gd       TA   \n",
              "1457         0.0        Ex        Gd      Stone       TA       Gd   \n",
              "1458         0.0        TA        TA     CBlock       TA       TA   \n",
              "1459         0.0        Gd        TA     CBlock       TA       TA   \n",
              "\n",
              "     BsmtExposure BsmtFinType1  BsmtFinSF1 BsmtFinType2  BsmtFinSF2  \\\n",
              "0              No          GLQ         706          Unf           0   \n",
              "1              Gd          ALQ         978          Unf           0   \n",
              "2              Mn          GLQ         486          Unf           0   \n",
              "3              No          ALQ         216          Unf           0   \n",
              "4              Av          GLQ         655          Unf           0   \n",
              "...           ...          ...         ...          ...         ...   \n",
              "1455           No          Unf           0          Unf           0   \n",
              "1456           No          ALQ         790          Rec         163   \n",
              "1457           No          GLQ         275          Unf           0   \n",
              "1458           Mn          GLQ          49          Rec        1029   \n",
              "1459           No          BLQ         830          LwQ         290   \n",
              "\n",
              "      BsmtUnfSF  TotalBsmtSF Heating HeatingQC CentralAir Electrical  \\\n",
              "0           150          856    GasA        Ex          Y      SBrkr   \n",
              "1           284         1262    GasA        Ex          Y      SBrkr   \n",
              "2           434          920    GasA        Ex          Y      SBrkr   \n",
              "3           540          756    GasA        Gd          Y      SBrkr   \n",
              "4           490         1145    GasA        Ex          Y      SBrkr   \n",
              "...         ...          ...     ...       ...        ...        ...   \n",
              "1455        953          953    GasA        Ex          Y      SBrkr   \n",
              "1456        589         1542    GasA        TA          Y      SBrkr   \n",
              "1457        877         1152    GasA        Ex          Y      SBrkr   \n",
              "1458          0         1078    GasA        Gd          Y      FuseA   \n",
              "1459        136         1256    GasA        Gd          Y      SBrkr   \n",
              "\n",
              "      1stFlrSF  2ndFlrSF  LowQualFinSF  GrLivArea  BsmtFullBath  BsmtHalfBath  \\\n",
              "0          856       854             0       1710             1             0   \n",
              "1         1262         0             0       1262             0             1   \n",
              "2          920       866             0       1786             1             0   \n",
              "3          961       756             0       1717             1             0   \n",
              "4         1145      1053             0       2198             1             0   \n",
              "...        ...       ...           ...        ...           ...           ...   \n",
              "1455       953       694             0       1647             0             0   \n",
              "1456      2073         0             0       2073             1             0   \n",
              "1457      1188      1152             0       2340             0             0   \n",
              "1458      1078         0             0       1078             1             0   \n",
              "1459      1256         0             0       1256             1             0   \n",
              "\n",
              "      FullBath  HalfBath  BedroomAbvGr  KitchenAbvGr KitchenQual  \\\n",
              "0            2         1             3             1          Gd   \n",
              "1            2         0             3             1          TA   \n",
              "2            2         1             3             1          Gd   \n",
              "3            1         0             3             1          Gd   \n",
              "4            2         1             4             1          Gd   \n",
              "...        ...       ...           ...           ...         ...   \n",
              "1455         2         1             3             1          TA   \n",
              "1456         2         0             3             1          TA   \n",
              "1457         2         0             4             1          Gd   \n",
              "1458         1         0             2             1          Gd   \n",
              "1459         1         1             3             1          TA   \n",
              "\n",
              "      TotRmsAbvGrd Functional  Fireplaces FireplaceQu GarageType  GarageYrBlt  \\\n",
              "0                8        Typ           0         NaN     Attchd       2003.0   \n",
              "1                6        Typ           1          TA     Attchd       1976.0   \n",
              "2                6        Typ           1          TA     Attchd       2001.0   \n",
              "3                7        Typ           1          Gd     Detchd       1998.0   \n",
              "4                9        Typ           1          TA     Attchd       2000.0   \n",
              "...            ...        ...         ...         ...        ...          ...   \n",
              "1455             7        Typ           1          TA     Attchd       1999.0   \n",
              "1456             7       Min1           2          TA     Attchd       1978.0   \n",
              "1457             9        Typ           2          Gd     Attchd       1941.0   \n",
              "1458             5        Typ           0         NaN     Attchd       1950.0   \n",
              "1459             6        Typ           0         NaN     Attchd       1965.0   \n",
              "\n",
              "     GarageFinish  GarageCars  GarageArea GarageQual GarageCond PavedDrive  \\\n",
              "0             RFn           2         548         TA         TA          Y   \n",
              "1             RFn           2         460         TA         TA          Y   \n",
              "2             RFn           2         608         TA         TA          Y   \n",
              "3             Unf           3         642         TA         TA          Y   \n",
              "4             RFn           3         836         TA         TA          Y   \n",
              "...           ...         ...         ...        ...        ...        ...   \n",
              "1455          RFn           2         460         TA         TA          Y   \n",
              "1456          Unf           2         500         TA         TA          Y   \n",
              "1457          RFn           1         252         TA         TA          Y   \n",
              "1458          Unf           1         240         TA         TA          Y   \n",
              "1459          Fin           1         276         TA         TA          Y   \n",
              "\n",
              "      WoodDeckSF  OpenPorchSF  EnclosedPorch  3SsnPorch  ScreenPorch  \\\n",
              "0              0           61              0          0            0   \n",
              "1            298            0              0          0            0   \n",
              "2              0           42              0          0            0   \n",
              "3              0           35            272          0            0   \n",
              "4            192           84              0          0            0   \n",
              "...          ...          ...            ...        ...          ...   \n",
              "1455           0           40              0          0            0   \n",
              "1456         349            0              0          0            0   \n",
              "1457           0           60              0          0            0   \n",
              "1458         366            0            112          0            0   \n",
              "1459         736           68              0          0            0   \n",
              "\n",
              "      PoolArea PoolQC  Fence MiscFeature  MiscVal  MoSold  YrSold SaleType  \\\n",
              "0            0    NaN    NaN         NaN        0       2    2008       WD   \n",
              "1            0    NaN    NaN         NaN        0       5    2007       WD   \n",
              "2            0    NaN    NaN         NaN        0       9    2008       WD   \n",
              "3            0    NaN    NaN         NaN        0       2    2006       WD   \n",
              "4            0    NaN    NaN         NaN        0      12    2008       WD   \n",
              "...        ...    ...    ...         ...      ...     ...     ...      ...   \n",
              "1455         0    NaN    NaN         NaN        0       8    2007       WD   \n",
              "1456         0    NaN  MnPrv         NaN        0       2    2010       WD   \n",
              "1457         0    NaN  GdPrv        Shed     2500       5    2010       WD   \n",
              "1458         0    NaN    NaN         NaN        0       4    2010       WD   \n",
              "1459         0    NaN    NaN         NaN        0       6    2008       WD   \n",
              "\n",
              "     SaleCondition  SalePrice  \n",
              "0           Normal     208500  \n",
              "1           Normal     181500  \n",
              "2           Normal     223500  \n",
              "3          Abnorml     140000  \n",
              "4           Normal     250000  \n",
              "...            ...        ...  \n",
              "1455        Normal     175000  \n",
              "1456        Normal     210000  \n",
              "1457        Normal     266500  \n",
              "1458        Normal     142125  \n",
              "1459        Normal     147500  \n",
              "\n",
              "[1460 rows x 81 columns]"
            ],
            "text/html": [
              "\n",
              "  <div id=\"df-f1cdafc8-3169-403a-9a3a-c458237902a3\">\n",
              "    <div class=\"colab-df-container\">\n",
              "      <div>\n",
              "<style scoped>\n",
              "    .dataframe tbody tr th:only-of-type {\n",
              "        vertical-align: middle;\n",
              "    }\n",
              "\n",
              "    .dataframe tbody tr th {\n",
              "        vertical-align: top;\n",
              "    }\n",
              "\n",
              "    .dataframe thead th {\n",
              "        text-align: right;\n",
              "    }\n",
              "</style>\n",
              "<table border=\"1\" class=\"dataframe\">\n",
              "  <thead>\n",
              "    <tr style=\"text-align: right;\">\n",
              "      <th></th>\n",
              "      <th>Id</th>\n",
              "      <th>MSSubClass</th>\n",
              "      <th>MSZoning</th>\n",
              "      <th>LotFrontage</th>\n",
              "      <th>LotArea</th>\n",
              "      <th>Street</th>\n",
              "      <th>Alley</th>\n",
              "      <th>LotShape</th>\n",
              "      <th>LandContour</th>\n",
              "      <th>Utilities</th>\n",
              "      <th>LotConfig</th>\n",
              "      <th>LandSlope</th>\n",
              "      <th>Neighborhood</th>\n",
              "      <th>Condition1</th>\n",
              "      <th>Condition2</th>\n",
              "      <th>BldgType</th>\n",
              "      <th>HouseStyle</th>\n",
              "      <th>OverallQual</th>\n",
              "      <th>OverallCond</th>\n",
              "      <th>YearBuilt</th>\n",
              "      <th>YearRemodAdd</th>\n",
              "      <th>RoofStyle</th>\n",
              "      <th>RoofMatl</th>\n",
              "      <th>Exterior1st</th>\n",
              "      <th>Exterior2nd</th>\n",
              "      <th>MasVnrType</th>\n",
              "      <th>MasVnrArea</th>\n",
              "      <th>ExterQual</th>\n",
              "      <th>ExterCond</th>\n",
              "      <th>Foundation</th>\n",
              "      <th>BsmtQual</th>\n",
              "      <th>BsmtCond</th>\n",
              "      <th>BsmtExposure</th>\n",
              "      <th>BsmtFinType1</th>\n",
              "      <th>BsmtFinSF1</th>\n",
              "      <th>BsmtFinType2</th>\n",
              "      <th>BsmtFinSF2</th>\n",
              "      <th>BsmtUnfSF</th>\n",
              "      <th>TotalBsmtSF</th>\n",
              "      <th>Heating</th>\n",
              "      <th>HeatingQC</th>\n",
              "      <th>CentralAir</th>\n",
              "      <th>Electrical</th>\n",
              "      <th>1stFlrSF</th>\n",
              "      <th>2ndFlrSF</th>\n",
              "      <th>LowQualFinSF</th>\n",
              "      <th>GrLivArea</th>\n",
              "      <th>BsmtFullBath</th>\n",
              "      <th>BsmtHalfBath</th>\n",
              "      <th>FullBath</th>\n",
              "      <th>HalfBath</th>\n",
              "      <th>BedroomAbvGr</th>\n",
              "      <th>KitchenAbvGr</th>\n",
              "      <th>KitchenQual</th>\n",
              "      <th>TotRmsAbvGrd</th>\n",
              "      <th>Functional</th>\n",
              "      <th>Fireplaces</th>\n",
              "      <th>FireplaceQu</th>\n",
              "      <th>GarageType</th>\n",
              "      <th>GarageYrBlt</th>\n",
              "      <th>GarageFinish</th>\n",
              "      <th>GarageCars</th>\n",
              "      <th>GarageArea</th>\n",
              "      <th>GarageQual</th>\n",
              "      <th>GarageCond</th>\n",
              "      <th>PavedDrive</th>\n",
              "      <th>WoodDeckSF</th>\n",
              "      <th>OpenPorchSF</th>\n",
              "      <th>EnclosedPorch</th>\n",
              "      <th>3SsnPorch</th>\n",
              "      <th>ScreenPorch</th>\n",
              "      <th>PoolArea</th>\n",
              "      <th>PoolQC</th>\n",
              "      <th>Fence</th>\n",
              "      <th>MiscFeature</th>\n",
              "      <th>MiscVal</th>\n",
              "      <th>MoSold</th>\n",
              "      <th>YrSold</th>\n",
              "      <th>SaleType</th>\n",
              "      <th>SaleCondition</th>\n",
              "      <th>SalePrice</th>\n",
              "    </tr>\n",
              "  </thead>\n",
              "  <tbody>\n",
              "    <tr>\n",
              "      <th>0</th>\n",
              "      <td>1</td>\n",
              "      <td>60</td>\n",
              "      <td>RL</td>\n",
              "      <td>65.0</td>\n",
              "      <td>8450</td>\n",
              "      <td>Pave</td>\n",
              "      <td>NaN</td>\n",
              "      <td>Reg</td>\n",
              "      <td>Lvl</td>\n",
              "      <td>AllPub</td>\n",
              "      <td>Inside</td>\n",
              "      <td>Gtl</td>\n",
              "      <td>CollgCr</td>\n",
              "      <td>Norm</td>\n",
              "      <td>Norm</td>\n",
              "      <td>1Fam</td>\n",
              "      <td>2Story</td>\n",
              "      <td>7</td>\n",
              "      <td>5</td>\n",
              "      <td>2003</td>\n",
              "      <td>2003</td>\n",
              "      <td>Gable</td>\n",
              "      <td>CompShg</td>\n",
              "      <td>VinylSd</td>\n",
              "      <td>VinylSd</td>\n",
              "      <td>BrkFace</td>\n",
              "      <td>196.0</td>\n",
              "      <td>Gd</td>\n",
              "      <td>TA</td>\n",
              "      <td>PConc</td>\n",
              "      <td>Gd</td>\n",
              "      <td>TA</td>\n",
              "      <td>No</td>\n",
              "      <td>GLQ</td>\n",
              "      <td>706</td>\n",
              "      <td>Unf</td>\n",
              "      <td>0</td>\n",
              "      <td>150</td>\n",
              "      <td>856</td>\n",
              "      <td>GasA</td>\n",
              "      <td>Ex</td>\n",
              "      <td>Y</td>\n",
              "      <td>SBrkr</td>\n",
              "      <td>856</td>\n",
              "      <td>854</td>\n",
              "      <td>0</td>\n",
              "      <td>1710</td>\n",
              "      <td>1</td>\n",
              "      <td>0</td>\n",
              "      <td>2</td>\n",
              "      <td>1</td>\n",
              "      <td>3</td>\n",
              "      <td>1</td>\n",
              "      <td>Gd</td>\n",
              "      <td>8</td>\n",
              "      <td>Typ</td>\n",
              "      <td>0</td>\n",
              "      <td>NaN</td>\n",
              "      <td>Attchd</td>\n",
              "      <td>2003.0</td>\n",
              "      <td>RFn</td>\n",
              "      <td>2</td>\n",
              "      <td>548</td>\n",
              "      <td>TA</td>\n",
              "      <td>TA</td>\n",
              "      <td>Y</td>\n",
              "      <td>0</td>\n",
              "      <td>61</td>\n",
              "      <td>0</td>\n",
              "      <td>0</td>\n",
              "      <td>0</td>\n",
              "      <td>0</td>\n",
              "      <td>NaN</td>\n",
              "      <td>NaN</td>\n",
              "      <td>NaN</td>\n",
              "      <td>0</td>\n",
              "      <td>2</td>\n",
              "      <td>2008</td>\n",
              "      <td>WD</td>\n",
              "      <td>Normal</td>\n",
              "      <td>208500</td>\n",
              "    </tr>\n",
              "    <tr>\n",
              "      <th>1</th>\n",
              "      <td>2</td>\n",
              "      <td>20</td>\n",
              "      <td>RL</td>\n",
              "      <td>80.0</td>\n",
              "      <td>9600</td>\n",
              "      <td>Pave</td>\n",
              "      <td>NaN</td>\n",
              "      <td>Reg</td>\n",
              "      <td>Lvl</td>\n",
              "      <td>AllPub</td>\n",
              "      <td>FR2</td>\n",
              "      <td>Gtl</td>\n",
              "      <td>Veenker</td>\n",
              "      <td>Feedr</td>\n",
              "      <td>Norm</td>\n",
              "      <td>1Fam</td>\n",
              "      <td>1Story</td>\n",
              "      <td>6</td>\n",
              "      <td>8</td>\n",
              "      <td>1976</td>\n",
              "      <td>1976</td>\n",
              "      <td>Gable</td>\n",
              "      <td>CompShg</td>\n",
              "      <td>MetalSd</td>\n",
              "      <td>MetalSd</td>\n",
              "      <td>None</td>\n",
              "      <td>0.0</td>\n",
              "      <td>TA</td>\n",
              "      <td>TA</td>\n",
              "      <td>CBlock</td>\n",
              "      <td>Gd</td>\n",
              "      <td>TA</td>\n",
              "      <td>Gd</td>\n",
              "      <td>ALQ</td>\n",
              "      <td>978</td>\n",
              "      <td>Unf</td>\n",
              "      <td>0</td>\n",
              "      <td>284</td>\n",
              "      <td>1262</td>\n",
              "      <td>GasA</td>\n",
              "      <td>Ex</td>\n",
              "      <td>Y</td>\n",
              "      <td>SBrkr</td>\n",
              "      <td>1262</td>\n",
              "      <td>0</td>\n",
              "      <td>0</td>\n",
              "      <td>1262</td>\n",
              "      <td>0</td>\n",
              "      <td>1</td>\n",
              "      <td>2</td>\n",
              "      <td>0</td>\n",
              "      <td>3</td>\n",
              "      <td>1</td>\n",
              "      <td>TA</td>\n",
              "      <td>6</td>\n",
              "      <td>Typ</td>\n",
              "      <td>1</td>\n",
              "      <td>TA</td>\n",
              "      <td>Attchd</td>\n",
              "      <td>1976.0</td>\n",
              "      <td>RFn</td>\n",
              "      <td>2</td>\n",
              "      <td>460</td>\n",
              "      <td>TA</td>\n",
              "      <td>TA</td>\n",
              "      <td>Y</td>\n",
              "      <td>298</td>\n",
              "      <td>0</td>\n",
              "      <td>0</td>\n",
              "      <td>0</td>\n",
              "      <td>0</td>\n",
              "      <td>0</td>\n",
              "      <td>NaN</td>\n",
              "      <td>NaN</td>\n",
              "      <td>NaN</td>\n",
              "      <td>0</td>\n",
              "      <td>5</td>\n",
              "      <td>2007</td>\n",
              "      <td>WD</td>\n",
              "      <td>Normal</td>\n",
              "      <td>181500</td>\n",
              "    </tr>\n",
              "    <tr>\n",
              "      <th>2</th>\n",
              "      <td>3</td>\n",
              "      <td>60</td>\n",
              "      <td>RL</td>\n",
              "      <td>68.0</td>\n",
              "      <td>11250</td>\n",
              "      <td>Pave</td>\n",
              "      <td>NaN</td>\n",
              "      <td>IR1</td>\n",
              "      <td>Lvl</td>\n",
              "      <td>AllPub</td>\n",
              "      <td>Inside</td>\n",
              "      <td>Gtl</td>\n",
              "      <td>CollgCr</td>\n",
              "      <td>Norm</td>\n",
              "      <td>Norm</td>\n",
              "      <td>1Fam</td>\n",
              "      <td>2Story</td>\n",
              "      <td>7</td>\n",
              "      <td>5</td>\n",
              "      <td>2001</td>\n",
              "      <td>2002</td>\n",
              "      <td>Gable</td>\n",
              "      <td>CompShg</td>\n",
              "      <td>VinylSd</td>\n",
              "      <td>VinylSd</td>\n",
              "      <td>BrkFace</td>\n",
              "      <td>162.0</td>\n",
              "      <td>Gd</td>\n",
              "      <td>TA</td>\n",
              "      <td>PConc</td>\n",
              "      <td>Gd</td>\n",
              "      <td>TA</td>\n",
              "      <td>Mn</td>\n",
              "      <td>GLQ</td>\n",
              "      <td>486</td>\n",
              "      <td>Unf</td>\n",
              "      <td>0</td>\n",
              "      <td>434</td>\n",
              "      <td>920</td>\n",
              "      <td>GasA</td>\n",
              "      <td>Ex</td>\n",
              "      <td>Y</td>\n",
              "      <td>SBrkr</td>\n",
              "      <td>920</td>\n",
              "      <td>866</td>\n",
              "      <td>0</td>\n",
              "      <td>1786</td>\n",
              "      <td>1</td>\n",
              "      <td>0</td>\n",
              "      <td>2</td>\n",
              "      <td>1</td>\n",
              "      <td>3</td>\n",
              "      <td>1</td>\n",
              "      <td>Gd</td>\n",
              "      <td>6</td>\n",
              "      <td>Typ</td>\n",
              "      <td>1</td>\n",
              "      <td>TA</td>\n",
              "      <td>Attchd</td>\n",
              "      <td>2001.0</td>\n",
              "      <td>RFn</td>\n",
              "      <td>2</td>\n",
              "      <td>608</td>\n",
              "      <td>TA</td>\n",
              "      <td>TA</td>\n",
              "      <td>Y</td>\n",
              "      <td>0</td>\n",
              "      <td>42</td>\n",
              "      <td>0</td>\n",
              "      <td>0</td>\n",
              "      <td>0</td>\n",
              "      <td>0</td>\n",
              "      <td>NaN</td>\n",
              "      <td>NaN</td>\n",
              "      <td>NaN</td>\n",
              "      <td>0</td>\n",
              "      <td>9</td>\n",
              "      <td>2008</td>\n",
              "      <td>WD</td>\n",
              "      <td>Normal</td>\n",
              "      <td>223500</td>\n",
              "    </tr>\n",
              "    <tr>\n",
              "      <th>3</th>\n",
              "      <td>4</td>\n",
              "      <td>70</td>\n",
              "      <td>RL</td>\n",
              "      <td>60.0</td>\n",
              "      <td>9550</td>\n",
              "      <td>Pave</td>\n",
              "      <td>NaN</td>\n",
              "      <td>IR1</td>\n",
              "      <td>Lvl</td>\n",
              "      <td>AllPub</td>\n",
              "      <td>Corner</td>\n",
              "      <td>Gtl</td>\n",
              "      <td>Crawfor</td>\n",
              "      <td>Norm</td>\n",
              "      <td>Norm</td>\n",
              "      <td>1Fam</td>\n",
              "      <td>2Story</td>\n",
              "      <td>7</td>\n",
              "      <td>5</td>\n",
              "      <td>1915</td>\n",
              "      <td>1970</td>\n",
              "      <td>Gable</td>\n",
              "      <td>CompShg</td>\n",
              "      <td>Wd Sdng</td>\n",
              "      <td>Wd Shng</td>\n",
              "      <td>None</td>\n",
              "      <td>0.0</td>\n",
              "      <td>TA</td>\n",
              "      <td>TA</td>\n",
              "      <td>BrkTil</td>\n",
              "      <td>TA</td>\n",
              "      <td>Gd</td>\n",
              "      <td>No</td>\n",
              "      <td>ALQ</td>\n",
              "      <td>216</td>\n",
              "      <td>Unf</td>\n",
              "      <td>0</td>\n",
              "      <td>540</td>\n",
              "      <td>756</td>\n",
              "      <td>GasA</td>\n",
              "      <td>Gd</td>\n",
              "      <td>Y</td>\n",
              "      <td>SBrkr</td>\n",
              "      <td>961</td>\n",
              "      <td>756</td>\n",
              "      <td>0</td>\n",
              "      <td>1717</td>\n",
              "      <td>1</td>\n",
              "      <td>0</td>\n",
              "      <td>1</td>\n",
              "      <td>0</td>\n",
              "      <td>3</td>\n",
              "      <td>1</td>\n",
              "      <td>Gd</td>\n",
              "      <td>7</td>\n",
              "      <td>Typ</td>\n",
              "      <td>1</td>\n",
              "      <td>Gd</td>\n",
              "      <td>Detchd</td>\n",
              "      <td>1998.0</td>\n",
              "      <td>Unf</td>\n",
              "      <td>3</td>\n",
              "      <td>642</td>\n",
              "      <td>TA</td>\n",
              "      <td>TA</td>\n",
              "      <td>Y</td>\n",
              "      <td>0</td>\n",
              "      <td>35</td>\n",
              "      <td>272</td>\n",
              "      <td>0</td>\n",
              "      <td>0</td>\n",
              "      <td>0</td>\n",
              "      <td>NaN</td>\n",
              "      <td>NaN</td>\n",
              "      <td>NaN</td>\n",
              "      <td>0</td>\n",
              "      <td>2</td>\n",
              "      <td>2006</td>\n",
              "      <td>WD</td>\n",
              "      <td>Abnorml</td>\n",
              "      <td>140000</td>\n",
              "    </tr>\n",
              "    <tr>\n",
              "      <th>4</th>\n",
              "      <td>5</td>\n",
              "      <td>60</td>\n",
              "      <td>RL</td>\n",
              "      <td>84.0</td>\n",
              "      <td>14260</td>\n",
              "      <td>Pave</td>\n",
              "      <td>NaN</td>\n",
              "      <td>IR1</td>\n",
              "      <td>Lvl</td>\n",
              "      <td>AllPub</td>\n",
              "      <td>FR2</td>\n",
              "      <td>Gtl</td>\n",
              "      <td>NoRidge</td>\n",
              "      <td>Norm</td>\n",
              "      <td>Norm</td>\n",
              "      <td>1Fam</td>\n",
              "      <td>2Story</td>\n",
              "      <td>8</td>\n",
              "      <td>5</td>\n",
              "      <td>2000</td>\n",
              "      <td>2000</td>\n",
              "      <td>Gable</td>\n",
              "      <td>CompShg</td>\n",
              "      <td>VinylSd</td>\n",
              "      <td>VinylSd</td>\n",
              "      <td>BrkFace</td>\n",
              "      <td>350.0</td>\n",
              "      <td>Gd</td>\n",
              "      <td>TA</td>\n",
              "      <td>PConc</td>\n",
              "      <td>Gd</td>\n",
              "      <td>TA</td>\n",
              "      <td>Av</td>\n",
              "      <td>GLQ</td>\n",
              "      <td>655</td>\n",
              "      <td>Unf</td>\n",
              "      <td>0</td>\n",
              "      <td>490</td>\n",
              "      <td>1145</td>\n",
              "      <td>GasA</td>\n",
              "      <td>Ex</td>\n",
              "      <td>Y</td>\n",
              "      <td>SBrkr</td>\n",
              "      <td>1145</td>\n",
              "      <td>1053</td>\n",
              "      <td>0</td>\n",
              "      <td>2198</td>\n",
              "      <td>1</td>\n",
              "      <td>0</td>\n",
              "      <td>2</td>\n",
              "      <td>1</td>\n",
              "      <td>4</td>\n",
              "      <td>1</td>\n",
              "      <td>Gd</td>\n",
              "      <td>9</td>\n",
              "      <td>Typ</td>\n",
              "      <td>1</td>\n",
              "      <td>TA</td>\n",
              "      <td>Attchd</td>\n",
              "      <td>2000.0</td>\n",
              "      <td>RFn</td>\n",
              "      <td>3</td>\n",
              "      <td>836</td>\n",
              "      <td>TA</td>\n",
              "      <td>TA</td>\n",
              "      <td>Y</td>\n",
              "      <td>192</td>\n",
              "      <td>84</td>\n",
              "      <td>0</td>\n",
              "      <td>0</td>\n",
              "      <td>0</td>\n",
              "      <td>0</td>\n",
              "      <td>NaN</td>\n",
              "      <td>NaN</td>\n",
              "      <td>NaN</td>\n",
              "      <td>0</td>\n",
              "      <td>12</td>\n",
              "      <td>2008</td>\n",
              "      <td>WD</td>\n",
              "      <td>Normal</td>\n",
              "      <td>250000</td>\n",
              "    </tr>\n",
              "    <tr>\n",
              "      <th>...</th>\n",
              "      <td>...</td>\n",
              "      <td>...</td>\n",
              "      <td>...</td>\n",
              "      <td>...</td>\n",
              "      <td>...</td>\n",
              "      <td>...</td>\n",
              "      <td>...</td>\n",
              "      <td>...</td>\n",
              "      <td>...</td>\n",
              "      <td>...</td>\n",
              "      <td>...</td>\n",
              "      <td>...</td>\n",
              "      <td>...</td>\n",
              "      <td>...</td>\n",
              "      <td>...</td>\n",
              "      <td>...</td>\n",
              "      <td>...</td>\n",
              "      <td>...</td>\n",
              "      <td>...</td>\n",
              "      <td>...</td>\n",
              "      <td>...</td>\n",
              "      <td>...</td>\n",
              "      <td>...</td>\n",
              "      <td>...</td>\n",
              "      <td>...</td>\n",
              "      <td>...</td>\n",
              "      <td>...</td>\n",
              "      <td>...</td>\n",
              "      <td>...</td>\n",
              "      <td>...</td>\n",
              "      <td>...</td>\n",
              "      <td>...</td>\n",
              "      <td>...</td>\n",
              "      <td>...</td>\n",
              "      <td>...</td>\n",
              "      <td>...</td>\n",
              "      <td>...</td>\n",
              "      <td>...</td>\n",
              "      <td>...</td>\n",
              "      <td>...</td>\n",
              "      <td>...</td>\n",
              "      <td>...</td>\n",
              "      <td>...</td>\n",
              "      <td>...</td>\n",
              "      <td>...</td>\n",
              "      <td>...</td>\n",
              "      <td>...</td>\n",
              "      <td>...</td>\n",
              "      <td>...</td>\n",
              "      <td>...</td>\n",
              "      <td>...</td>\n",
              "      <td>...</td>\n",
              "      <td>...</td>\n",
              "      <td>...</td>\n",
              "      <td>...</td>\n",
              "      <td>...</td>\n",
              "      <td>...</td>\n",
              "      <td>...</td>\n",
              "      <td>...</td>\n",
              "      <td>...</td>\n",
              "      <td>...</td>\n",
              "      <td>...</td>\n",
              "      <td>...</td>\n",
              "      <td>...</td>\n",
              "      <td>...</td>\n",
              "      <td>...</td>\n",
              "      <td>...</td>\n",
              "      <td>...</td>\n",
              "      <td>...</td>\n",
              "      <td>...</td>\n",
              "      <td>...</td>\n",
              "      <td>...</td>\n",
              "      <td>...</td>\n",
              "      <td>...</td>\n",
              "      <td>...</td>\n",
              "      <td>...</td>\n",
              "      <td>...</td>\n",
              "      <td>...</td>\n",
              "      <td>...</td>\n",
              "      <td>...</td>\n",
              "      <td>...</td>\n",
              "    </tr>\n",
              "    <tr>\n",
              "      <th>1455</th>\n",
              "      <td>1456</td>\n",
              "      <td>60</td>\n",
              "      <td>RL</td>\n",
              "      <td>62.0</td>\n",
              "      <td>7917</td>\n",
              "      <td>Pave</td>\n",
              "      <td>NaN</td>\n",
              "      <td>Reg</td>\n",
              "      <td>Lvl</td>\n",
              "      <td>AllPub</td>\n",
              "      <td>Inside</td>\n",
              "      <td>Gtl</td>\n",
              "      <td>Gilbert</td>\n",
              "      <td>Norm</td>\n",
              "      <td>Norm</td>\n",
              "      <td>1Fam</td>\n",
              "      <td>2Story</td>\n",
              "      <td>6</td>\n",
              "      <td>5</td>\n",
              "      <td>1999</td>\n",
              "      <td>2000</td>\n",
              "      <td>Gable</td>\n",
              "      <td>CompShg</td>\n",
              "      <td>VinylSd</td>\n",
              "      <td>VinylSd</td>\n",
              "      <td>None</td>\n",
              "      <td>0.0</td>\n",
              "      <td>TA</td>\n",
              "      <td>TA</td>\n",
              "      <td>PConc</td>\n",
              "      <td>Gd</td>\n",
              "      <td>TA</td>\n",
              "      <td>No</td>\n",
              "      <td>Unf</td>\n",
              "      <td>0</td>\n",
              "      <td>Unf</td>\n",
              "      <td>0</td>\n",
              "      <td>953</td>\n",
              "      <td>953</td>\n",
              "      <td>GasA</td>\n",
              "      <td>Ex</td>\n",
              "      <td>Y</td>\n",
              "      <td>SBrkr</td>\n",
              "      <td>953</td>\n",
              "      <td>694</td>\n",
              "      <td>0</td>\n",
              "      <td>1647</td>\n",
              "      <td>0</td>\n",
              "      <td>0</td>\n",
              "      <td>2</td>\n",
              "      <td>1</td>\n",
              "      <td>3</td>\n",
              "      <td>1</td>\n",
              "      <td>TA</td>\n",
              "      <td>7</td>\n",
              "      <td>Typ</td>\n",
              "      <td>1</td>\n",
              "      <td>TA</td>\n",
              "      <td>Attchd</td>\n",
              "      <td>1999.0</td>\n",
              "      <td>RFn</td>\n",
              "      <td>2</td>\n",
              "      <td>460</td>\n",
              "      <td>TA</td>\n",
              "      <td>TA</td>\n",
              "      <td>Y</td>\n",
              "      <td>0</td>\n",
              "      <td>40</td>\n",
              "      <td>0</td>\n",
              "      <td>0</td>\n",
              "      <td>0</td>\n",
              "      <td>0</td>\n",
              "      <td>NaN</td>\n",
              "      <td>NaN</td>\n",
              "      <td>NaN</td>\n",
              "      <td>0</td>\n",
              "      <td>8</td>\n",
              "      <td>2007</td>\n",
              "      <td>WD</td>\n",
              "      <td>Normal</td>\n",
              "      <td>175000</td>\n",
              "    </tr>\n",
              "    <tr>\n",
              "      <th>1456</th>\n",
              "      <td>1457</td>\n",
              "      <td>20</td>\n",
              "      <td>RL</td>\n",
              "      <td>85.0</td>\n",
              "      <td>13175</td>\n",
              "      <td>Pave</td>\n",
              "      <td>NaN</td>\n",
              "      <td>Reg</td>\n",
              "      <td>Lvl</td>\n",
              "      <td>AllPub</td>\n",
              "      <td>Inside</td>\n",
              "      <td>Gtl</td>\n",
              "      <td>NWAmes</td>\n",
              "      <td>Norm</td>\n",
              "      <td>Norm</td>\n",
              "      <td>1Fam</td>\n",
              "      <td>1Story</td>\n",
              "      <td>6</td>\n",
              "      <td>6</td>\n",
              "      <td>1978</td>\n",
              "      <td>1988</td>\n",
              "      <td>Gable</td>\n",
              "      <td>CompShg</td>\n",
              "      <td>Plywood</td>\n",
              "      <td>Plywood</td>\n",
              "      <td>Stone</td>\n",
              "      <td>119.0</td>\n",
              "      <td>TA</td>\n",
              "      <td>TA</td>\n",
              "      <td>CBlock</td>\n",
              "      <td>Gd</td>\n",
              "      <td>TA</td>\n",
              "      <td>No</td>\n",
              "      <td>ALQ</td>\n",
              "      <td>790</td>\n",
              "      <td>Rec</td>\n",
              "      <td>163</td>\n",
              "      <td>589</td>\n",
              "      <td>1542</td>\n",
              "      <td>GasA</td>\n",
              "      <td>TA</td>\n",
              "      <td>Y</td>\n",
              "      <td>SBrkr</td>\n",
              "      <td>2073</td>\n",
              "      <td>0</td>\n",
              "      <td>0</td>\n",
              "      <td>2073</td>\n",
              "      <td>1</td>\n",
              "      <td>0</td>\n",
              "      <td>2</td>\n",
              "      <td>0</td>\n",
              "      <td>3</td>\n",
              "      <td>1</td>\n",
              "      <td>TA</td>\n",
              "      <td>7</td>\n",
              "      <td>Min1</td>\n",
              "      <td>2</td>\n",
              "      <td>TA</td>\n",
              "      <td>Attchd</td>\n",
              "      <td>1978.0</td>\n",
              "      <td>Unf</td>\n",
              "      <td>2</td>\n",
              "      <td>500</td>\n",
              "      <td>TA</td>\n",
              "      <td>TA</td>\n",
              "      <td>Y</td>\n",
              "      <td>349</td>\n",
              "      <td>0</td>\n",
              "      <td>0</td>\n",
              "      <td>0</td>\n",
              "      <td>0</td>\n",
              "      <td>0</td>\n",
              "      <td>NaN</td>\n",
              "      <td>MnPrv</td>\n",
              "      <td>NaN</td>\n",
              "      <td>0</td>\n",
              "      <td>2</td>\n",
              "      <td>2010</td>\n",
              "      <td>WD</td>\n",
              "      <td>Normal</td>\n",
              "      <td>210000</td>\n",
              "    </tr>\n",
              "    <tr>\n",
              "      <th>1457</th>\n",
              "      <td>1458</td>\n",
              "      <td>70</td>\n",
              "      <td>RL</td>\n",
              "      <td>66.0</td>\n",
              "      <td>9042</td>\n",
              "      <td>Pave</td>\n",
              "      <td>NaN</td>\n",
              "      <td>Reg</td>\n",
              "      <td>Lvl</td>\n",
              "      <td>AllPub</td>\n",
              "      <td>Inside</td>\n",
              "      <td>Gtl</td>\n",
              "      <td>Crawfor</td>\n",
              "      <td>Norm</td>\n",
              "      <td>Norm</td>\n",
              "      <td>1Fam</td>\n",
              "      <td>2Story</td>\n",
              "      <td>7</td>\n",
              "      <td>9</td>\n",
              "      <td>1941</td>\n",
              "      <td>2006</td>\n",
              "      <td>Gable</td>\n",
              "      <td>CompShg</td>\n",
              "      <td>CemntBd</td>\n",
              "      <td>CmentBd</td>\n",
              "      <td>None</td>\n",
              "      <td>0.0</td>\n",
              "      <td>Ex</td>\n",
              "      <td>Gd</td>\n",
              "      <td>Stone</td>\n",
              "      <td>TA</td>\n",
              "      <td>Gd</td>\n",
              "      <td>No</td>\n",
              "      <td>GLQ</td>\n",
              "      <td>275</td>\n",
              "      <td>Unf</td>\n",
              "      <td>0</td>\n",
              "      <td>877</td>\n",
              "      <td>1152</td>\n",
              "      <td>GasA</td>\n",
              "      <td>Ex</td>\n",
              "      <td>Y</td>\n",
              "      <td>SBrkr</td>\n",
              "      <td>1188</td>\n",
              "      <td>1152</td>\n",
              "      <td>0</td>\n",
              "      <td>2340</td>\n",
              "      <td>0</td>\n",
              "      <td>0</td>\n",
              "      <td>2</td>\n",
              "      <td>0</td>\n",
              "      <td>4</td>\n",
              "      <td>1</td>\n",
              "      <td>Gd</td>\n",
              "      <td>9</td>\n",
              "      <td>Typ</td>\n",
              "      <td>2</td>\n",
              "      <td>Gd</td>\n",
              "      <td>Attchd</td>\n",
              "      <td>1941.0</td>\n",
              "      <td>RFn</td>\n",
              "      <td>1</td>\n",
              "      <td>252</td>\n",
              "      <td>TA</td>\n",
              "      <td>TA</td>\n",
              "      <td>Y</td>\n",
              "      <td>0</td>\n",
              "      <td>60</td>\n",
              "      <td>0</td>\n",
              "      <td>0</td>\n",
              "      <td>0</td>\n",
              "      <td>0</td>\n",
              "      <td>NaN</td>\n",
              "      <td>GdPrv</td>\n",
              "      <td>Shed</td>\n",
              "      <td>2500</td>\n",
              "      <td>5</td>\n",
              "      <td>2010</td>\n",
              "      <td>WD</td>\n",
              "      <td>Normal</td>\n",
              "      <td>266500</td>\n",
              "    </tr>\n",
              "    <tr>\n",
              "      <th>1458</th>\n",
              "      <td>1459</td>\n",
              "      <td>20</td>\n",
              "      <td>RL</td>\n",
              "      <td>68.0</td>\n",
              "      <td>9717</td>\n",
              "      <td>Pave</td>\n",
              "      <td>NaN</td>\n",
              "      <td>Reg</td>\n",
              "      <td>Lvl</td>\n",
              "      <td>AllPub</td>\n",
              "      <td>Inside</td>\n",
              "      <td>Gtl</td>\n",
              "      <td>NAmes</td>\n",
              "      <td>Norm</td>\n",
              "      <td>Norm</td>\n",
              "      <td>1Fam</td>\n",
              "      <td>1Story</td>\n",
              "      <td>5</td>\n",
              "      <td>6</td>\n",
              "      <td>1950</td>\n",
              "      <td>1996</td>\n",
              "      <td>Hip</td>\n",
              "      <td>CompShg</td>\n",
              "      <td>MetalSd</td>\n",
              "      <td>MetalSd</td>\n",
              "      <td>None</td>\n",
              "      <td>0.0</td>\n",
              "      <td>TA</td>\n",
              "      <td>TA</td>\n",
              "      <td>CBlock</td>\n",
              "      <td>TA</td>\n",
              "      <td>TA</td>\n",
              "      <td>Mn</td>\n",
              "      <td>GLQ</td>\n",
              "      <td>49</td>\n",
              "      <td>Rec</td>\n",
              "      <td>1029</td>\n",
              "      <td>0</td>\n",
              "      <td>1078</td>\n",
              "      <td>GasA</td>\n",
              "      <td>Gd</td>\n",
              "      <td>Y</td>\n",
              "      <td>FuseA</td>\n",
              "      <td>1078</td>\n",
              "      <td>0</td>\n",
              "      <td>0</td>\n",
              "      <td>1078</td>\n",
              "      <td>1</td>\n",
              "      <td>0</td>\n",
              "      <td>1</td>\n",
              "      <td>0</td>\n",
              "      <td>2</td>\n",
              "      <td>1</td>\n",
              "      <td>Gd</td>\n",
              "      <td>5</td>\n",
              "      <td>Typ</td>\n",
              "      <td>0</td>\n",
              "      <td>NaN</td>\n",
              "      <td>Attchd</td>\n",
              "      <td>1950.0</td>\n",
              "      <td>Unf</td>\n",
              "      <td>1</td>\n",
              "      <td>240</td>\n",
              "      <td>TA</td>\n",
              "      <td>TA</td>\n",
              "      <td>Y</td>\n",
              "      <td>366</td>\n",
              "      <td>0</td>\n",
              "      <td>112</td>\n",
              "      <td>0</td>\n",
              "      <td>0</td>\n",
              "      <td>0</td>\n",
              "      <td>NaN</td>\n",
              "      <td>NaN</td>\n",
              "      <td>NaN</td>\n",
              "      <td>0</td>\n",
              "      <td>4</td>\n",
              "      <td>2010</td>\n",
              "      <td>WD</td>\n",
              "      <td>Normal</td>\n",
              "      <td>142125</td>\n",
              "    </tr>\n",
              "    <tr>\n",
              "      <th>1459</th>\n",
              "      <td>1460</td>\n",
              "      <td>20</td>\n",
              "      <td>RL</td>\n",
              "      <td>75.0</td>\n",
              "      <td>9937</td>\n",
              "      <td>Pave</td>\n",
              "      <td>NaN</td>\n",
              "      <td>Reg</td>\n",
              "      <td>Lvl</td>\n",
              "      <td>AllPub</td>\n",
              "      <td>Inside</td>\n",
              "      <td>Gtl</td>\n",
              "      <td>Edwards</td>\n",
              "      <td>Norm</td>\n",
              "      <td>Norm</td>\n",
              "      <td>1Fam</td>\n",
              "      <td>1Story</td>\n",
              "      <td>5</td>\n",
              "      <td>6</td>\n",
              "      <td>1965</td>\n",
              "      <td>1965</td>\n",
              "      <td>Gable</td>\n",
              "      <td>CompShg</td>\n",
              "      <td>HdBoard</td>\n",
              "      <td>HdBoard</td>\n",
              "      <td>None</td>\n",
              "      <td>0.0</td>\n",
              "      <td>Gd</td>\n",
              "      <td>TA</td>\n",
              "      <td>CBlock</td>\n",
              "      <td>TA</td>\n",
              "      <td>TA</td>\n",
              "      <td>No</td>\n",
              "      <td>BLQ</td>\n",
              "      <td>830</td>\n",
              "      <td>LwQ</td>\n",
              "      <td>290</td>\n",
              "      <td>136</td>\n",
              "      <td>1256</td>\n",
              "      <td>GasA</td>\n",
              "      <td>Gd</td>\n",
              "      <td>Y</td>\n",
              "      <td>SBrkr</td>\n",
              "      <td>1256</td>\n",
              "      <td>0</td>\n",
              "      <td>0</td>\n",
              "      <td>1256</td>\n",
              "      <td>1</td>\n",
              "      <td>0</td>\n",
              "      <td>1</td>\n",
              "      <td>1</td>\n",
              "      <td>3</td>\n",
              "      <td>1</td>\n",
              "      <td>TA</td>\n",
              "      <td>6</td>\n",
              "      <td>Typ</td>\n",
              "      <td>0</td>\n",
              "      <td>NaN</td>\n",
              "      <td>Attchd</td>\n",
              "      <td>1965.0</td>\n",
              "      <td>Fin</td>\n",
              "      <td>1</td>\n",
              "      <td>276</td>\n",
              "      <td>TA</td>\n",
              "      <td>TA</td>\n",
              "      <td>Y</td>\n",
              "      <td>736</td>\n",
              "      <td>68</td>\n",
              "      <td>0</td>\n",
              "      <td>0</td>\n",
              "      <td>0</td>\n",
              "      <td>0</td>\n",
              "      <td>NaN</td>\n",
              "      <td>NaN</td>\n",
              "      <td>NaN</td>\n",
              "      <td>0</td>\n",
              "      <td>6</td>\n",
              "      <td>2008</td>\n",
              "      <td>WD</td>\n",
              "      <td>Normal</td>\n",
              "      <td>147500</td>\n",
              "    </tr>\n",
              "  </tbody>\n",
              "</table>\n",
              "<p>1460 rows × 81 columns</p>\n",
              "</div>\n",
              "      <button class=\"colab-df-convert\" onclick=\"convertToInteractive('df-f1cdafc8-3169-403a-9a3a-c458237902a3')\"\n",
              "              title=\"Convert this dataframe to an interactive table.\"\n",
              "              style=\"display:none;\">\n",
              "        \n",
              "  <svg xmlns=\"http://www.w3.org/2000/svg\" height=\"24px\"viewBox=\"0 0 24 24\"\n",
              "       width=\"24px\">\n",
              "    <path d=\"M0 0h24v24H0V0z\" fill=\"none\"/>\n",
              "    <path d=\"M18.56 5.44l.94 2.06.94-2.06 2.06-.94-2.06-.94-.94-2.06-.94 2.06-2.06.94zm-11 1L8.5 8.5l.94-2.06 2.06-.94-2.06-.94L8.5 2.5l-.94 2.06-2.06.94zm10 10l.94 2.06.94-2.06 2.06-.94-2.06-.94-.94-2.06-.94 2.06-2.06.94z\"/><path d=\"M17.41 7.96l-1.37-1.37c-.4-.4-.92-.59-1.43-.59-.52 0-1.04.2-1.43.59L10.3 9.45l-7.72 7.72c-.78.78-.78 2.05 0 2.83L4 21.41c.39.39.9.59 1.41.59.51 0 1.02-.2 1.41-.59l7.78-7.78 2.81-2.81c.8-.78.8-2.07 0-2.86zM5.41 20L4 18.59l7.72-7.72 1.47 1.35L5.41 20z\"/>\n",
              "  </svg>\n",
              "      </button>\n",
              "      \n",
              "  <style>\n",
              "    .colab-df-container {\n",
              "      display:flex;\n",
              "      flex-wrap:wrap;\n",
              "      gap: 12px;\n",
              "    }\n",
              "\n",
              "    .colab-df-convert {\n",
              "      background-color: #E8F0FE;\n",
              "      border: none;\n",
              "      border-radius: 50%;\n",
              "      cursor: pointer;\n",
              "      display: none;\n",
              "      fill: #1967D2;\n",
              "      height: 32px;\n",
              "      padding: 0 0 0 0;\n",
              "      width: 32px;\n",
              "    }\n",
              "\n",
              "    .colab-df-convert:hover {\n",
              "      background-color: #E2EBFA;\n",
              "      box-shadow: 0px 1px 2px rgba(60, 64, 67, 0.3), 0px 1px 3px 1px rgba(60, 64, 67, 0.15);\n",
              "      fill: #174EA6;\n",
              "    }\n",
              "\n",
              "    [theme=dark] .colab-df-convert {\n",
              "      background-color: #3B4455;\n",
              "      fill: #D2E3FC;\n",
              "    }\n",
              "\n",
              "    [theme=dark] .colab-df-convert:hover {\n",
              "      background-color: #434B5C;\n",
              "      box-shadow: 0px 1px 3px 1px rgba(0, 0, 0, 0.15);\n",
              "      filter: drop-shadow(0px 1px 2px rgba(0, 0, 0, 0.3));\n",
              "      fill: #FFFFFF;\n",
              "    }\n",
              "  </style>\n",
              "\n",
              "      <script>\n",
              "        const buttonEl =\n",
              "          document.querySelector('#df-f1cdafc8-3169-403a-9a3a-c458237902a3 button.colab-df-convert');\n",
              "        buttonEl.style.display =\n",
              "          google.colab.kernel.accessAllowed ? 'block' : 'none';\n",
              "\n",
              "        async function convertToInteractive(key) {\n",
              "          const element = document.querySelector('#df-f1cdafc8-3169-403a-9a3a-c458237902a3');\n",
              "          const dataTable =\n",
              "            await google.colab.kernel.invokeFunction('convertToInteractive',\n",
              "                                                     [key], {});\n",
              "          if (!dataTable) return;\n",
              "\n",
              "          const docLinkHtml = 'Like what you see? Visit the ' +\n",
              "            '<a target=\"_blank\" href=https://colab.research.google.com/notebooks/data_table.ipynb>data table notebook</a>'\n",
              "            + ' to learn more about interactive tables.';\n",
              "          element.innerHTML = '';\n",
              "          dataTable['output_type'] = 'display_data';\n",
              "          await google.colab.output.renderOutput(dataTable, element);\n",
              "          const docLink = document.createElement('div');\n",
              "          docLink.innerHTML = docLinkHtml;\n",
              "          element.appendChild(docLink);\n",
              "        }\n",
              "      </script>\n",
              "    </div>\n",
              "  </div>\n",
              "  "
            ]
          },
          "metadata": {},
          "execution_count": 8
        }
      ],
      "source": [
        "import pandas as pd\n",
        "pd.options.display.max_columns = 200\n",
        "pd.options.display.max_rows = 200\n",
        "\n",
        "prices_df = pd.read_csv('house-prices/train.csv')\n",
        "prices_df"
      ]
    },
    {
      "cell_type": "code",
      "execution_count": null,
      "id": "large-jacob",
      "metadata": {
        "colab": {
          "base_uri": "https://localhost:8080/"
        },
        "id": "large-jacob",
        "outputId": "0bb4a8eb-c341-4661-f100-fc40f52e6d41"
      },
      "outputs": [
        {
          "output_type": "stream",
          "name": "stderr",
          "text": [
            "/usr/local/lib/python3.8/dist-packages/sklearn/preprocessing/_encoders.py:828: FutureWarning: `sparse` was renamed to `sparse_output` in version 1.2 and will be removed in 1.4. `sparse_output` is ignored unless you leave `sparse` to its default value.\n",
            "  warnings.warn(\n",
            "/usr/local/lib/python3.8/dist-packages/pandas/core/frame.py:3678: PerformanceWarning: DataFrame is highly fragmented.  This is usually the result of calling `frame.insert` many times, which has poor performance.  Consider joining all columns at once using pd.concat(axis=1) instead.  To get a de-fragmented frame, use `newframe = frame.copy()`\n",
            "  self[col] = igetitem(value, i)\n"
          ]
        }
      ],
      "source": [
        "import numpy as np # importing the matrix or numerical calculation operations module\n",
        "from sklearn.impute import SimpleImputer # Filling the null values with statistics stratagies\n",
        "from sklearn.preprocessing import MinMaxScaler, OneHotEncoder # Scaling numerical values to (0,1) and Cat columns convert to Yes/No or 1/0\n",
        "from sklearn.model_selection import train_test_split # test & train data splitting test_train_spliter module\n",
        "\n",
        "# Identify input and target columns\n",
        "input_cols, target_col = prices_df.columns[1:-1], prices_df.columns[-1]\n",
        "inputs_df, targets = prices_df[input_cols].copy(), prices_df[target_col].copy()\n",
        "\n",
        "# Identify numeric and categorical columns\n",
        "numeric_cols = prices_df[input_cols].select_dtypes(include=np.number).columns.tolist()\n",
        "categorical_cols = prices_df[input_cols].select_dtypes(include='object').columns.tolist()\n",
        "\n",
        "# Impute and scale numeric columns\n",
        "imputer = SimpleImputer().fit(inputs_df[numeric_cols])\n",
        "inputs_df[numeric_cols] = imputer.transform(inputs_df[numeric_cols])\n",
        "scaler = MinMaxScaler().fit(inputs_df[numeric_cols])\n",
        "inputs_df[numeric_cols] = scaler.transform(inputs_df[numeric_cols])\n",
        "\n",
        "# One-hot encode categorical columns\n",
        "encoder = OneHotEncoder(sparse=False, handle_unknown='ignore').fit(inputs_df[categorical_cols])\n",
        "encoded_cols = list(encoder.get_feature_names_out(categorical_cols))\n",
        "inputs_df[encoded_cols] = encoder.transform(inputs_df[categorical_cols])\n",
        "\n",
        "# Create training and validation sets\n",
        "train_inputs, val_inputs, train_targets, val_targets = train_test_split(\n",
        "    inputs_df[numeric_cols + encoded_cols], targets, test_size=0.25, random_state=42)"
      ]
    },
    {
      "cell_type": "markdown",
      "id": "located-community",
      "metadata": {
        "id": "located-community"
      },
      "source": [
        "Let's save our work before continuing."
      ]
    },
    {
      "cell_type": "code",
      "execution_count": null,
      "id": "understood-hostel",
      "metadata": {
        "colab": {
          "base_uri": "https://localhost:8080/"
        },
        "id": "understood-hostel",
        "outputId": "724a0dd0-b133-44a3-dd8d-3cdf996b53a7"
      },
      "outputs": [
        {
          "output_type": "stream",
          "name": "stdout",
          "text": [
            "[jovian] Detected Colab notebook...\u001b[0m\n",
            "[jovian] jovian.commit() is no longer required on Google Colab. If you ran this notebook from Jovian, \n",
            "then just save this file in Colab using Ctrl+S/Cmd+S and it will be updated on Jovian. \n",
            "Also, you can also delete this cell, it's no longer necessary.\u001b[0m\n"
          ]
        }
      ],
      "source": [
        "jovian.commit()"
      ]
    },
    {
      "cell_type": "markdown",
      "id": "unnecessary-pressing",
      "metadata": {
        "id": "unnecessary-pressing"
      },
      "source": [
        "## Decision Tree\n"
      ]
    },
    {
      "cell_type": "markdown",
      "id": "express-morning",
      "metadata": {
        "id": "express-morning"
      },
      "source": [
        "> **QUESTION 1**: Train a decision tree regressor using the training set."
      ]
    },
    {
      "cell_type": "code",
      "execution_count": null,
      "id": "limited-aaron",
      "metadata": {
        "id": "limited-aaron"
      },
      "outputs": [],
      "source": [
        "from sklearn.tree import DecisionTreeRegressor"
      ]
    },
    {
      "cell_type": "code",
      "execution_count": null,
      "id": "champion-possibility",
      "metadata": {
        "id": "champion-possibility"
      },
      "outputs": [],
      "source": [
        "# Create the model\n",
        "tree = DecisionTreeRegressor(random_state=42)"
      ]
    },
    {
      "cell_type": "code",
      "execution_count": null,
      "id": "opposite-laptop",
      "metadata": {
        "colab": {
          "base_uri": "https://localhost:8080/",
          "height": 72
        },
        "id": "opposite-laptop",
        "outputId": "ce5b9069-0afb-4b0e-e741-5746916f64bd"
      },
      "outputs": [
        {
          "output_type": "execute_result",
          "data": {
            "text/plain": [
              "DecisionTreeRegressor(random_state=42)"
            ],
            "text/html": [
              "<style>#sk-container-id-1 {color: black;background-color: white;}#sk-container-id-1 pre{padding: 0;}#sk-container-id-1 div.sk-toggleable {background-color: white;}#sk-container-id-1 label.sk-toggleable__label {cursor: pointer;display: block;width: 100%;margin-bottom: 0;padding: 0.3em;box-sizing: border-box;text-align: center;}#sk-container-id-1 label.sk-toggleable__label-arrow:before {content: \"▸\";float: left;margin-right: 0.25em;color: #696969;}#sk-container-id-1 label.sk-toggleable__label-arrow:hover:before {color: black;}#sk-container-id-1 div.sk-estimator:hover label.sk-toggleable__label-arrow:before {color: black;}#sk-container-id-1 div.sk-toggleable__content {max-height: 0;max-width: 0;overflow: hidden;text-align: left;background-color: #f0f8ff;}#sk-container-id-1 div.sk-toggleable__content pre {margin: 0.2em;color: black;border-radius: 0.25em;background-color: #f0f8ff;}#sk-container-id-1 input.sk-toggleable__control:checked~div.sk-toggleable__content {max-height: 200px;max-width: 100%;overflow: auto;}#sk-container-id-1 input.sk-toggleable__control:checked~label.sk-toggleable__label-arrow:before {content: \"▾\";}#sk-container-id-1 div.sk-estimator input.sk-toggleable__control:checked~label.sk-toggleable__label {background-color: #d4ebff;}#sk-container-id-1 div.sk-label input.sk-toggleable__control:checked~label.sk-toggleable__label {background-color: #d4ebff;}#sk-container-id-1 input.sk-hidden--visually {border: 0;clip: rect(1px 1px 1px 1px);clip: rect(1px, 1px, 1px, 1px);height: 1px;margin: -1px;overflow: hidden;padding: 0;position: absolute;width: 1px;}#sk-container-id-1 div.sk-estimator {font-family: monospace;background-color: #f0f8ff;border: 1px dotted black;border-radius: 0.25em;box-sizing: border-box;margin-bottom: 0.5em;}#sk-container-id-1 div.sk-estimator:hover {background-color: #d4ebff;}#sk-container-id-1 div.sk-parallel-item::after {content: \"\";width: 100%;border-bottom: 1px solid gray;flex-grow: 1;}#sk-container-id-1 div.sk-label:hover label.sk-toggleable__label {background-color: #d4ebff;}#sk-container-id-1 div.sk-serial::before {content: \"\";position: absolute;border-left: 1px solid gray;box-sizing: border-box;top: 0;bottom: 0;left: 50%;z-index: 0;}#sk-container-id-1 div.sk-serial {display: flex;flex-direction: column;align-items: center;background-color: white;padding-right: 0.2em;padding-left: 0.2em;position: relative;}#sk-container-id-1 div.sk-item {position: relative;z-index: 1;}#sk-container-id-1 div.sk-parallel {display: flex;align-items: stretch;justify-content: center;background-color: white;position: relative;}#sk-container-id-1 div.sk-item::before, #sk-container-id-1 div.sk-parallel-item::before {content: \"\";position: absolute;border-left: 1px solid gray;box-sizing: border-box;top: 0;bottom: 0;left: 50%;z-index: -1;}#sk-container-id-1 div.sk-parallel-item {display: flex;flex-direction: column;z-index: 1;position: relative;background-color: white;}#sk-container-id-1 div.sk-parallel-item:first-child::after {align-self: flex-end;width: 50%;}#sk-container-id-1 div.sk-parallel-item:last-child::after {align-self: flex-start;width: 50%;}#sk-container-id-1 div.sk-parallel-item:only-child::after {width: 0;}#sk-container-id-1 div.sk-dashed-wrapped {border: 1px dashed gray;margin: 0 0.4em 0.5em 0.4em;box-sizing: border-box;padding-bottom: 0.4em;background-color: white;}#sk-container-id-1 div.sk-label label {font-family: monospace;font-weight: bold;display: inline-block;line-height: 1.2em;}#sk-container-id-1 div.sk-label-container {text-align: center;}#sk-container-id-1 div.sk-container {/* jupyter's `normalize.less` sets `[hidden] { display: none; }` but bootstrap.min.css set `[hidden] { display: none !important; }` so we also need the `!important` here to be able to override the default hidden behavior on the sphinx rendered scikit-learn.org. See: https://github.com/scikit-learn/scikit-learn/issues/21755 */display: inline-block !important;position: relative;}#sk-container-id-1 div.sk-text-repr-fallback {display: none;}</style><div id=\"sk-container-id-1\" class=\"sk-top-container\"><div class=\"sk-text-repr-fallback\"><pre>DecisionTreeRegressor(random_state=42)</pre><b>In a Jupyter environment, please rerun this cell to show the HTML representation or trust the notebook. <br />On GitHub, the HTML representation is unable to render, please try loading this page with nbviewer.org.</b></div><div class=\"sk-container\" hidden><div class=\"sk-item\"><div class=\"sk-estimator sk-toggleable\"><input class=\"sk-toggleable__control sk-hidden--visually\" id=\"sk-estimator-id-1\" type=\"checkbox\" checked><label for=\"sk-estimator-id-1\" class=\"sk-toggleable__label sk-toggleable__label-arrow\">DecisionTreeRegressor</label><div class=\"sk-toggleable__content\"><pre>DecisionTreeRegressor(random_state=42)</pre></div></div></div></div></div>"
            ]
          },
          "metadata": {},
          "execution_count": 13
        }
      ],
      "source": [
        "# Fit the model to the training data\n",
        "tree.fit(train_inputs,train_targets)"
      ]
    },
    {
      "cell_type": "code",
      "execution_count": null,
      "id": "welsh-jewel",
      "metadata": {
        "colab": {
          "base_uri": "https://localhost:8080/"
        },
        "id": "welsh-jewel",
        "outputId": "c7a769b8-c895-464a-d9ea-c73fbc4cd663"
      },
      "outputs": [
        {
          "output_type": "execute_result",
          "data": {
            "text/plain": [
              "array([1.095e+03, 9.200e+02, 6.760e+02, ..., 2.000e+00, 1.000e+00,\n",
              "       1.000e+00])"
            ]
          },
          "metadata": {},
          "execution_count": 14
        }
      ],
      "source": [
        "tree.get_depth()\n",
        "tree.get_n_leaves()\n",
        "tree.tree_.max_depth\n",
        "tree.tree_.max_n_classes\n",
        "tree.tree_.n_features\n",
        "tree.tree_.n_leaves\n",
        "tree.tree_.n_node_samples\n",
        "tree.tree_.n_outputs\n",
        "tree.tree_.weighted_n_node_samples"
      ]
    },
    {
      "cell_type": "markdown",
      "id": "geological-fusion",
      "metadata": {
        "id": "geological-fusion"
      },
      "source": [
        "Let's save our work before continuing."
      ]
    },
    {
      "cell_type": "code",
      "execution_count": null,
      "id": "progressive-eagle",
      "metadata": {
        "colab": {
          "base_uri": "https://localhost:8080/"
        },
        "id": "progressive-eagle",
        "outputId": "f8f65da3-d6fa-448f-c3a5-ccd80a0b2557"
      },
      "outputs": [
        {
          "output_type": "stream",
          "name": "stdout",
          "text": [
            "[jovian] Detected Colab notebook...\u001b[0m\n",
            "[jovian] jovian.commit() is no longer required on Google Colab. If you ran this notebook from Jovian, \n",
            "then just save this file in Colab using Ctrl+S/Cmd+S and it will be updated on Jovian. \n",
            "Also, you can also delete this cell, it's no longer necessary.\u001b[0m\n"
          ]
        }
      ],
      "source": [
        "jovian.commit()"
      ]
    },
    {
      "cell_type": "markdown",
      "id": "contrary-policy",
      "metadata": {
        "id": "contrary-policy"
      },
      "source": [
        "> **QUESTION 2**: Generate predictions on the training and validation sets using the trained decision tree, and compute the RMSE loss."
      ]
    },
    {
      "cell_type": "code",
      "execution_count": null,
      "id": "helpful-blake",
      "metadata": {
        "id": "helpful-blake"
      },
      "outputs": [],
      "source": [
        "from sklearn.metrics import mean_squared_error"
      ]
    },
    {
      "cell_type": "code",
      "execution_count": null,
      "id": "alien-november",
      "metadata": {
        "id": "alien-november"
      },
      "outputs": [],
      "source": [
        "tree_train_preds = tree.predict(train_inputs)"
      ]
    },
    {
      "cell_type": "code",
      "execution_count": null,
      "id": "received-producer",
      "metadata": {
        "id": "received-producer"
      },
      "outputs": [],
      "source": [
        "tree_train_rmse = mean_squared_error(tree_train_preds, train_targets)"
      ]
    },
    {
      "cell_type": "code",
      "execution_count": null,
      "id": "clinical-cameroon",
      "metadata": {
        "id": "clinical-cameroon"
      },
      "outputs": [],
      "source": [
        "tree_val_preds = tree.predict(val_inputs)"
      ]
    },
    {
      "cell_type": "code",
      "execution_count": null,
      "id": "sapphire-indie",
      "metadata": {
        "id": "sapphire-indie"
      },
      "outputs": [],
      "source": [
        "tree_val_rmse = mean_squared_error(tree_val_preds, val_targets)"
      ]
    },
    {
      "cell_type": "code",
      "execution_count": null,
      "id": "moving-program",
      "metadata": {
        "colab": {
          "base_uri": "https://localhost:8080/"
        },
        "id": "moving-program",
        "outputId": "06eaaf89-343f-4330-d6b6-20841eb37789"
      },
      "outputs": [
        {
          "output_type": "stream",
          "name": "stdout",
          "text": [
            "Train RMSE: 0.0, Validation RMSE: 1429057134.4054794\n"
          ]
        }
      ],
      "source": [
        "print('Train RMSE: {}, Validation RMSE: {}'.format(tree_train_rmse, tree_val_rmse))"
      ]
    },
    {
      "cell_type": "code",
      "execution_count": null,
      "id": "thirty-first",
      "metadata": {
        "colab": {
          "base_uri": "https://localhost:8080/"
        },
        "id": "thirty-first",
        "outputId": "2359db25-9bcb-4d64-d757-0791e6d5e2a5"
      },
      "outputs": [
        {
          "output_type": "execute_result",
          "data": {
            "text/plain": [
              "0.7960036989476907"
            ]
          },
          "metadata": {},
          "execution_count": 22
        }
      ],
      "source": [
        "tree.score(val_inputs, val_targets)"
      ]
    },
    {
      "cell_type": "markdown",
      "id": "handled-dictionary",
      "metadata": {
        "id": "handled-dictionary"
      },
      "source": [
        "Let's save our work before continuing."
      ]
    },
    {
      "cell_type": "code",
      "execution_count": null,
      "id": "certified-trader",
      "metadata": {
        "colab": {
          "base_uri": "https://localhost:8080/"
        },
        "id": "certified-trader",
        "outputId": "680603dc-a482-405e-e891-1608dca600e9"
      },
      "outputs": [
        {
          "output_type": "stream",
          "name": "stdout",
          "text": [
            "[jovian] Detected Colab notebook...\u001b[0m\n",
            "[jovian] jovian.commit() is no longer required on Google Colab. If you ran this notebook from Jovian, \n",
            "then just save this file in Colab using Ctrl+S/Cmd+S and it will be updated on Jovian. \n",
            "Also, you can also delete this cell, it's no longer necessary.\u001b[0m\n"
          ]
        }
      ],
      "source": [
        "jovian.commit()"
      ]
    },
    {
      "cell_type": "markdown",
      "id": "russian-wheat",
      "metadata": {
        "id": "russian-wheat"
      },
      "source": [
        "> **QUESTION 3**: Visualize the decision tree (graphically and textually) and display feature importances as a graph. Limit the maximum depth of graphical visualization to 3 levels."
      ]
    },
    {
      "cell_type": "code",
      "execution_count": null,
      "id": "moved-hobby",
      "metadata": {
        "id": "moved-hobby"
      },
      "outputs": [],
      "source": [
        "import matplotlib.pyplot as plt\n",
        "from sklearn.tree import plot_tree, export_text\n",
        "import seaborn as sns\n",
        "sns.set_style('darkgrid')\n",
        "%matplotlib inline"
      ]
    },
    {
      "cell_type": "code",
      "execution_count": null,
      "id": "foreign-mills",
      "metadata": {
        "colab": {
          "base_uri": "https://localhost:8080/",
          "height": 1000
        },
        "id": "foreign-mills",
        "outputId": "2d17fe8c-06d5-4348-f0e0-d8b0df6c6ff5"
      },
      "outputs": [
        {
          "output_type": "stream",
          "name": "stdout",
          "text": [
            "CPU times: user 5.49 s, sys: 787 ms, total: 6.28 s\n",
            "Wall time: 8.34 s\n"
          ]
        },
        {
          "output_type": "execute_result",
          "data": {
            "text/plain": [
              "[Text(0.7406754646966828, 0.9761904761904762, 'x[3] <= 0.722\\nsquared_error = 6071445130.643\\nsamples = 1095\\nvalue = 181712.287'),\n",
              " Text(0.5369853990903352, 0.9285714285714286, 'x[3] <= 0.611\\nsquared_error = 2386768309.629\\nsamples = 920\\nvalue = 158805.621'),\n",
              " Text(0.32122315125688705, 0.8809523809523809, 'x[15] <= 0.197\\nsquared_error = 1454831415.59\\nsamples = 676\\nvalue = 141623.494'),\n",
              " Text(0.17707795282369146, 0.8333333333333334, 'x[11] <= 0.159\\nsquared_error = 833013851.825\\nsamples = 410\\nvalue = 125765.517'),\n",
              " Text(0.09017330621556474, 0.7857142857142857, 'x[3] <= 0.389\\nsquared_error = 609863629.779\\nsamples = 246\\nvalue = 112616.585'),\n",
              " Text(0.02911214416896235, 0.7380952380952381, 'x[270] <= 0.5\\nsquared_error = 515266469.425\\nsamples = 72\\nvalue = 92995.139'),\n",
              " Text(0.019800275482093663, 0.6904761904761905, 'x[2] <= 0.042\\nsquared_error = 586865068.587\\nsamples = 27\\nvalue = 77975.926'),\n",
              " Text(0.014577594123048668, 0.6428571428571429, 'x[225] <= 0.5\\nsquared_error = 392714782.609\\nsamples = 23\\nvalue = 71700.0'),\n",
              " Text(0.008723599632690543, 0.5952380952380952, 'x[5] <= 0.54\\nsquared_error = 266192430.556\\nsamples = 12\\nvalue = 59258.333'),\n",
              " Text(0.006427915518824609, 0.5476190476190477, 'x[298] <= 0.5\\nsquared_error = 91757343.75\\nsamples = 8\\nvalue = 49262.5'),\n",
              " Text(0.004591368227731864, 0.5, 'x[67] <= 0.5\\nsquared_error = 48062500.0\\nsamples = 6\\nvalue = 53550.0'),\n",
              " Text(0.0036730945821854912, 0.4523809523809524, 'x[274] <= 0.5\\nsquared_error = 8940000.0\\nsamples = 5\\nvalue = 56400.0'),\n",
              " Text(0.0018365472910927456, 0.40476190476190477, 'x[43] <= 0.5\\nsquared_error = 1388888.889\\nsamples = 3\\nvalue = 54166.667'),\n",
              " Text(0.0009182736455463728, 0.35714285714285715, 'squared_error = 0.0\\nsamples = 2\\nvalue = 55000.0'),\n",
              " Text(0.0027548209366391185, 0.35714285714285715, 'squared_error = 0.0\\nsamples = 1\\nvalue = 52500.0'),\n",
              " Text(0.005509641873278237, 0.40476190476190477, 'x[189] <= 0.5\\nsquared_error = 1562500.0\\nsamples = 2\\nvalue = 59750.0'),\n",
              " Text(0.004591368227731864, 0.35714285714285715, 'squared_error = 0.0\\nsamples = 1\\nvalue = 61000.0'),\n",
              " Text(0.006427915518824609, 0.35714285714285715, 'squared_error = 0.0\\nsamples = 1\\nvalue = 58500.0'),\n",
              " Text(0.005509641873278237, 0.4523809523809524, 'squared_error = 0.0\\nsamples = 1\\nvalue = 39300.0'),\n",
              " Text(0.008264462809917356, 0.5, 'x[13] <= 0.089\\nsquared_error = 2250000.0\\nsamples = 2\\nvalue = 36400.0'),\n",
              " Text(0.0073461891643709825, 0.4523809523809524, 'squared_error = 0.0\\nsamples = 1\\nvalue = 34900.0'),\n",
              " Text(0.009182736455463728, 0.4523809523809524, 'squared_error = 0.0\\nsamples = 1\\nvalue = 37900.0'),\n",
              " Text(0.011019283746556474, 0.5476190476190477, 'x[91] <= 0.5\\nsquared_error = 15562500.0\\nsamples = 4\\nvalue = 79250.0'),\n",
              " Text(0.010101010101010102, 0.5, 'squared_error = 0.0\\nsamples = 1\\nvalue = 72500.0'),\n",
              " Text(0.011937557392102846, 0.5, 'x[35] <= 0.25\\nsquared_error = 500000.0\\nsamples = 3\\nvalue = 81500.0'),\n",
              " Text(0.011019283746556474, 0.4523809523809524, 'squared_error = 0.0\\nsamples = 1\\nvalue = 80500.0'),\n",
              " Text(0.012855831037649219, 0.4523809523809524, 'squared_error = 0.0\\nsamples = 2\\nvalue = 82000.0'),\n",
              " Text(0.020431588613406795, 0.5952380952380952, 'x[237] <= 0.5\\nsquared_error = 177652892.562\\nsamples = 11\\nvalue = 85272.727'),\n",
              " Text(0.019513314967860424, 0.5476190476190477, 'x[23] <= 0.167\\nsquared_error = 73640000.0\\nsamples = 10\\nvalue = 88600.0'),\n",
              " Text(0.016988062442607896, 0.5, 'x[2] <= 0.027\\nsquared_error = 38122448.98\\nsamples = 7\\nvalue = 84142.857'),\n",
              " Text(0.014692378328741965, 0.4523809523809524, 'x[1] <= 0.11\\nsquared_error = 9340000.0\\nsamples = 5\\nvalue = 80900.0'),\n",
              " Text(0.012855831037649219, 0.40476190476190477, 'x[180] <= 0.5\\nsquared_error = 3500000.0\\nsamples = 3\\nvalue = 83000.0'),\n",
              " Text(0.011937557392102846, 0.35714285714285715, 'x[8] <= 0.069\\nsquared_error = 562500.0\\nsamples = 2\\nvalue = 81750.0'),\n",
              " Text(0.011019283746556474, 0.30952380952380953, 'squared_error = 0.0\\nsamples = 1\\nvalue = 82500.0'),\n",
              " Text(0.012855831037649219, 0.30952380952380953, 'squared_error = 0.0\\nsamples = 1\\nvalue = 81000.0'),\n",
              " Text(0.013774104683195593, 0.35714285714285715, 'squared_error = 0.0\\nsamples = 1\\nvalue = 85500.0'),\n",
              " Text(0.01652892561983471, 0.40476190476190477, 'x[8] <= 0.048\\nsquared_error = 1562500.0\\nsamples = 2\\nvalue = 77750.0'),\n",
              " Text(0.015610651974288337, 0.35714285714285715, 'squared_error = 0.0\\nsamples = 1\\nvalue = 76500.0'),\n",
              " Text(0.017447199265381085, 0.35714285714285715, 'squared_error = 0.0\\nsamples = 1\\nvalue = 79000.0'),\n",
              " Text(0.01928374655647383, 0.4523809523809524, 'x[204] <= 0.5\\nsquared_error = 18062500.0\\nsamples = 2\\nvalue = 92250.0'),\n",
              " Text(0.018365472910927456, 0.40476190476190477, 'squared_error = 0.0\\nsamples = 1\\nvalue = 88000.0'),\n",
              " Text(0.020202020202020204, 0.40476190476190477, 'squared_error = 0.0\\nsamples = 1\\nvalue = 96500.0'),\n",
              " Text(0.02203856749311295, 0.5, 'x[106] <= 0.5\\nsquared_error = 2000000.0\\nsamples = 3\\nvalue = 99000.0'),\n",
              " Text(0.021120293847566574, 0.4523809523809524, 'squared_error = 0.0\\nsamples = 1\\nvalue = 97000.0'),\n",
              " Text(0.02295684113865932, 0.4523809523809524, 'squared_error = 0.0\\nsamples = 2\\nvalue = 100000.0'),\n",
              " Text(0.02134986225895317, 0.5476190476190477, 'squared_error = 0.0\\nsamples = 1\\nvalue = 52000.0'),\n",
              " Text(0.025022956841138658, 0.6428571428571429, 'x[133] <= 0.5\\nsquared_error = 174511718.75\\nsamples = 4\\nvalue = 114062.5'),\n",
              " Text(0.024104683195592287, 0.5952380952380952, 'x[2] <= 0.044\\nsquared_error = 37847222.222\\nsamples = 3\\nvalue = 107083.333'),\n",
              " Text(0.023186409550045913, 0.5476190476190477, 'squared_error = 0.0\\nsamples = 1\\nvalue = 115000.0'),\n",
              " Text(0.025022956841138658, 0.5476190476190477, 'x[261] <= 0.5\\nsquared_error = 9765625.0\\nsamples = 2\\nvalue = 103125.0'),\n",
              " Text(0.024104683195592287, 0.5, 'squared_error = 0.0\\nsamples = 1\\nvalue = 106250.0'),\n",
              " Text(0.02594123048668503, 0.5, 'squared_error = 0.0\\nsamples = 1\\nvalue = 100000.0'),\n",
              " Text(0.02594123048668503, 0.5952380952380952, 'squared_error = 0.0\\nsamples = 1\\nvalue = 135000.0'),\n",
              " Text(0.03842401285583104, 0.6904761904761905, 'x[20] <= 0.188\\nsquared_error = 255753622.222\\nsamples = 45\\nvalue = 102006.667'),\n",
              " Text(0.02869605142332415, 0.6428571428571429, 'x[225] <= 0.5\\nsquared_error = 83069600.0\\nsamples = 5\\nvalue = 77680.0'),\n",
              " Text(0.027777777777777776, 0.5952380952380952, 'squared_error = 0.0\\nsamples = 1\\nvalue = 60000.0'),\n",
              " Text(0.029614325068870524, 0.5952380952380952, 'x[8] <= 0.091\\nsquared_error = 6155000.0\\nsamples = 4\\nvalue = 82100.0'),\n",
              " Text(0.02869605142332415, 0.5476190476190477, 'x[1] <= 0.137\\nsquared_error = 1446666.667\\nsamples = 3\\nvalue = 80800.0'),\n",
              " Text(0.027777777777777776, 0.5, 'x[177] <= 0.5\\nsquared_error = 2500.0\\nsamples = 2\\nvalue = 79950.0'),\n",
              " Text(0.026859504132231406, 0.4523809523809524, 'squared_error = 0.0\\nsamples = 1\\nvalue = 79900.0'),\n",
              " Text(0.02869605142332415, 0.4523809523809524, 'squared_error = 0.0\\nsamples = 1\\nvalue = 80000.0'),\n",
              " Text(0.029614325068870524, 0.5, 'squared_error = 0.0\\nsamples = 1\\nvalue = 82500.0'),\n",
              " Text(0.030532598714416895, 0.5476190476190477, 'squared_error = 0.0\\nsamples = 1\\nvalue = 86000.0'),\n",
              " Text(0.04815197428833792, 0.6428571428571429, 'x[4] <= 0.562\\nsquared_error = 194119118.75\\nsamples = 40\\nvalue = 105047.5'),\n",
              " Text(0.03753443526170799, 0.5952380952380952, 'x[35] <= 0.625\\nsquared_error = 143735138.889\\nsamples = 24\\nvalue = 99408.333'),\n",
              " Text(0.03236914600550964, 0.5476190476190477, 'x[194] <= 0.5\\nsquared_error = 87680972.222\\nsamples = 12\\nvalue = 106533.333'),\n",
              " Text(0.03145087235996327, 0.5, 'x[253] <= 0.5\\nsquared_error = 45594008.264\\nsamples = 11\\nvalue = 104490.909'),\n",
              " Text(0.030532598714416895, 0.4523809523809524, 'x[274] <= 0.5\\nsquared_error = 27054900.0\\nsamples = 10\\nvalue = 105940.0'),\n",
              " Text(0.028236914600550965, 0.40476190476190477, 'x[11] <= 0.138\\nsquared_error = 6890625.0\\nsamples = 2\\nvalue = 97375.0'),\n",
              " Text(0.02731864095500459, 0.35714285714285715, 'squared_error = 0.0\\nsamples = 1\\nvalue = 100000.0'),\n",
              " Text(0.029155188246097336, 0.35714285714285715, 'squared_error = 0.0\\nsamples = 1\\nvalue = 94750.0'),\n",
              " Text(0.03282828282828283, 0.40476190476190477, 'x[22] <= 0.292\\nsquared_error = 9171210.938\\nsamples = 8\\nvalue = 108081.25'),\n",
              " Text(0.030991735537190084, 0.35714285714285715, 'x[10] <= 0.232\\nsquared_error = 947600.0\\nsamples = 5\\nvalue = 110130.0'),\n",
              " Text(0.03007346189164371, 0.30952380952380953, 'x[120] <= 0.5\\nsquared_error = 354218.75\\nsamples = 4\\nvalue = 110537.5'),\n",
              " Text(0.028236914600550965, 0.2619047619047619, 'x[166] <= 0.5\\nsquared_error = 15625.0\\nsamples = 2\\nvalue = 111125.0'),\n",
              " Text(0.02731864095500459, 0.21428571428571427, 'squared_error = 0.0\\nsamples = 1\\nvalue = 111000.0'),\n",
              " Text(0.029155188246097336, 0.21428571428571427, 'squared_error = 0.0\\nsamples = 1\\nvalue = 111250.0'),\n",
              " Text(0.031910009182736454, 0.2619047619047619, 'x[71] <= 0.5\\nsquared_error = 2500.0\\nsamples = 2\\nvalue = 109950.0'),\n",
              " Text(0.030991735537190084, 0.21428571428571427, 'squared_error = 0.0\\nsamples = 1\\nvalue = 109900.0'),\n",
              " Text(0.03282828282828283, 0.21428571428571427, 'squared_error = 0.0\\nsamples = 1\\nvalue = 110000.0'),\n",
              " Text(0.031910009182736454, 0.30952380952380953, 'squared_error = 0.0\\nsamples = 1\\nvalue = 108500.0'),\n",
              " Text(0.03466483011937557, 0.35714285714285715, 'x[10] <= 0.144\\nsquared_error = 4222222.222\\nsamples = 3\\nvalue = 104666.667'),\n",
              " Text(0.0337465564738292, 0.30952380952380953, 'squared_error = 0.0\\nsamples = 1\\nvalue = 102000.0'),\n",
              " Text(0.03558310376492195, 0.30952380952380953, 'x[27] <= 0.126\\nsquared_error = 1000000.0\\nsamples = 2\\nvalue = 106000.0'),\n",
              " Text(0.03466483011937557, 0.2619047619047619, 'squared_error = 0.0\\nsamples = 1\\nvalue = 107000.0'),\n",
              " Text(0.03650137741046832, 0.2619047619047619, 'squared_error = 0.0\\nsamples = 1\\nvalue = 105000.0'),\n",
              " Text(0.03236914600550964, 0.4523809523809524, 'squared_error = 0.0\\nsamples = 1\\nvalue = 90000.0'),\n",
              " Text(0.03328741965105601, 0.5, 'squared_error = 0.0\\nsamples = 1\\nvalue = 129000.0'),\n",
              " Text(0.04269972451790634, 0.5476190476190477, 'x[12] <= 0.118\\nsquared_error = 98258055.556\\nsamples = 12\\nvalue = 92283.333'),\n",
              " Text(0.03787878787878788, 0.5, 'x[1] <= 0.067\\nsquared_error = 13645833.333\\nsamples = 6\\nvalue = 84750.0'),\n",
              " Text(0.03558310376492195, 0.4523809523809524, 'x[4] <= 0.438\\nsquared_error = 2250000.0\\nsamples = 2\\nvalue = 89500.0'),\n",
              " Text(0.03466483011937557, 0.40476190476190477, 'squared_error = 0.0\\nsamples = 1\\nvalue = 88000.0'),\n",
              " Text(0.03650137741046832, 0.40476190476190477, 'squared_error = 0.0\\nsamples = 1\\nvalue = 91000.0'),\n",
              " Text(0.04017447199265381, 0.4523809523809524, 'x[20] <= 0.312\\nsquared_error = 2421875.0\\nsamples = 4\\nvalue = 82375.0'),\n",
              " Text(0.03833792470156107, 0.40476190476190477, 'x[274] <= 0.5\\nsquared_error = 1000000.0\\nsamples = 2\\nvalue = 81000.0'),\n",
              " Text(0.03741965105601469, 0.35714285714285715, 'squared_error = 0.0\\nsamples = 1\\nvalue = 82000.0'),\n",
              " Text(0.03925619834710744, 0.35714285714285715, 'squared_error = 0.0\\nsamples = 1\\nvalue = 80000.0'),\n",
              " Text(0.04201101928374656, 0.40476190476190477, 'x[138] <= 0.5\\nsquared_error = 62500.0\\nsamples = 2\\nvalue = 83750.0'),\n",
              " Text(0.04109274563820019, 0.35714285714285715, 'squared_error = 0.0\\nsamples = 1\\nvalue = 84000.0'),\n",
              " Text(0.04292929292929293, 0.35714285714285715, 'squared_error = 0.0\\nsamples = 1\\nvalue = 83500.0'),\n",
              " Text(0.047520661157024795, 0.5, 'x[224] <= 0.5\\nsquared_error = 69368055.556\\nsamples = 6\\nvalue = 99816.667'),\n",
              " Text(0.044765840220385676, 0.4523809523809524, 'x[219] <= 0.5\\nsquared_error = 13555555.556\\nsamples = 3\\nvalue = 107666.667'),\n",
              " Text(0.0438475665748393, 0.40476190476190477, 'squared_error = 0.0\\nsamples = 1\\nvalue = 103000.0'),\n",
              " Text(0.04568411386593205, 0.40476190476190477, 'x[192] <= 0.5\\nsquared_error = 4000000.0\\nsamples = 2\\nvalue = 110000.0'),\n",
              " Text(0.044765840220385676, 0.35714285714285715, 'squared_error = 0.0\\nsamples = 1\\nvalue = 108000.0'),\n",
              " Text(0.04660238751147842, 0.35714285714285715, 'squared_error = 0.0\\nsamples = 1\\nvalue = 112000.0'),\n",
              " Text(0.05027548209366391, 0.4523809523809524, 'x[227] <= 0.5\\nsquared_error = 1935555.556\\nsamples = 3\\nvalue = 91966.667'),\n",
              " Text(0.049357208448117536, 0.40476190476190477, 'x[60] <= 0.5\\nsquared_error = 2500.0\\nsamples = 2\\nvalue = 92950.0'),\n",
              " Text(0.048438934802571165, 0.35714285714285715, 'squared_error = 0.0\\nsamples = 1\\nvalue = 92900.0'),\n",
              " Text(0.05027548209366391, 0.35714285714285715, 'squared_error = 0.0\\nsamples = 1\\nvalue = 93000.0'),\n",
              " Text(0.051193755739210284, 0.40476190476190477, 'squared_error = 0.0\\nsamples = 1\\nvalue = 90000.0'),\n",
              " Text(0.05876951331496786, 0.5952380952380952, 'x[26] <= 0.16\\nsquared_error = 150444335.938\\nsamples = 16\\nvalue = 113506.25'),\n",
              " Text(0.05785123966942149, 0.5476190476190477, 'squared_error = 0.0\\nsamples = 1\\nvalue = 80000.0'),\n",
              " Text(0.05968778696051423, 0.5476190476190477, 'x[1] <= 0.166\\nsquared_error = 80639733.333\\nsamples = 15\\nvalue = 115740.0'),\n",
              " Text(0.05716253443526171, 0.5, 'x[73] <= 0.5\\nsquared_error = 50739669.421\\nsamples = 11\\nvalue = 119281.818'),\n",
              " Text(0.05486685032139577, 0.4523809523809524, 'x[203] <= 0.5\\nsquared_error = 22571358.025\\nsamples = 9\\nvalue = 121955.556'),\n",
              " Text(0.05303030303030303, 0.40476190476190477, 'x[22] <= 0.208\\nsquared_error = 13419591.837\\nsamples = 7\\nvalue = 123657.143'),\n",
              " Text(0.052112029384756654, 0.35714285714285715, 'squared_error = 0.0\\nsamples = 1\\nvalue = 129500.0'),\n",
              " Text(0.0539485766758494, 0.35714285714285715, 'x[15] <= 0.178\\nsquared_error = 9018055.556\\nsamples = 6\\nvalue = 122683.333'),\n",
              " Text(0.052112029384756654, 0.30952380952380953, 'x[67] <= 0.5\\nsquared_error = 342500.0\\nsamples = 4\\nvalue = 120650.0'),\n",
              " Text(0.051193755739210284, 0.2619047619047619, 'x[141] <= 0.5\\nsquared_error = 55555.556\\nsamples = 3\\nvalue = 120333.333'),\n",
              " Text(0.05027548209366391, 0.21428571428571427, 'squared_error = 0.0\\nsamples = 2\\nvalue = 120500.0'),\n",
              " Text(0.052112029384756654, 0.21428571428571427, 'squared_error = 0.0\\nsamples = 1\\nvalue = 120000.0'),\n",
              " Text(0.05303030303030303, 0.2619047619047619, 'squared_error = 0.0\\nsamples = 1\\nvalue = 121600.0'),\n",
              " Text(0.05578512396694215, 0.30952380952380953, 'x[11] <= 0.106\\nsquared_error = 1562500.0\\nsamples = 2\\nvalue = 126750.0'),\n",
              " Text(0.05486685032139577, 0.2619047619047619, 'squared_error = 0.0\\nsamples = 1\\nvalue = 125500.0'),\n",
              " Text(0.05670339761248852, 0.2619047619047619, 'squared_error = 0.0\\nsamples = 1\\nvalue = 128000.0'),\n",
              " Text(0.05670339761248852, 0.40476190476190477, 'x[162] <= 0.5\\nsquared_error = 9000000.0\\nsamples = 2\\nvalue = 116000.0'),\n",
              " Text(0.05578512396694215, 0.35714285714285715, 'squared_error = 0.0\\nsamples = 1\\nvalue = 113000.0'),\n",
              " Text(0.05762167125803489, 0.35714285714285715, 'squared_error = 0.0\\nsamples = 1\\nvalue = 119000.0'),\n",
              " Text(0.05945821854912764, 0.4523809523809524, 'x[221] <= 0.5\\nsquared_error = 562500.0\\nsamples = 2\\nvalue = 107250.0'),\n",
              " Text(0.05853994490358127, 0.40476190476190477, 'squared_error = 0.0\\nsamples = 1\\nvalue = 106500.0'),\n",
              " Text(0.06037649219467401, 0.40476190476190477, 'squared_error = 0.0\\nsamples = 1\\nvalue = 108000.0'),\n",
              " Text(0.06221303948576676, 0.5, 'x[302] <= 0.5\\nsquared_error = 33500000.0\\nsamples = 4\\nvalue = 106000.0'),\n",
              " Text(0.06129476584022039, 0.4523809523809524, 'squared_error = 0.0\\nsamples = 1\\nvalue = 97000.0'),\n",
              " Text(0.06313131313131314, 0.4523809523809524, 'x[258] <= 0.5\\nsquared_error = 8666666.667\\nsamples = 3\\nvalue = 109000.0'),\n",
              " Text(0.06221303948576676, 0.40476190476190477, 'squared_error = 0.0\\nsamples = 1\\nvalue = 105000.0'),\n",
              " Text(0.0640495867768595, 0.40476190476190477, 'x[5] <= 0.496\\nsquared_error = 1000000.0\\nsamples = 2\\nvalue = 111000.0'),\n",
              " Text(0.06313131313131314, 0.35714285714285715, 'squared_error = 0.0\\nsamples = 1\\nvalue = 112000.0'),\n",
              " Text(0.06496786042240588, 0.35714285714285715, 'squared_error = 0.0\\nsamples = 1\\nvalue = 110000.0'),\n",
              " Text(0.15123446826216713, 0.7380952380952381, 'x[26] <= 0.294\\nsquared_error = 423774735.812\\nsamples = 174\\nvalue = 120735.805'),\n",
              " Text(0.1175820707070707, 0.6904761904761905, 'x[1] <= 0.137\\nsquared_error = 308532076.271\\nsamples = 104\\nvalue = 112550.837'),\n",
              " Text(0.09069387052341597, 0.6428571428571429, 'x[12] <= 0.076\\nsquared_error = 257852502.378\\nsamples = 62\\nvalue = 105767.532'),\n",
              " Text(0.07231404958677685, 0.5952380952380952, 'x[26] <= 0.192\\nsquared_error = 91801683.673\\nsamples = 14\\nvalue = 91921.429'),\n",
              " Text(0.06955922865013774, 0.5476190476190477, 'x[34] <= 0.773\\nsquared_error = 38490400.0\\nsamples = 10\\nvalue = 87340.0'),\n",
              " Text(0.06864095500459137, 0.5, 'x[5] <= 0.351\\nsquared_error = 22980000.0\\nsamples = 9\\nvalue = 85933.333'),\n",
              " Text(0.06680440771349862, 0.4523809523809524, 'x[11] <= 0.103\\nsquared_error = 2250000.0\\nsamples = 2\\nvalue = 79500.0'),\n",
              " Text(0.06588613406795225, 0.40476190476190477, 'squared_error = 0.0\\nsamples = 1\\nvalue = 78000.0'),\n",
              " Text(0.067722681359045, 0.40476190476190477, 'squared_error = 0.0\\nsamples = 1\\nvalue = 81000.0'),\n",
              " Text(0.07047750229568411, 0.4523809523809524, 'x[2] <= 0.031\\nsquared_error = 13699183.673\\nsamples = 7\\nvalue = 87771.429'),\n",
              " Text(0.06955922865013774, 0.40476190476190477, 'x[6] <= 0.367\\nsquared_error = 5822222.222\\nsamples = 6\\nvalue = 86566.667'),\n",
              " Text(0.067722681359045, 0.35714285714285715, 'x[289] <= 0.5\\nsquared_error = 2501875.0\\nsamples = 4\\nvalue = 87975.0'),\n",
              " Text(0.06680440771349862, 0.30952380952380953, 'x[204] <= 0.5\\nsquared_error = 388888.889\\nsamples = 3\\nvalue = 88833.333'),\n",
              " Text(0.06588613406795225, 0.2619047619047619, 'x[146] <= 0.5\\nsquared_error = 62500.0\\nsamples = 2\\nvalue = 89250.0'),\n",
              " Text(0.06496786042240588, 0.21428571428571427, 'squared_error = 0.0\\nsamples = 1\\nvalue = 89500.0'),\n",
              " Text(0.06680440771349862, 0.21428571428571427, 'squared_error = 0.0\\nsamples = 1\\nvalue = 89000.0'),\n",
              " Text(0.067722681359045, 0.2619047619047619, 'squared_error = 0.0\\nsamples = 1\\nvalue = 88000.0'),\n",
              " Text(0.06864095500459137, 0.30952380952380953, 'squared_error = 0.0\\nsamples = 1\\nvalue = 85400.0'),\n",
              " Text(0.07139577594123049, 0.35714285714285715, 'x[27] <= 0.073\\nsquared_error = 562500.0\\nsamples = 2\\nvalue = 83750.0'),\n",
              " Text(0.07047750229568411, 0.30952380952380953, 'squared_error = 0.0\\nsamples = 1\\nvalue = 84500.0'),\n",
              " Text(0.07231404958677685, 0.30952380952380953, 'squared_error = 0.0\\nsamples = 1\\nvalue = 83000.0'),\n",
              " Text(0.07139577594123049, 0.40476190476190477, 'squared_error = 0.0\\nsamples = 1\\nvalue = 95000.0'),\n",
              " Text(0.07047750229568411, 0.5, 'squared_error = 0.0\\nsamples = 1\\nvalue = 100000.0'),\n",
              " Text(0.07506887052341597, 0.5476190476190477, 'x[6] <= 0.358\\nsquared_error = 41421875.0\\nsamples = 4\\nvalue = 103375.0'),\n",
              " Text(0.07323232323232323, 0.5, 'x[34] <= 0.545\\nsquared_error = 9000000.0\\nsamples = 2\\nvalue = 109000.0'),\n",
              " Text(0.07231404958677685, 0.4523809523809524, 'squared_error = 0.0\\nsamples = 1\\nvalue = 112000.0'),\n",
              " Text(0.07415059687786961, 0.4523809523809524, 'squared_error = 0.0\\nsamples = 1\\nvalue = 106000.0'),\n",
              " Text(0.07690541781450873, 0.5, 'x[154] <= 0.5\\nsquared_error = 10562500.0\\nsamples = 2\\nvalue = 97750.0'),\n",
              " Text(0.07598714416896235, 0.4523809523809524, 'squared_error = 0.0\\nsamples = 1\\nvalue = 101000.0'),\n",
              " Text(0.07782369146005509, 0.4523809523809524, 'squared_error = 0.0\\nsamples = 1\\nvalue = 94500.0'),\n",
              " Text(0.10907369146005509, 0.5952380952380952, 'x[34] <= 0.955\\nsquared_error = 234058183.104\\nsamples = 48\\nvalue = 109805.979'),\n",
              " Text(0.10014921946740128, 0.5476190476190477, 'x[264] <= 0.5\\nsquared_error = 181706987.864\\nsamples = 46\\nvalue = 111332.696'),\n",
              " Text(0.08505509641873278, 0.5, 'x[274] <= 0.5\\nsquared_error = 261165312.5\\nsamples = 16\\nvalue = 102275.0'),\n",
              " Text(0.07966023875114785, 0.4523809523809524, 'x[34] <= 0.591\\nsquared_error = 36374000.0\\nsamples = 5\\nvalue = 84950.0'),\n",
              " Text(0.07782369146005509, 0.40476190476190477, 'x[177] <= 0.5\\nsquared_error = 3643888.889\\nsamples = 3\\nvalue = 89616.667'),\n",
              " Text(0.07690541781450873, 0.35714285714285715, 'squared_error = 0.0\\nsamples = 1\\nvalue = 87000.0'),\n",
              " Text(0.07874196510560147, 0.35714285714285715, 'x[255] <= 0.5\\nsquared_error = 330625.0\\nsamples = 2\\nvalue = 90925.0'),\n",
              " Text(0.07782369146005509, 0.30952380952380953, 'squared_error = 0.0\\nsamples = 1\\nvalue = 90350.0'),\n",
              " Text(0.07966023875114785, 0.30952380952380953, 'squared_error = 0.0\\nsamples = 1\\nvalue = 91500.0'),\n",
              " Text(0.08149678604224059, 0.40476190476190477, 'x[0] <= 0.162\\nsquared_error = 3802500.0\\nsamples = 2\\nvalue = 77950.0'),\n",
              " Text(0.08057851239669421, 0.35714285714285715, 'squared_error = 0.0\\nsamples = 1\\nvalue = 76000.0'),\n",
              " Text(0.08241505968778697, 0.35714285714285715, 'squared_error = 0.0\\nsamples = 1\\nvalue = 79900.0'),\n",
              " Text(0.09044995408631772, 0.4523809523809524, 'x[254] <= 0.5\\nsquared_error = 164893181.818\\nsamples = 11\\nvalue = 110150.0'),\n",
              " Text(0.08654729109274564, 0.40476190476190477, 'x[2] <= 0.023\\nsquared_error = 75402460.938\\nsamples = 8\\nvalue = 116081.25'),\n",
              " Text(0.0842516069788797, 0.35714285714285715, 'x[185] <= 0.5\\nsquared_error = 22835555.556\\nsamples = 3\\nvalue = 106633.333'),\n",
              " Text(0.08333333333333333, 0.30952380952380953, 'x[15] <= 0.093\\nsquared_error = 250000.0\\nsamples = 2\\nvalue = 110000.0'),\n",
              " Text(0.08241505968778697, 0.2619047619047619, 'squared_error = 0.0\\nsamples = 1\\nvalue = 109500.0'),\n",
              " Text(0.0842516069788797, 0.2619047619047619, 'squared_error = 0.0\\nsamples = 1\\nvalue = 110500.0'),\n",
              " Text(0.08516988062442608, 0.30952380952380953, 'squared_error = 0.0\\nsamples = 1\\nvalue = 99900.0'),\n",
              " Text(0.08884297520661157, 0.35714285714285715, 'x[3] <= 0.5\\nsquared_error = 21250000.0\\nsamples = 5\\nvalue = 121750.0'),\n",
              " Text(0.08700642791551882, 0.30952380952380953, 'x[281] <= 0.5\\nsquared_error = 1763888.889\\nsamples = 3\\nvalue = 118083.333'),\n",
              " Text(0.08608815426997245, 0.2619047619047619, 'x[17] <= 0.25\\nsquared_error = 562500.0\\nsamples = 2\\nvalue = 117250.0'),\n",
              " Text(0.08516988062442608, 0.21428571428571427, 'squared_error = 0.0\\nsamples = 1\\nvalue = 116500.0'),\n",
              " Text(0.08700642791551882, 0.21428571428571427, 'squared_error = 0.0\\nsamples = 1\\nvalue = 118000.0'),\n",
              " Text(0.0879247015610652, 0.2619047619047619, 'squared_error = 0.0\\nsamples = 1\\nvalue = 119750.0'),\n",
              " Text(0.09067952249770432, 0.30952380952380953, 'x[302] <= 0.5\\nsquared_error = 62500.0\\nsamples = 2\\nvalue = 127250.0'),\n",
              " Text(0.08976124885215794, 0.2619047619047619, 'squared_error = 0.0\\nsamples = 1\\nvalue = 127500.0'),\n",
              " Text(0.09159779614325068, 0.2619047619047619, 'squared_error = 0.0\\nsamples = 1\\nvalue = 127000.0'),\n",
              " Text(0.0943526170798898, 0.40476190476190477, 'x[6] <= 0.358\\nsquared_error = 59555555.556\\nsamples = 3\\nvalue = 94333.333'),\n",
              " Text(0.09343434343434344, 0.35714285714285715, 'x[197] <= 0.5\\nsquared_error = 4000000.0\\nsamples = 2\\nvalue = 89000.0'),\n",
              " Text(0.09251606978879706, 0.30952380952380953, 'squared_error = 0.0\\nsamples = 1\\nvalue = 91000.0'),\n",
              " Text(0.0943526170798898, 0.30952380952380953, 'squared_error = 0.0\\nsamples = 1\\nvalue = 87000.0'),\n",
              " Text(0.09527089072543618, 0.35714285714285715, 'squared_error = 0.0\\nsamples = 1\\nvalue = 105000.0'),\n",
              " Text(0.11524334251606978, 0.5, 'x[2] <= 0.042\\nsquared_error = 72237212.516\\nsamples = 30\\nvalue = 116163.467'),\n",
              " Text(0.11042240587695133, 0.4523809523809524, 'x[199] <= 0.5\\nsquared_error = 58585914.837\\nsamples = 28\\nvalue = 115050.143'),\n",
              " Text(0.10353535353535354, 0.40476190476190477, 'x[1] <= 0.106\\nsquared_error = 50039068.0\\nsamples = 24\\nvalue = 113496.0'),\n",
              " Text(0.0980257116620753, 0.35714285714285715, 'x[81] <= 0.5\\nsquared_error = 19618055.556\\nsamples = 12\\nvalue = 116916.667'),\n",
              " Text(0.09618916437098256, 0.30952380952380953, 'x[2] <= 0.034\\nsquared_error = 12728395.062\\nsamples = 9\\nvalue = 118722.222'),\n",
              " Text(0.09527089072543618, 0.2619047619047619, 'x[27] <= 0.084\\nsquared_error = 4683593.75\\nsamples = 8\\nvalue = 117687.5'),\n",
              " Text(0.09343434343434344, 0.21428571428571427, 'x[244] <= 0.5\\nsquared_error = 979166.667\\nsamples = 6\\nvalue = 118750.0'),\n",
              " Text(0.09251606978879706, 0.16666666666666666, 'x[1] <= 0.05\\nsquared_error = 440000.0\\nsamples = 5\\nvalue = 119100.0'),\n",
              " Text(0.09159779614325068, 0.11904761904761904, 'squared_error = 0.0\\nsamples = 1\\nvalue = 118000.0'),\n",
              " Text(0.09343434343434344, 0.11904761904761904, 'x[245] <= 0.5\\nsquared_error = 171875.0\\nsamples = 4\\nvalue = 119375.0'),\n",
              " Text(0.09251606978879706, 0.07142857142857142, 'squared_error = 0.0\\nsamples = 2\\nvalue = 119000.0'),\n",
              " Text(0.0943526170798898, 0.07142857142857142, 'x[258] <= 0.5\\nsquared_error = 62500.0\\nsamples = 2\\nvalue = 119750.0'),\n",
              " Text(0.09343434343434344, 0.023809523809523808, 'squared_error = 0.0\\nsamples = 1\\nvalue = 120000.0'),\n",
              " Text(0.09527089072543618, 0.023809523809523808, 'squared_error = 0.0\\nsamples = 1\\nvalue = 119500.0'),\n",
              " Text(0.0943526170798898, 0.16666666666666666, 'squared_error = 0.0\\nsamples = 1\\nvalue = 117000.0'),\n",
              " Text(0.09710743801652892, 0.21428571428571427, 'x[214] <= 0.5\\nsquared_error = 2250000.0\\nsamples = 2\\nvalue = 114500.0'),\n",
              " Text(0.09618916437098256, 0.16666666666666666, 'squared_error = 0.0\\nsamples = 1\\nvalue = 116000.0'),\n",
              " Text(0.0980257116620753, 0.16666666666666666, 'squared_error = 0.0\\nsamples = 1\\nvalue = 113000.0'),\n",
              " Text(0.09710743801652892, 0.2619047619047619, 'squared_error = 0.0\\nsamples = 1\\nvalue = 127000.0'),\n",
              " Text(0.09986225895316804, 0.30952380952380953, 'x[12] <= 0.105\\nsquared_error = 1166666.667\\nsamples = 3\\nvalue = 111500.0'),\n",
              " Text(0.09894398530762168, 0.2619047619047619, 'squared_error = 0.0\\nsamples = 1\\nvalue = 110000.0'),\n",
              " Text(0.10078053259871442, 0.2619047619047619, 'x[3] <= 0.5\\nsquared_error = 62500.0\\nsamples = 2\\nvalue = 112250.0'),\n",
              " Text(0.09986225895316804, 0.21428571428571427, 'squared_error = 0.0\\nsamples = 1\\nvalue = 112500.0'),\n",
              " Text(0.1016988062442608, 0.21428571428571427, 'squared_error = 0.0\\nsamples = 1\\nvalue = 112000.0'),\n",
              " Text(0.10904499540863177, 0.35714285714285715, 'x[0] <= 0.029\\nsquared_error = 57058159.556\\nsamples = 12\\nvalue = 110075.333'),\n",
              " Text(0.10629017447199265, 0.30952380952380953, 'x[35] <= 0.375\\nsquared_error = 34229600.0\\nsamples = 5\\nvalue = 116680.0'),\n",
              " Text(0.10445362718089991, 0.2619047619047619, 'x[10] <= 0.24\\nsquared_error = 3646666.667\\nsamples = 3\\nvalue = 121300.0'),\n",
              " Text(0.10353535353535354, 0.21428571428571427, 'x[120] <= 0.5\\nsquared_error = 2500.0\\nsamples = 2\\nvalue = 119950.0'),\n",
              " Text(0.10261707988980716, 0.16666666666666666, 'squared_error = 0.0\\nsamples = 1\\nvalue = 120000.0'),\n",
              " Text(0.10445362718089991, 0.16666666666666666, 'squared_error = 0.0\\nsamples = 1\\nvalue = 119900.0'),\n",
              " Text(0.10537190082644628, 0.21428571428571427, 'squared_error = 0.0\\nsamples = 1\\nvalue = 124000.0'),\n",
              " Text(0.1081267217630854, 0.2619047619047619, 'x[200] <= 0.5\\nsquared_error = 62500.0\\nsamples = 2\\nvalue = 109750.0'),\n",
              " Text(0.10720844811753903, 0.21428571428571427, 'squared_error = 0.0\\nsamples = 1\\nvalue = 109500.0'),\n",
              " Text(0.10904499540863177, 0.21428571428571427, 'squared_error = 0.0\\nsamples = 1\\nvalue = 110000.0'),\n",
              " Text(0.11179981634527089, 0.30952380952380953, 'x[2] <= 0.017\\nsquared_error = 19950042.776\\nsamples = 7\\nvalue = 105357.714'),\n",
              " Text(0.11088154269972451, 0.2619047619047619, 'squared_error = 0.0\\nsamples = 1\\nvalue = 114504.0'),\n",
              " Text(0.11271808999081727, 0.2619047619047619, 'x[23] <= 0.167\\nsquared_error = 7008888.889\\nsamples = 6\\nvalue = 103833.333'),\n",
              " Text(0.11088154269972451, 0.21428571428571427, 'x[2] <= 0.041\\nsquared_error = 2601875.0\\nsamples = 4\\nvalue = 105375.0'),\n",
              " Text(0.10996326905417815, 0.16666666666666666, 'x[38] <= 0.5\\nsquared_error = 406666.667\\nsamples = 3\\nvalue = 104500.0'),\n",
              " Text(0.10904499540863177, 0.11904761904761904, 'x[29] <= 0.214\\nsquared_error = 2500.0\\nsamples = 2\\nvalue = 104950.0'),\n",
              " Text(0.1081267217630854, 0.07142857142857142, 'squared_error = 0.0\\nsamples = 1\\nvalue = 105000.0'),\n",
              " Text(0.10996326905417815, 0.07142857142857142, 'squared_error = 0.0\\nsamples = 1\\nvalue = 104900.0'),\n",
              " Text(0.11088154269972451, 0.11904761904761904, 'squared_error = 0.0\\nsamples = 1\\nvalue = 103600.0'),\n",
              " Text(0.11179981634527089, 0.16666666666666666, 'squared_error = 0.0\\nsamples = 1\\nvalue = 108000.0'),\n",
              " Text(0.11455463728191001, 0.21428571428571427, 'x[84] <= 0.5\\nsquared_error = 1562500.0\\nsamples = 2\\nvalue = 100750.0'),\n",
              " Text(0.11363636363636363, 0.16666666666666666, 'squared_error = 0.0\\nsamples = 1\\nvalue = 102000.0'),\n",
              " Text(0.11547291092745639, 0.16666666666666666, 'squared_error = 0.0\\nsamples = 1\\nvalue = 99500.0'),\n",
              " Text(0.11730945821854913, 0.40476190476190477, 'x[8] <= 0.113\\nsquared_error = 8421875.0\\nsamples = 4\\nvalue = 124375.0'),\n",
              " Text(0.11639118457300275, 0.35714285714285715, 'x[209] <= 0.5\\nsquared_error = 666666.667\\nsamples = 3\\nvalue = 126000.0'),\n",
              " Text(0.11547291092745639, 0.30952380952380953, 'x[10] <= 0.196\\nsquared_error = 250000.0\\nsamples = 2\\nvalue = 126500.0'),\n",
              " Text(0.11455463728191001, 0.2619047619047619, 'squared_error = 0.0\\nsamples = 1\\nvalue = 126000.0'),\n",
              " Text(0.11639118457300275, 0.2619047619047619, 'squared_error = 0.0\\nsamples = 1\\nvalue = 127000.0'),\n",
              " Text(0.11730945821854913, 0.30952380952380953, 'squared_error = 0.0\\nsamples = 1\\nvalue = 125000.0'),\n",
              " Text(0.1182277318640955, 0.35714285714285715, 'squared_error = 0.0\\nsamples = 1\\nvalue = 119500.0'),\n",
              " Text(0.12006427915518825, 0.4523809523809524, 'x[233] <= 0.5\\nsquared_error = 3062500.0\\nsamples = 2\\nvalue = 131750.0'),\n",
              " Text(0.11914600550964187, 0.40476190476190477, 'squared_error = 0.0\\nsamples = 1\\nvalue = 133500.0'),\n",
              " Text(0.12098255280073462, 0.40476190476190477, 'squared_error = 0.0\\nsamples = 1\\nvalue = 130000.0'),\n",
              " Text(0.1179981634527089, 0.5476190476190477, 'x[207] <= 0.5\\nsquared_error = 151499172.25\\nsamples = 2\\nvalue = 74691.5'),\n",
              " Text(0.11707988980716254, 0.5, 'squared_error = 0.0\\nsamples = 1\\nvalue = 87000.0'),\n",
              " Text(0.11891643709825528, 0.5, 'squared_error = 0.0\\nsamples = 1\\nvalue = 62383.0'),\n",
              " Text(0.14447027089072545, 0.6428571428571429, 'x[8] <= 0.047\\nsquared_error = 215151343.537\\nsamples = 42\\nvalue = 122564.286'),\n",
              " Text(0.1329775022956841, 0.5952380952380952, 'x[71] <= 0.5\\nsquared_error = 152172857.143\\nsamples = 14\\nvalue = 111600.0'),\n",
              " Text(0.13028007346189163, 0.5476190476190477, 'x[1] <= 0.248\\nsquared_error = 65070555.556\\nsamples = 12\\nvalue = 115533.333'),\n",
              " Text(0.12764003673094582, 0.5, 'x[220] <= 0.5\\nsquared_error = 22856400.0\\nsamples = 10\\nvalue = 112640.0'),\n",
              " Text(0.1251147842056933, 0.4523809523809524, 'x[221] <= 0.5\\nsquared_error = 9201875.0\\nsamples = 8\\nvalue = 110675.0'),\n",
              " Text(0.12281910009182737, 0.40476190476190477, 'x[2] <= 0.032\\nsquared_error = 1838888.889\\nsamples = 6\\nvalue = 109066.667'),\n",
              " Text(0.12098255280073462, 0.35714285714285715, 'x[22] <= 0.292\\nsquared_error = 1875.0\\nsamples = 4\\nvalue = 109975.0'),\n",
              " Text(0.12006427915518825, 0.30952380952380953, 'squared_error = 0.0\\nsamples = 3\\nvalue = 110000.0'),\n",
              " Text(0.12190082644628099, 0.30952380952380953, 'squared_error = 0.0\\nsamples = 1\\nvalue = 109900.0'),\n",
              " Text(0.1246556473829201, 0.35714285714285715, 'x[27] <= 0.086\\nsquared_error = 562500.0\\nsamples = 2\\nvalue = 107250.0'),\n",
              " Text(0.12373737373737374, 0.30952380952380953, 'squared_error = 0.0\\nsamples = 1\\nvalue = 106500.0'),\n",
              " Text(0.12557392102846648, 0.30952380952380953, 'squared_error = 0.0\\nsamples = 1\\nvalue = 108000.0'),\n",
              " Text(0.12741046831955924, 0.40476190476190477, 'x[24] <= 0.405\\nsquared_error = 250000.0\\nsamples = 2\\nvalue = 115500.0'),\n",
              " Text(0.12649219467401285, 0.35714285714285715, 'squared_error = 0.0\\nsamples = 1\\nvalue = 115000.0'),\n",
              " Text(0.1283287419651056, 0.35714285714285715, 'squared_error = 0.0\\nsamples = 1\\nvalue = 116000.0'),\n",
              " Text(0.13016528925619836, 0.4523809523809524, 'x[10] <= 0.315\\nsquared_error = 250000.0\\nsamples = 2\\nvalue = 120500.0'),\n",
              " Text(0.12924701561065197, 0.40476190476190477, 'squared_error = 0.0\\nsamples = 1\\nvalue = 120000.0'),\n",
              " Text(0.13108356290174472, 0.40476190476190477, 'squared_error = 0.0\\nsamples = 1\\nvalue = 121000.0'),\n",
              " Text(0.13292011019283748, 0.5, 'x[34] <= 0.5\\nsquared_error = 25000000.0\\nsamples = 2\\nvalue = 130000.0'),\n",
              " Text(0.13200183654729108, 0.4523809523809524, 'squared_error = 0.0\\nsamples = 1\\nvalue = 125000.0'),\n",
              " Text(0.13383838383838384, 0.4523809523809524, 'squared_error = 0.0\\nsamples = 1\\nvalue = 135000.0'),\n",
              " Text(0.1356749311294766, 0.5476190476190477, 'x[187] <= 0.5\\nsquared_error = 25000000.0\\nsamples = 2\\nvalue = 88000.0'),\n",
              " Text(0.1347566574839302, 0.5, 'squared_error = 0.0\\nsamples = 1\\nvalue = 93000.0'),\n",
              " Text(0.13659320477502296, 0.5, 'squared_error = 0.0\\nsamples = 1\\nvalue = 83000.0'),\n",
              " Text(0.15596303948576676, 0.5952380952380952, 'x[27] <= 0.12\\nsquared_error = 156478915.816\\nsamples = 28\\nvalue = 128046.429'),\n",
              " Text(0.14709595959595959, 0.5476190476190477, 'x[4] <= 0.562\\nsquared_error = 104369524.793\\nsamples = 22\\nvalue = 124104.545'),\n",
              " Text(0.1384297520661157, 0.5, 'x[122] <= 0.5\\nsquared_error = 120561728.395\\nsamples = 9\\nvalue = 117222.222'),\n",
              " Text(0.13751147842056932, 0.4523809523809524, 'x[8] <= 0.078\\nsquared_error = 62671875.0\\nsamples = 8\\nvalue = 114375.0'),\n",
              " Text(0.1349862258953168, 0.40476190476190477, 'x[0] <= 0.088\\nsquared_error = 6250000.0\\nsamples = 2\\nvalue = 102500.0'),\n",
              " Text(0.13406795224977044, 0.35714285714285715, 'squared_error = 0.0\\nsamples = 1\\nvalue = 100000.0'),\n",
              " Text(0.13590449954086317, 0.35714285714285715, 'squared_error = 0.0\\nsamples = 1\\nvalue = 105000.0'),\n",
              " Text(0.14003673094582186, 0.40476190476190477, 'x[35] <= 0.875\\nsquared_error = 18805555.556\\nsamples = 6\\nvalue = 118333.333'),\n",
              " Text(0.13774104683195593, 0.35714285714285715, 'x[1] <= 0.176\\nsquared_error = 7062500.0\\nsamples = 4\\nvalue = 115750.0'),\n",
              " Text(0.13590449954086317, 0.30952380952380953, 'x[60] <= 0.5\\nsquared_error = 1562500.0\\nsamples = 2\\nvalue = 113250.0'),\n",
              " Text(0.1349862258953168, 0.2619047619047619, 'squared_error = 0.0\\nsamples = 1\\nvalue = 112000.0'),\n",
              " Text(0.13682277318640956, 0.2619047619047619, 'squared_error = 0.0\\nsamples = 1\\nvalue = 114500.0'),\n",
              " Text(0.13957759412304868, 0.30952380952380953, 'x[139] <= 0.5\\nsquared_error = 62500.0\\nsamples = 2\\nvalue = 118250.0'),\n",
              " Text(0.1386593204775023, 0.2619047619047619, 'squared_error = 0.0\\nsamples = 1\\nvalue = 118000.0'),\n",
              " Text(0.14049586776859505, 0.2619047619047619, 'squared_error = 0.0\\nsamples = 1\\nvalue = 118500.0'),\n",
              " Text(0.1423324150596878, 0.35714285714285715, 'x[244] <= 0.5\\nsquared_error = 2250000.0\\nsamples = 2\\nvalue = 123500.0'),\n",
              " Text(0.1414141414141414, 0.30952380952380953, 'squared_error = 0.0\\nsamples = 1\\nvalue = 122000.0'),\n",
              " Text(0.14325068870523416, 0.30952380952380953, 'squared_error = 0.0\\nsamples = 1\\nvalue = 125000.0'),\n",
              " Text(0.13934802571166208, 0.4523809523809524, 'squared_error = 0.0\\nsamples = 1\\nvalue = 140000.0'),\n",
              " Text(0.15576216712580349, 0.5, 'x[81] <= 0.5\\nsquared_error = 37665207.101\\nsamples = 13\\nvalue = 128869.231'),\n",
              " Text(0.1522038567493113, 0.4523809523809524, 'x[6] <= 0.55\\nsquared_error = 20804132.231\\nsamples = 11\\nvalue = 130763.636'),\n",
              " Text(0.14784205693296604, 0.40476190476190477, 'x[15] <= 0.103\\nsquared_error = 5817600.0\\nsamples = 5\\nvalue = 126880.0'),\n",
              " Text(0.14600550964187328, 0.35714285714285715, 'x[201] <= 0.5\\nsquared_error = 968888.889\\nsamples = 3\\nvalue = 128633.333'),\n",
              " Text(0.14508723599632692, 0.30952380952380953, 'x[146] <= 0.5\\nsquared_error = 250000.0\\nsamples = 2\\nvalue = 128000.0'),\n",
              " Text(0.14416896235078053, 0.2619047619047619, 'squared_error = 0.0\\nsamples = 1\\nvalue = 128500.0'),\n",
              " Text(0.14600550964187328, 0.2619047619047619, 'squared_error = 0.0\\nsamples = 1\\nvalue = 127500.0'),\n",
              " Text(0.14692378328741965, 0.30952380952380953, 'squared_error = 0.0\\nsamples = 1\\nvalue = 129900.0'),\n",
              " Text(0.14967860422405876, 0.35714285714285715, 'x[165] <= 0.5\\nsquared_error = 1562500.0\\nsamples = 2\\nvalue = 124250.0'),\n",
              " Text(0.1487603305785124, 0.30952380952380953, 'squared_error = 0.0\\nsamples = 1\\nvalue = 123000.0'),\n",
              " Text(0.15059687786960516, 0.30952380952380953, 'squared_error = 0.0\\nsamples = 1\\nvalue = 125500.0'),\n",
              " Text(0.15656565656565657, 0.40476190476190477, 'x[34] <= 0.5\\nsquared_error = 10250000.0\\nsamples = 6\\nvalue = 134000.0'),\n",
              " Text(0.15426997245179064, 0.35714285714285715, 'x[223] <= 0.5\\nsquared_error = 4046875.0\\nsamples = 4\\nvalue = 132125.0'),\n",
              " Text(0.15243342516069788, 0.30952380952380953, 'x[234] <= 0.5\\nsquared_error = 62500.0\\nsamples = 2\\nvalue = 130250.0'),\n",
              " Text(0.15151515151515152, 0.2619047619047619, 'squared_error = 0.0\\nsamples = 1\\nvalue = 130500.0'),\n",
              " Text(0.15335169880624427, 0.2619047619047619, 'squared_error = 0.0\\nsamples = 1\\nvalue = 130000.0'),\n",
              " Text(0.1561065197428834, 0.30952380952380953, 'x[56] <= 0.5\\nsquared_error = 1000000.0\\nsamples = 2\\nvalue = 134000.0'),\n",
              " Text(0.155188246097337, 0.2619047619047619, 'squared_error = 0.0\\nsamples = 1\\nvalue = 135000.0'),\n",
              " Text(0.15702479338842976, 0.2619047619047619, 'squared_error = 0.0\\nsamples = 1\\nvalue = 133000.0'),\n",
              " Text(0.1588613406795225, 0.35714285714285715, 'x[26] <= 0.22\\nsquared_error = 1562500.0\\nsamples = 2\\nvalue = 137750.0'),\n",
              " Text(0.15794306703397612, 0.30952380952380953, 'squared_error = 0.0\\nsamples = 1\\nvalue = 139000.0'),\n",
              " Text(0.15977961432506887, 0.30952380952380953, 'squared_error = 0.0\\nsamples = 1\\nvalue = 136500.0'),\n",
              " Text(0.1593204775022957, 0.4523809523809524, 'x[6] <= 0.417\\nsquared_error = 2102500.0\\nsamples = 2\\nvalue = 118450.0'),\n",
              " Text(0.1584022038567493, 0.40476190476190477, 'squared_error = 0.0\\nsamples = 1\\nvalue = 119900.0'),\n",
              " Text(0.16023875114784206, 0.40476190476190477, 'squared_error = 0.0\\nsamples = 1\\nvalue = 117000.0'),\n",
              " Text(0.16483011937557393, 0.5476190476190477, 'x[10] <= 0.11\\nsquared_error = 81666666.667\\nsamples = 6\\nvalue = 142500.0'),\n",
              " Text(0.16391184573002754, 0.5, 'x[178] <= 0.5\\nsquared_error = 40340000.0\\nsamples = 5\\nvalue = 139400.0'),\n",
              " Text(0.16299357208448118, 0.4523809523809524, 'x[34] <= 0.318\\nsquared_error = 6171875.0\\nsamples = 4\\nvalue = 142375.0'),\n",
              " Text(0.1620752984389348, 0.40476190476190477, 'squared_error = 0.0\\nsamples = 1\\nvalue = 138500.0'),\n",
              " Text(0.16391184573002754, 0.40476190476190477, 'x[154] <= 0.5\\nsquared_error = 1555555.556\\nsamples = 3\\nvalue = 143666.667'),\n",
              " Text(0.16299357208448118, 0.35714285714285715, 'x[199] <= 0.5\\nsquared_error = 250000.0\\nsamples = 2\\nvalue = 144500.0'),\n",
              " Text(0.1620752984389348, 0.30952380952380953, 'squared_error = 0.0\\nsamples = 1\\nvalue = 145000.0'),\n",
              " Text(0.16391184573002754, 0.30952380952380953, 'squared_error = 0.0\\nsamples = 1\\nvalue = 144000.0'),\n",
              " Text(0.16483011937557393, 0.35714285714285715, 'squared_error = 0.0\\nsamples = 1\\nvalue = 142000.0'),\n",
              " Text(0.16483011937557393, 0.4523809523809524, 'squared_error = 0.0\\nsamples = 1\\nvalue = 127500.0'),\n",
              " Text(0.1657483930211203, 0.5, 'squared_error = 0.0\\nsamples = 1\\nvalue = 158000.0'),\n",
              " Text(0.18488686581726355, 0.6904761904761905, 'x[225] <= 0.5\\nsquared_error = 347580557.792\\nsamples = 70\\nvalue = 132896.329'),\n",
              " Text(0.16942148760330578, 0.6428571428571429, 'x[0] <= 0.176\\nsquared_error = 184187500.0\\nsamples = 4\\nvalue = 92250.0'),\n",
              " Text(0.16758494031221305, 0.5952380952380952, 'x[8] <= 0.043\\nsquared_error = 56250000.0\\nsamples = 2\\nvalue = 80500.0'),\n",
              " Text(0.16666666666666666, 0.5476190476190477, 'squared_error = 0.0\\nsamples = 1\\nvalue = 73000.0'),\n",
              " Text(0.1685032139577594, 0.5476190476190477, 'squared_error = 0.0\\nsamples = 1\\nvalue = 88000.0'),\n",
              " Text(0.17125803489439853, 0.5952380952380952, 'x[41] <= 0.5\\nsquared_error = 36000000.0\\nsamples = 2\\nvalue = 104000.0'),\n",
              " Text(0.17033976124885217, 0.5476190476190477, 'squared_error = 0.0\\nsamples = 1\\nvalue = 98000.0'),\n",
              " Text(0.1721763085399449, 0.5476190476190477, 'squared_error = 0.0\\nsamples = 1\\nvalue = 110000.0'),\n",
              " Text(0.20035224403122132, 0.6428571428571429, 'x[28] <= 0.227\\nsquared_error = 251286030.676\\nsamples = 66\\nvalue = 135359.742'),\n",
              " Text(0.18387712350780533, 0.5952380952380952, 'x[8] <= 0.025\\nsquared_error = 192549902.75\\nsamples = 60\\nvalue = 132963.5'),\n",
              " Text(0.17401285583103765, 0.5476190476190477, 'x[15] <= 0.186\\nsquared_error = 138420208.333\\nsamples = 12\\nvalue = 115925.0'),\n",
              " Text(0.1721763085399449, 0.5, 'x[274] <= 0.5\\nsquared_error = 93652400.0\\nsamples = 10\\nvalue = 112560.0'),\n",
              " Text(0.17125803489439853, 0.4523809523809524, 'squared_error = 0.0\\nsamples = 1\\nvalue = 134900.0'),\n",
              " Text(0.17309458218549129, 0.4523809523809524, 'x[24] <= 0.682\\nsquared_error = 42443950.617\\nsamples = 9\\nvalue = 110077.778'),\n",
              " Text(0.17079889807162535, 0.40476190476190477, 'x[12] <= 0.163\\nsquared_error = 17538400.0\\nsamples = 5\\nvalue = 105860.0'),\n",
              " Text(0.16988062442607896, 0.35714285714285715, 'x[10] <= 0.229\\nsquared_error = 4062500.0\\nsamples = 4\\nvalue = 107750.0'),\n",
              " Text(0.16804407713498623, 0.30952380952380953, 'x[211] <= 0.5\\nsquared_error = 62500.0\\nsamples = 2\\nvalue = 109750.0'),\n",
              " Text(0.16712580348943984, 0.2619047619047619, 'squared_error = 0.0\\nsamples = 1\\nvalue = 109500.0'),\n",
              " Text(0.1689623507805326, 0.2619047619047619, 'squared_error = 0.0\\nsamples = 1\\nvalue = 110000.0'),\n",
              " Text(0.1717171717171717, 0.30952380952380953, 'x[1] <= 0.07\\nsquared_error = 62500.0\\nsamples = 2\\nvalue = 105750.0'),\n",
              " Text(0.17079889807162535, 0.2619047619047619, 'squared_error = 0.0\\nsamples = 1\\nvalue = 106000.0'),\n",
              " Text(0.17263544536271808, 0.2619047619047619, 'squared_error = 0.0\\nsamples = 1\\nvalue = 105500.0'),\n",
              " Text(0.1717171717171717, 0.35714285714285715, 'squared_error = 0.0\\nsamples = 1\\nvalue = 98300.0'),\n",
              " Text(0.1753902662993572, 0.40476190476190477, 'x[89] <= 0.5\\nsquared_error = 23542500.0\\nsamples = 4\\nvalue = 115350.0'),\n",
              " Text(0.17447199265381083, 0.35714285714285715, 'x[1] <= 0.111\\nsquared_error = 6055555.556\\nsamples = 3\\nvalue = 112833.333'),\n",
              " Text(0.17355371900826447, 0.30952380952380953, 'squared_error = 0.0\\nsamples = 1\\nvalue = 116000.0'),\n",
              " Text(0.1753902662993572, 0.30952380952380953, 'x[162] <= 0.5\\nsquared_error = 1562500.0\\nsamples = 2\\nvalue = 111250.0'),\n",
              " Text(0.17447199265381083, 0.2619047619047619, 'squared_error = 0.0\\nsamples = 1\\nvalue = 112500.0'),\n",
              " Text(0.1763085399449036, 0.2619047619047619, 'squared_error = 0.0\\nsamples = 1\\nvalue = 110000.0'),\n",
              " Text(0.1763085399449036, 0.35714285714285715, 'squared_error = 0.0\\nsamples = 1\\nvalue = 122900.0'),\n",
              " Text(0.1758494031221304, 0.5, 'x[17] <= 0.25\\nsquared_error = 22562500.0\\nsamples = 2\\nvalue = 132750.0'),\n",
              " Text(0.174931129476584, 0.4523809523809524, 'squared_error = 0.0\\nsamples = 1\\nvalue = 128000.0'),\n",
              " Text(0.17676767676767677, 0.4523809523809524, 'squared_error = 0.0\\nsamples = 1\\nvalue = 137500.0'),\n",
              " Text(0.193741391184573, 0.5476190476190477, 'x[24] <= 0.505\\nsquared_error = 115360300.651\\nsamples = 48\\nvalue = 137223.125'),\n",
              " Text(0.18514692378328743, 0.5, 'x[1] <= 0.236\\nsquared_error = 49388888.889\\nsamples = 3\\nvalue = 156666.667'),\n",
              " Text(0.18422865013774103, 0.4523809523809524, 'x[151] <= 0.5\\nsquared_error = 4000000.0\\nsamples = 2\\nvalue = 161500.0'),\n",
              " Text(0.18331037649219467, 0.40476190476190477, 'squared_error = 0.0\\nsamples = 1\\nvalue = 163500.0'),\n",
              " Text(0.18514692378328743, 0.40476190476190477, 'squared_error = 0.0\\nsamples = 1\\nvalue = 159500.0'),\n",
              " Text(0.1860651974288338, 0.4523809523809524, 'squared_error = 0.0\\nsamples = 1\\nvalue = 147000.0'),\n",
              " Text(0.2023358585858586, 0.5, 'x[5] <= 0.75\\nsquared_error = 92874745.877\\nsamples = 45\\nvalue = 135926.889'),\n",
              " Text(0.1915174471992654, 0.4523809523809524, 'x[12] <= 0.155\\nsquared_error = 75060415.879\\nsamples = 23\\nvalue = 130595.652'),\n",
              " Text(0.18698347107438015, 0.40476190476190477, 'x[27] <= 0.281\\nsquared_error = 59046172.84\\nsamples = 18\\nvalue = 128122.222'),\n",
              " Text(0.1860651974288338, 0.35714285714285715, 'x[196] <= 0.5\\nsquared_error = 40323391.003\\nsamples = 17\\nvalue = 127011.765'),\n",
              " Text(0.1825068870523416, 0.30952380952380953, 'x[113] <= 0.5\\nsquared_error = 30336622.222\\nsamples = 15\\nvalue = 125693.333'),\n",
              " Text(0.1781450872359963, 0.2619047619047619, 'x[13] <= 0.183\\nsquared_error = 9472222.222\\nsamples = 6\\nvalue = 129666.667'),\n",
              " Text(0.1763085399449036, 0.21428571428571427, 'x[76] <= 0.5\\nsquared_error = 4671875.0\\nsamples = 4\\nvalue = 131375.0'),\n",
              " Text(0.1753902662993572, 0.16666666666666666, 'x[6] <= 0.167\\nsquared_error = 388888.889\\nsamples = 3\\nvalue = 130166.667'),\n",
              " Text(0.17447199265381083, 0.11904761904761904, 'squared_error = 0.0\\nsamples = 1\\nvalue = 131000.0'),\n",
              " Text(0.1763085399449036, 0.11904761904761904, 'x[199] <= 0.5\\nsquared_error = 62500.0\\nsamples = 2\\nvalue = 129750.0'),\n",
              " Text(0.1753902662993572, 0.07142857142857142, 'squared_error = 0.0\\nsamples = 1\\nvalue = 130000.0'),\n",
              " Text(0.17722681359044995, 0.07142857142857142, 'squared_error = 0.0\\nsamples = 1\\nvalue = 129500.0'),\n",
              " Text(0.17722681359044995, 0.16666666666666666, 'squared_error = 0.0\\nsamples = 1\\nvalue = 135000.0'),\n",
              " Text(0.17998163452708907, 0.21428571428571427, 'x[3] <= 0.5\\nsquared_error = 1562500.0\\nsamples = 2\\nvalue = 126250.0'),\n",
              " Text(0.1790633608815427, 0.16666666666666666, 'squared_error = 0.0\\nsamples = 1\\nvalue = 125000.0'),\n",
              " Text(0.18089990817263543, 0.16666666666666666, 'squared_error = 0.0\\nsamples = 1\\nvalue = 127500.0'),\n",
              " Text(0.18686868686868688, 0.2619047619047619, 'x[20] <= 0.312\\nsquared_error = 26704691.358\\nsamples = 9\\nvalue = 123044.444'),\n",
              " Text(0.18457300275482094, 0.21428571428571427, 'x[8] <= 0.066\\nsquared_error = 7660000.0\\nsamples = 5\\nvalue = 119300.0'),\n",
              " Text(0.1827364554637282, 0.16666666666666666, 'x[25] <= 0.375\\nsquared_error = 1562500.0\\nsamples = 2\\nvalue = 116250.0'),\n",
              " Text(0.18181818181818182, 0.11904761904761904, 'squared_error = 0.0\\nsamples = 1\\nvalue = 117500.0'),\n",
              " Text(0.18365472910927455, 0.11904761904761904, 'squared_error = 0.0\\nsamples = 1\\nvalue = 115000.0'),\n",
              " Text(0.18640955004591367, 0.16666666666666666, 'x[203] <= 0.5\\nsquared_error = 1388888.889\\nsamples = 3\\nvalue = 121333.333'),\n",
              " Text(0.1854912764003673, 0.11904761904761904, 'squared_error = 0.0\\nsamples = 2\\nvalue = 120500.0'),\n",
              " Text(0.18732782369146006, 0.11904761904761904, 'squared_error = 0.0\\nsamples = 1\\nvalue = 123000.0'),\n",
              " Text(0.1891643709825528, 0.21428571428571427, 'x[161] <= 0.5\\nsquared_error = 11076875.0\\nsamples = 4\\nvalue = 127725.0'),\n",
              " Text(0.18824609733700642, 0.16666666666666666, 'squared_error = 0.0\\nsamples = 1\\nvalue = 122000.0'),\n",
              " Text(0.19008264462809918, 0.16666666666666666, 'x[246] <= 0.5\\nsquared_error = 202222.222\\nsamples = 3\\nvalue = 129633.333'),\n",
              " Text(0.1891643709825528, 0.11904761904761904, 'x[2] <= 0.038\\nsquared_error = 2500.0\\nsamples = 2\\nvalue = 129950.0'),\n",
              " Text(0.18824609733700642, 0.07142857142857142, 'squared_error = 0.0\\nsamples = 1\\nvalue = 129900.0'),\n",
              " Text(0.19008264462809918, 0.07142857142857142, 'squared_error = 0.0\\nsamples = 1\\nvalue = 130000.0'),\n",
              " Text(0.19100091827364554, 0.11904761904761904, 'squared_error = 0.0\\nsamples = 1\\nvalue = 129000.0'),\n",
              " Text(0.189623507805326, 0.30952380952380953, 'x[199] <= 0.5\\nsquared_error = 4410000.0\\nsamples = 2\\nvalue = 136900.0'),\n",
              " Text(0.1887052341597796, 0.2619047619047619, 'squared_error = 0.0\\nsamples = 1\\nvalue = 134800.0'),\n",
              " Text(0.19054178145087236, 0.2619047619047619, 'squared_error = 0.0\\nsamples = 1\\nvalue = 139000.0'),\n",
              " Text(0.18790174471992654, 0.35714285714285715, 'squared_error = 0.0\\nsamples = 1\\nvalue = 147000.0'),\n",
              " Text(0.1960514233241506, 0.40476190476190477, 'x[62] <= 0.5\\nsquared_error = 31400000.0\\nsamples = 5\\nvalue = 139500.0'),\n",
              " Text(0.19513314967860423, 0.35714285714285715, 'x[35] <= 0.375\\nsquared_error = 11046875.0\\nsamples = 4\\nvalue = 141875.0'),\n",
              " Text(0.19329660238751148, 0.30952380952380953, 'x[24] <= 0.677\\nsquared_error = 1000000.0\\nsamples = 2\\nvalue = 145000.0'),\n",
              " Text(0.19237832874196512, 0.2619047619047619, 'squared_error = 0.0\\nsamples = 1\\nvalue = 144000.0'),\n",
              " Text(0.19421487603305784, 0.2619047619047619, 'squared_error = 0.0\\nsamples = 1\\nvalue = 146000.0'),\n",
              " Text(0.19696969696969696, 0.30952380952380953, 'x[1] <= 0.185\\nsquared_error = 1562500.0\\nsamples = 2\\nvalue = 138750.0'),\n",
              " Text(0.1960514233241506, 0.2619047619047619, 'squared_error = 0.0\\nsamples = 1\\nvalue = 140000.0'),\n",
              " Text(0.19788797061524335, 0.2619047619047619, 'squared_error = 0.0\\nsamples = 1\\nvalue = 137500.0'),\n",
              " Text(0.19696969696969696, 0.35714285714285715, 'squared_error = 0.0\\nsamples = 1\\nvalue = 130000.0'),\n",
              " Text(0.2131542699724518, 0.4523809523809524, 'x[10] <= 0.067\\nsquared_error = 50720186.157\\nsamples = 22\\nvalue = 141500.455'),\n",
              " Text(0.20821854912764004, 0.40476190476190477, 'x[194] <= 0.5\\nsquared_error = 27658149.49\\nsamples = 14\\nvalue = 144429.286'),\n",
              " Text(0.20385674931129477, 0.35714285714285715, 'x[118] <= 0.5\\nsquared_error = 13525169.0\\nsamples = 10\\nvalue = 142171.0'),\n",
              " Text(0.20156106519742883, 0.30952380952380953, 'x[26] <= 0.354\\nsquared_error = 6280910.204\\nsamples = 7\\nvalue = 140244.286'),\n",
              " Text(0.19972451790633608, 0.2619047619047619, 'x[27] <= 0.11\\nsquared_error = 1347222.222\\nsamples = 3\\nvalue = 142583.333'),\n",
              " Text(0.19880624426078972, 0.21428571428571427, 'x[219] <= 0.5\\nsquared_error = 140625.0\\nsamples = 2\\nvalue = 143375.0'),\n",
              " Text(0.19788797061524335, 0.16666666666666666, 'squared_error = 0.0\\nsamples = 1\\nvalue = 143750.0'),\n",
              " Text(0.19972451790633608, 0.16666666666666666, 'squared_error = 0.0\\nsamples = 1\\nvalue = 143000.0'),\n",
              " Text(0.20064279155188247, 0.21428571428571427, 'squared_error = 0.0\\nsamples = 1\\nvalue = 141000.0'),\n",
              " Text(0.2033976124885216, 0.2619047619047619, 'x[39] <= 0.5\\nsquared_error = 2800300.0\\nsamples = 4\\nvalue = 138490.0'),\n",
              " Text(0.2024793388429752, 0.21428571428571427, 'squared_error = 0.0\\nsamples = 2\\nvalue = 140000.0'),\n",
              " Text(0.20431588613406795, 0.21428571428571427, 'x[106] <= 0.5\\nsquared_error = 1040400.0\\nsamples = 2\\nvalue = 136980.0'),\n",
              " Text(0.2033976124885216, 0.16666666666666666, 'squared_error = 0.0\\nsamples = 1\\nvalue = 135960.0'),\n",
              " Text(0.20523415977961432, 0.16666666666666666, 'squared_error = 0.0\\nsamples = 1\\nvalue = 138000.0'),\n",
              " Text(0.2061524334251607, 0.30952380952380953, 'x[35] <= 0.25\\nsquared_error = 1555555.556\\nsamples = 3\\nvalue = 146666.667'),\n",
              " Text(0.20523415977961432, 0.2619047619047619, 'squared_error = 0.0\\nsamples = 1\\nvalue = 145000.0'),\n",
              " Text(0.20707070707070707, 0.2619047619047619, 'x[192] <= 0.5\\nsquared_error = 250000.0\\nsamples = 2\\nvalue = 147500.0'),\n",
              " Text(0.2061524334251607, 0.21428571428571427, 'squared_error = 0.0\\nsamples = 1\\nvalue = 147000.0'),\n",
              " Text(0.20798898071625344, 0.21428571428571427, 'squared_error = 0.0\\nsamples = 1\\nvalue = 148000.0'),\n",
              " Text(0.2125803489439853, 0.35714285714285715, 'x[2] <= 0.035\\nsquared_error = 18366875.0\\nsamples = 4\\nvalue = 150075.0'),\n",
              " Text(0.21166207529843895, 0.30952380952380953, 'x[166] <= 0.5\\nsquared_error = 8086666.667\\nsamples = 3\\nvalue = 152100.0'),\n",
              " Text(0.21074380165289255, 0.2619047619047619, 'x[49] <= 0.5\\nsquared_error = 722500.0\\nsamples = 2\\nvalue = 150150.0'),\n",
              " Text(0.2098255280073462, 0.21428571428571427, 'squared_error = 0.0\\nsamples = 1\\nvalue = 151000.0'),\n",
              " Text(0.21166207529843895, 0.21428571428571427, 'squared_error = 0.0\\nsamples = 1\\nvalue = 149300.0'),\n",
              " Text(0.2125803489439853, 0.2619047619047619, 'squared_error = 0.0\\nsamples = 1\\nvalue = 156000.0'),\n",
              " Text(0.21349862258953167, 0.30952380952380953, 'squared_error = 0.0\\nsamples = 1\\nvalue = 144000.0'),\n",
              " Text(0.21808999081726355, 0.40476190476190477, 'x[24] <= 0.814\\nsquared_error = 49796875.0\\nsamples = 8\\nvalue = 136375.0'),\n",
              " Text(0.2162534435261708, 0.35714285714285715, 'x[211] <= 0.5\\nsquared_error = 12250000.0\\nsamples = 2\\nvalue = 127500.0'),\n",
              " Text(0.21533516988062443, 0.30952380952380953, 'squared_error = 0.0\\nsamples = 1\\nvalue = 131000.0'),\n",
              " Text(0.21717171717171718, 0.30952380952380953, 'squared_error = 0.0\\nsamples = 1\\nvalue = 124000.0'),\n",
              " Text(0.2199265381083563, 0.35714285714285715, 'x[60] <= 0.5\\nsquared_error = 27305555.556\\nsamples = 6\\nvalue = 139333.333'),\n",
              " Text(0.2190082644628099, 0.30952380952380953, 'squared_error = 0.0\\nsamples = 1\\nvalue = 148000.0'),\n",
              " Text(0.22084481175390266, 0.30952380952380953, 'x[10] <= 0.08\\nsquared_error = 14740000.0\\nsamples = 5\\nvalue = 137600.0'),\n",
              " Text(0.2199265381083563, 0.2619047619047619, 'x[5] <= 0.953\\nsquared_error = 6796875.0\\nsamples = 4\\nvalue = 139125.0'),\n",
              " Text(0.2190082644628099, 0.21428571428571427, 'x[1] <= 0.111\\nsquared_error = 2388888.889\\nsamples = 3\\nvalue = 137833.333'),\n",
              " Text(0.21808999081726355, 0.16666666666666666, 'squared_error = 0.0\\nsamples = 1\\nvalue = 136500.0'),\n",
              " Text(0.2199265381083563, 0.16666666666666666, 'x[161] <= 0.5\\nsquared_error = 2250000.0\\nsamples = 2\\nvalue = 138500.0'),\n",
              " Text(0.2190082644628099, 0.11904761904761904, 'squared_error = 0.0\\nsamples = 1\\nvalue = 137000.0'),\n",
              " Text(0.22084481175390266, 0.11904761904761904, 'squared_error = 0.0\\nsamples = 1\\nvalue = 140000.0'),\n",
              " Text(0.22084481175390266, 0.21428571428571427, 'squared_error = 0.0\\nsamples = 1\\nvalue = 143000.0'),\n",
              " Text(0.22176308539944903, 0.2619047619047619, 'squared_error = 0.0\\nsamples = 1\\nvalue = 131500.0'),\n",
              " Text(0.21682736455463728, 0.5952380952380952, 'x[0] <= 0.265\\nsquared_error = 207029756.806\\nsamples = 6\\nvalue = 159322.167'),\n",
              " Text(0.21499081726354455, 0.5476190476190477, 'x[11] <= 0.138\\nsquared_error = 13220000.0\\nsamples = 3\\nvalue = 145900.0'),\n",
              " Text(0.21407254361799816, 0.5, 'squared_error = 0.0\\nsamples = 1\\nvalue = 141000.0'),\n",
              " Text(0.2159090909090909, 0.5, 'x[254] <= 0.5\\nsquared_error = 1822500.0\\nsamples = 2\\nvalue = 148350.0'),\n",
              " Text(0.21499081726354455, 0.4523809523809524, 'squared_error = 0.0\\nsamples = 1\\nvalue = 149700.0'),\n",
              " Text(0.21682736455463728, 0.4523809523809524, 'squared_error = 0.0\\nsamples = 1\\nvalue = 147000.0'),\n",
              " Text(0.21866391184573003, 0.5476190476190477, 'x[8] <= 0.026\\nsquared_error = 40530397.556\\nsamples = 3\\nvalue = 172744.333'),\n",
              " Text(0.21774563820018367, 0.5, 'squared_error = 0.0\\nsamples = 1\\nvalue = 164500.0'),\n",
              " Text(0.2195821854912764, 0.5, 'x[1] <= 0.099\\nsquared_error = 9818822.25\\nsamples = 2\\nvalue = 176866.5'),\n",
              " Text(0.21866391184573003, 0.4523809523809524, 'squared_error = 0.0\\nsamples = 1\\nvalue = 173733.0'),\n",
              " Text(0.22050045913682279, 0.4523809523809524, 'squared_error = 0.0\\nsamples = 1\\nvalue = 180000.0'),\n",
              " Text(0.2639825994318182, 0.7857142857142857, 'x[4] <= 0.438\\nsquared_error = 519385165.981\\nsamples = 164\\nvalue = 145488.915'),\n",
              " Text(0.23530762167125804, 0.7380952380952381, 'x[154] <= 0.5\\nsquared_error = 504801388.889\\nsamples = 6\\nvalue = 93683.333'),\n",
              " Text(0.23255280073461893, 0.6904761904761905, 'x[297] <= 0.5\\nsquared_error = 116666666.667\\nsamples = 3\\nvalue = 75000.0'),\n",
              " Text(0.23163452708907253, 0.6428571428571429, 'squared_error = 0.0\\nsamples = 1\\nvalue = 60000.0'),\n",
              " Text(0.2334710743801653, 0.6428571428571429, 'x[214] <= 0.5\\nsquared_error = 6250000.0\\nsamples = 2\\nvalue = 82500.0'),\n",
              " Text(0.23255280073461893, 0.5952380952380952, 'squared_error = 0.0\\nsamples = 1\\nvalue = 85000.0'),\n",
              " Text(0.23438934802571165, 0.5952380952380952, 'squared_error = 0.0\\nsamples = 1\\nvalue = 80000.0'),\n",
              " Text(0.23806244260789716, 0.6904761904761905, 'x[200] <= 0.5\\nsquared_error = 194802222.222\\nsamples = 3\\nvalue = 112366.667'),\n",
              " Text(0.23714416896235077, 0.6428571428571429, 'x[3] <= 0.389\\nsquared_error = 17640000.0\\nsamples = 2\\nvalue = 102800.0'),\n",
              " Text(0.2362258953168044, 0.5952380952380952, 'squared_error = 0.0\\nsamples = 1\\nvalue = 107000.0'),\n",
              " Text(0.23806244260789716, 0.5952380952380952, 'squared_error = 0.0\\nsamples = 1\\nvalue = 98600.0'),\n",
              " Text(0.23898071625344353, 0.6428571428571429, 'squared_error = 0.0\\nsamples = 1\\nvalue = 131500.0'),\n",
              " Text(0.29265757719237834, 0.7380952380952381, 'x[12] <= 0.198\\nsquared_error = 414151559.941\\nsamples = 158\\nvalue = 147456.215'),\n",
              " Text(0.2550666465794307, 0.6904761904761905, 'x[26] <= 0.219\\nsquared_error = 248335615.433\\nsamples = 106\\nvalue = 140391.038'),\n",
              " Text(0.24081726354453628, 0.6428571428571429, 'x[2] <= 0.071\\nsquared_error = 188788342.768\\nsamples = 37\\nvalue = 130648.649'),\n",
              " Text(0.2398989898989899, 0.5952380952380952, 'x[1] <= 0.163\\nsquared_error = 133230906.636\\nsamples = 36\\nvalue = 131930.556'),\n",
              " Text(0.23071625344352617, 0.5476190476190477, 'x[10] <= 0.132\\nsquared_error = 100781823.98\\nsamples = 14\\nvalue = 123292.857'),\n",
              " Text(0.22681359044995408, 0.5, 'x[6] <= 0.242\\nsquared_error = 89609056.122\\nsamples = 7\\nvalue = 128732.143'),\n",
              " Text(0.22451790633608815, 0.4523809523809524, 'x[71] <= 0.5\\nsquared_error = 9312500.0\\nsamples = 4\\nvalue = 121250.0'),\n",
              " Text(0.22268135904499542, 0.40476190476190477, 'x[112] <= 0.5\\nsquared_error = 62500.0\\nsamples = 2\\nvalue = 118250.0'),\n",
              " Text(0.22176308539944903, 0.35714285714285715, 'squared_error = 0.0\\nsamples = 1\\nvalue = 118500.0'),\n",
              " Text(0.22359963269054178, 0.35714285714285715, 'squared_error = 0.0\\nsamples = 1\\nvalue = 118000.0'),\n",
              " Text(0.2263544536271809, 0.40476190476190477, 'x[9] <= 0.187\\nsquared_error = 562500.0\\nsamples = 2\\nvalue = 124250.0'),\n",
              " Text(0.22543617998163454, 0.35714285714285715, 'squared_error = 0.0\\nsamples = 1\\nvalue = 125000.0'),\n",
              " Text(0.22727272727272727, 0.35714285714285715, 'squared_error = 0.0\\nsamples = 1\\nvalue = 123500.0'),\n",
              " Text(0.22910927456382002, 0.4523809523809524, 'x[29] <= 0.101\\nsquared_error = 22503472.222\\nsamples = 3\\nvalue = 138708.333'),\n",
              " Text(0.22819100091827366, 0.40476190476190477, 'squared_error = 0.0\\nsamples = 1\\nvalue = 132000.0'),\n",
              " Text(0.23002754820936638, 0.40476190476190477, 'x[20] <= 0.312\\nsquared_error = 3906.25\\nsamples = 2\\nvalue = 142062.5'),\n",
              " Text(0.22910927456382002, 0.35714285714285715, 'squared_error = 0.0\\nsamples = 1\\nvalue = 142125.0'),\n",
              " Text(0.23094582185491278, 0.35714285714285715, 'squared_error = 0.0\\nsamples = 1\\nvalue = 142000.0'),\n",
              " Text(0.23461891643709826, 0.5, 'x[5] <= 0.594\\nsquared_error = 52782933.673\\nsamples = 7\\nvalue = 117853.571'),\n",
              " Text(0.2327823691460055, 0.4523809523809524, 'x[166] <= 0.5\\nsquared_error = 19370000.0\\nsamples = 4\\nvalue = 112300.0'),\n",
              " Text(0.23186409550045914, 0.40476190476190477, 'squared_error = 0.0\\nsamples = 1\\nvalue = 119200.0'),\n",
              " Text(0.2337006427915519, 0.40476190476190477, 'x[16] <= 0.167\\nsquared_error = 4666666.667\\nsamples = 3\\nvalue = 110000.0'),\n",
              " Text(0.2327823691460055, 0.35714285714285715, 'squared_error = 0.0\\nsamples = 1\\nvalue = 113000.0'),\n",
              " Text(0.23461891643709826, 0.35714285714285715, 'x[175] <= 0.5\\nsquared_error = 250000.0\\nsamples = 2\\nvalue = 108500.0'),\n",
              " Text(0.2337006427915519, 0.30952380952380953, 'squared_error = 0.0\\nsamples = 1\\nvalue = 108000.0'),\n",
              " Text(0.23553719008264462, 0.30952380952380953, 'squared_error = 0.0\\nsamples = 1\\nvalue = 109000.0'),\n",
              " Text(0.236455463728191, 0.4523809523809524, 'x[270] <= 0.5\\nsquared_error = 1380138.889\\nsamples = 3\\nvalue = 125258.333'),\n",
              " Text(0.23553719008264462, 0.40476190476190477, 'squared_error = 0.0\\nsamples = 1\\nvalue = 123600.0'),\n",
              " Text(0.23737373737373738, 0.40476190476190477, 'x[22] <= 0.292\\nsquared_error = 7656.25\\nsamples = 2\\nvalue = 126087.5'),\n",
              " Text(0.236455463728191, 0.35714285714285715, 'squared_error = 0.0\\nsamples = 1\\nvalue = 126000.0'),\n",
              " Text(0.23829201101928374, 0.35714285714285715, 'squared_error = 0.0\\nsamples = 1\\nvalue = 126175.0'),\n",
              " Text(0.24908172635445364, 0.5476190476190477, 'x[4] <= 0.812\\nsquared_error = 76187438.017\\nsamples = 22\\nvalue = 137427.273'),\n",
              " Text(0.2460973370064279, 0.5, 'x[11] <= 0.171\\nsquared_error = 44327475.0\\nsamples = 20\\nvalue = 135545.0'),\n",
              " Text(0.2428833792470156, 0.4523809523809524, 'x[1] <= 0.193\\nsquared_error = 32996734.694\\nsamples = 7\\nvalue = 129742.857'),\n",
              " Text(0.24104683195592286, 0.40476190476190477, 'x[187] <= 0.5\\nsquared_error = 7394400.0\\nsamples = 5\\nvalue = 132940.0'),\n",
              " Text(0.2401285583103765, 0.35714285714285715, 'squared_error = 0.0\\nsamples = 1\\nvalue = 128500.0'),\n",
              " Text(0.24196510560146925, 0.35714285714285715, 'x[2] <= 0.039\\nsquared_error = 3082500.0\\nsamples = 4\\nvalue = 134050.0'),\n",
              " Text(0.24104683195592286, 0.30952380952380953, 'x[202] <= 0.5\\nsquared_error = 242222.222\\nsamples = 3\\nvalue = 133066.667'),\n",
              " Text(0.2401285583103765, 0.2619047619047619, 'x[5] <= 0.656\\nsquared_error = 62500.0\\nsamples = 2\\nvalue = 132750.0'),\n",
              " Text(0.23921028466483013, 0.21428571428571427, 'squared_error = 0.0\\nsamples = 1\\nvalue = 132500.0'),\n",
              " Text(0.24104683195592286, 0.21428571428571427, 'squared_error = 0.0\\nsamples = 1\\nvalue = 133000.0'),\n",
              " Text(0.24196510560146925, 0.2619047619047619, 'squared_error = 0.0\\nsamples = 1\\nvalue = 133700.0'),\n",
              " Text(0.2428833792470156, 0.30952380952380953, 'squared_error = 0.0\\nsamples = 1\\nvalue = 137000.0'),\n",
              " Text(0.24471992653810837, 0.40476190476190477, 'x[156] <= 0.5\\nsquared_error = 7562500.0\\nsamples = 2\\nvalue = 121750.0'),\n",
              " Text(0.24380165289256198, 0.35714285714285715, 'squared_error = 0.0\\nsamples = 1\\nvalue = 119000.0'),\n",
              " Text(0.24563820018365473, 0.35714285714285715, 'squared_error = 0.0\\nsamples = 1\\nvalue = 124500.0'),\n",
              " Text(0.2493112947658402, 0.4523809523809524, 'x[6] <= 0.933\\nsquared_error = 22540591.716\\nsamples = 13\\nvalue = 138669.231'),\n",
              " Text(0.24839302112029385, 0.40476190476190477, 'x[167] <= 0.5\\nsquared_error = 11726115.702\\nsamples = 11\\nvalue = 137154.545'),\n",
              " Text(0.2474747474747475, 0.35714285714285715, 'x[120] <= 0.5\\nsquared_error = 3680100.0\\nsamples = 10\\nvalue = 138070.0'),\n",
              " Text(0.24563820018365473, 0.30952380952380953, 'x[6] <= 0.217\\nsquared_error = 2046875.0\\nsamples = 4\\nvalue = 136125.0'),\n",
              " Text(0.24471992653810837, 0.2619047619047619, 'x[175] <= 0.5\\nsquared_error = 222222.222\\nsamples = 3\\nvalue = 135333.333'),\n",
              " Text(0.24380165289256198, 0.21428571428571427, 'squared_error = 0.0\\nsamples = 2\\nvalue = 135000.0'),\n",
              " Text(0.24563820018365473, 0.21428571428571427, 'squared_error = 0.0\\nsamples = 1\\nvalue = 136000.0'),\n",
              " Text(0.2465564738292011, 0.2619047619047619, 'squared_error = 0.0\\nsamples = 1\\nvalue = 138500.0'),\n",
              " Text(0.2493112947658402, 0.30952380952380953, 'x[31] <= 0.127\\nsquared_error = 565555.556\\nsamples = 6\\nvalue = 139366.667'),\n",
              " Text(0.24839302112029385, 0.2619047619047619, 'x[6] <= 0.808\\nsquared_error = 38400.0\\nsamples = 5\\nvalue = 139040.0'),\n",
              " Text(0.2474747474747475, 0.21428571428571427, 'x[35] <= 0.125\\nsquared_error = 7500.0\\nsamples = 4\\nvalue = 138950.0'),\n",
              " Text(0.2465564738292011, 0.16666666666666666, 'squared_error = 0.0\\nsamples = 1\\nvalue = 138800.0'),\n",
              " Text(0.24839302112029385, 0.16666666666666666, 'squared_error = 0.0\\nsamples = 3\\nvalue = 139000.0'),\n",
              " Text(0.2493112947658402, 0.21428571428571427, 'squared_error = 0.0\\nsamples = 1\\nvalue = 139400.0'),\n",
              " Text(0.2502295684113866, 0.2619047619047619, 'squared_error = 0.0\\nsamples = 1\\nvalue = 141000.0'),\n",
              " Text(0.2493112947658402, 0.35714285714285715, 'squared_error = 0.0\\nsamples = 1\\nvalue = 128000.0'),\n",
              " Text(0.2502295684113866, 0.40476190476190477, 'squared_error = 0.0\\nsamples = 2\\nvalue = 147000.0'),\n",
              " Text(0.25206611570247933, 0.5, 'x[49] <= 0.5\\nsquared_error = 5062500.0\\nsamples = 2\\nvalue = 156250.0'),\n",
              " Text(0.25114784205693297, 0.4523809523809524, 'squared_error = 0.0\\nsamples = 1\\nvalue = 154000.0'),\n",
              " Text(0.2529843893480257, 0.4523809523809524, 'squared_error = 0.0\\nsamples = 1\\nvalue = 158500.0'),\n",
              " Text(0.24173553719008264, 0.5952380952380952, 'squared_error = 0.0\\nsamples = 1\\nvalue = 84500.0'),\n",
              " Text(0.26931602961432505, 0.6428571428571429, 'x[5] <= 0.576\\nsquared_error = 202078717.706\\nsamples = 69\\nvalue = 145615.217'),\n",
              " Text(0.2568870523415978, 0.5952380952380952, 'x[1] <= 0.116\\nsquared_error = 55655000.0\\nsamples = 4\\nvalue = 117100.0'),\n",
              " Text(0.255050505050505, 0.5476190476190477, 'x[248] <= 0.5\\nsquared_error = 90000.0\\nsamples = 2\\nvalue = 110200.0'),\n",
              " Text(0.25413223140495866, 0.5, 'squared_error = 0.0\\nsamples = 1\\nvalue = 110500.0'),\n",
              " Text(0.25596877869605145, 0.5, 'squared_error = 0.0\\nsamples = 1\\nvalue = 109900.0'),\n",
              " Text(0.25872359963269054, 0.5476190476190477, 'x[15] <= 0.144\\nsquared_error = 16000000.0\\nsamples = 2\\nvalue = 124000.0'),\n",
              " Text(0.2578053259871442, 0.5, 'squared_error = 0.0\\nsamples = 1\\nvalue = 128000.0'),\n",
              " Text(0.2596418732782369, 0.5, 'squared_error = 0.0\\nsamples = 1\\nvalue = 120000.0'),\n",
              " Text(0.28174500688705234, 0.5952380952380952, 'x[201] <= 0.5\\nsquared_error = 157972138.462\\nsamples = 65\\nvalue = 147370.0'),\n",
              " Text(0.2672319788797062, 0.5476190476190477, 'x[2] <= 0.032\\nsquared_error = 115526021.0\\nsamples = 50\\nvalue = 144627.0'),\n",
              " Text(0.2614784205693297, 0.5, 'x[24] <= 0.786\\nsquared_error = 69187159.763\\nsamples = 13\\nvalue = 136226.923'),\n",
              " Text(0.2596418732782369, 0.4523809523809524, 'x[7] <= 0.127\\nsquared_error = 20838225.0\\nsamples = 10\\nvalue = 132795.0'),\n",
              " Text(0.25872359963269054, 0.40476190476190477, 'x[34] <= 0.682\\nsquared_error = 15652098.765\\nsamples = 9\\nvalue = 133661.111'),\n",
              " Text(0.256198347107438, 0.35714285714285715, 'x[257] <= 0.5\\nsquared_error = 5479591.837\\nsamples = 7\\nvalue = 131857.143'),\n",
              " Text(0.25390266299357206, 0.30952380952380953, 'x[2] <= 0.028\\nsquared_error = 1260000.0\\nsamples = 5\\nvalue = 133200.0'),\n",
              " Text(0.25206611570247933, 0.2619047619047619, 'x[26] <= 0.357\\nsquared_error = 250000.0\\nsamples = 2\\nvalue = 134500.0'),\n",
              " Text(0.25114784205693297, 0.21428571428571427, 'squared_error = 0.0\\nsamples = 1\\nvalue = 135000.0'),\n",
              " Text(0.2529843893480257, 0.21428571428571427, 'squared_error = 0.0\\nsamples = 1\\nvalue = 134000.0'),\n",
              " Text(0.25573921028466484, 0.2619047619047619, 'x[203] <= 0.5\\nsquared_error = 55555.556\\nsamples = 3\\nvalue = 132333.333'),\n",
              " Text(0.2548209366391185, 0.21428571428571427, 'squared_error = 0.0\\nsamples = 2\\nvalue = 132500.0'),\n",
              " Text(0.2566574839302112, 0.21428571428571427, 'squared_error = 0.0\\nsamples = 1\\nvalue = 132000.0'),\n",
              " Text(0.25849403122130393, 0.30952380952380953, 'x[6] <= 0.308\\nsquared_error = 250000.0\\nsamples = 2\\nvalue = 128500.0'),\n",
              " Text(0.25757575757575757, 0.2619047619047619, 'squared_error = 0.0\\nsamples = 1\\nvalue = 129000.0'),\n",
              " Text(0.2594123048668503, 0.2619047619047619, 'squared_error = 0.0\\nsamples = 1\\nvalue = 128000.0'),\n",
              " Text(0.2612488521579431, 0.35714285714285715, 'x[110] <= 0.5\\nsquared_error = 625.0\\nsamples = 2\\nvalue = 139975.0'),\n",
              " Text(0.2603305785123967, 0.30952380952380953, 'squared_error = 0.0\\nsamples = 1\\nvalue = 139950.0'),\n",
              " Text(0.26216712580348944, 0.30952380952380953, 'squared_error = 0.0\\nsamples = 1\\nvalue = 140000.0'),\n",
              " Text(0.26056014692378326, 0.40476190476190477, 'squared_error = 0.0\\nsamples = 1\\nvalue = 125000.0'),\n",
              " Text(0.2633149678604224, 0.4523809523809524, 'x[12] <= 0.162\\nsquared_error = 60222222.222\\nsamples = 3\\nvalue = 147666.667'),\n",
              " Text(0.26239669421487605, 0.40476190476190477, 'squared_error = 0.0\\nsamples = 1\\nvalue = 138000.0'),\n",
              " Text(0.2642332415059688, 0.40476190476190477, 'x[27] <= 0.216\\nsquared_error = 20250000.0\\nsamples = 2\\nvalue = 152500.0'),\n",
              " Text(0.2633149678604224, 0.35714285714285715, 'squared_error = 0.0\\nsamples = 1\\nvalue = 157000.0'),\n",
              " Text(0.26515151515151514, 0.35714285714285715, 'squared_error = 0.0\\nsamples = 1\\nvalue = 148000.0'),\n",
              " Text(0.27298553719008267, 0.5, 'x[264] <= 0.5\\nsquared_error = 98304802.776\\nsamples = 37\\nvalue = 147578.378'),\n",
              " Text(0.27206726354453625, 0.4523809523809524, 'squared_error = 0.0\\nsamples = 1\\nvalue = 174900.0'),\n",
              " Text(0.27390381083562904, 0.4523809523809524, 'x[25] <= 0.375\\nsquared_error = 79724205.247\\nsamples = 36\\nvalue = 146819.444'),\n",
              " Text(0.26882460973370065, 0.40476190476190477, 'x[26] <= 0.229\\nsquared_error = 97582343.75\\nsamples = 8\\nvalue = 139537.5'),\n",
              " Text(0.2669880624426079, 0.35714285714285715, 'x[2] <= 0.084\\nsquared_error = 38305000.0\\nsamples = 4\\nvalue = 148100.0'),\n",
              " Text(0.2660697887970615, 0.30952380952380953, 'x[179] <= 0.5\\nsquared_error = 8388888.889\\nsamples = 3\\nvalue = 144833.333'),\n",
              " Text(0.26515151515151514, 0.2619047619047619, 'squared_error = 0.0\\nsamples = 1\\nvalue = 141000.0'),\n",
              " Text(0.2669880624426079, 0.2619047619047619, 'x[4] <= 0.688\\nsquared_error = 1562500.0\\nsamples = 2\\nvalue = 146750.0'),\n",
              " Text(0.2660697887970615, 0.21428571428571427, 'squared_error = 0.0\\nsamples = 1\\nvalue = 148000.0'),\n",
              " Text(0.2679063360881543, 0.21428571428571427, 'squared_error = 0.0\\nsamples = 1\\nvalue = 145500.0'),\n",
              " Text(0.2679063360881543, 0.30952380952380953, 'squared_error = 0.0\\nsamples = 1\\nvalue = 157900.0'),\n",
              " Text(0.2706611570247934, 0.35714285714285715, 'x[34] <= 0.045\\nsquared_error = 10226875.0\\nsamples = 4\\nvalue = 130975.0'),\n",
              " Text(0.269742883379247, 0.30952380952380953, 'squared_error = 0.0\\nsamples = 1\\nvalue = 136500.0'),\n",
              " Text(0.27157943067033974, 0.30952380952380953, 'x[250] <= 0.5\\nsquared_error = 68888.889\\nsamples = 3\\nvalue = 129133.333'),\n",
              " Text(0.2706611570247934, 0.2619047619047619, 'squared_error = 0.0\\nsamples = 1\\nvalue = 129500.0'),\n",
              " Text(0.27249770431588616, 0.2619047619047619, 'x[27] <= 0.026\\nsquared_error = 2500.0\\nsamples = 2\\nvalue = 128950.0'),\n",
              " Text(0.27157943067033974, 0.21428571428571427, 'squared_error = 0.0\\nsamples = 1\\nvalue = 128900.0'),\n",
              " Text(0.2734159779614325, 0.21428571428571427, 'squared_error = 0.0\\nsamples = 1\\nvalue = 129000.0'),\n",
              " Text(0.27898301193755737, 0.40476190476190477, 'x[3] <= 0.389\\nsquared_error = 55142678.571\\nsamples = 28\\nvalue = 148900.0'),\n",
              " Text(0.2743342516069789, 0.35714285714285715, 'x[12] <= 0.171\\nsquared_error = 10430555.556\\nsamples = 3\\nvalue = 136583.333'),\n",
              " Text(0.2734159779614325, 0.30952380952380953, 'squared_error = 0.0\\nsamples = 1\\nvalue = 132250.0'),\n",
              " Text(0.27525252525252525, 0.30952380952380953, 'x[281] <= 0.5\\nsquared_error = 1562500.0\\nsamples = 2\\nvalue = 138750.0'),\n",
              " Text(0.2743342516069789, 0.2619047619047619, 'squared_error = 0.0\\nsamples = 1\\nvalue = 140000.0'),\n",
              " Text(0.2761707988980716, 0.2619047619047619, 'squared_error = 0.0\\nsamples = 1\\nvalue = 137500.0'),\n",
              " Text(0.2836317722681359, 0.35714285714285715, 'x[50] <= 0.5\\nsquared_error = 40119616.0\\nsamples = 25\\nvalue = 150378.0'),\n",
              " Text(0.28271349862258954, 0.30952380952380953, 'x[22] <= 0.292\\nsquared_error = 30148953.993\\nsamples = 24\\nvalue = 151060.417'),\n",
              " Text(0.2780073461891644, 0.2619047619047619, 'x[11] <= 0.175\\nsquared_error = 27870041.322\\nsamples = 11\\nvalue = 153686.364'),\n",
              " Text(0.2761707988980716, 0.21428571428571427, 'x[24] <= 0.795\\nsquared_error = 17818400.0\\nsamples = 5\\nvalue = 149110.0'),\n",
              " Text(0.27525252525252525, 0.16666666666666666, 'x[11] <= 0.162\\nsquared_error = 7437968.75\\nsamples = 4\\nvalue = 147387.5'),\n",
              " Text(0.2743342516069789, 0.11904761904761904, 'squared_error = 0.0\\nsamples = 1\\nvalue = 143250.0'),\n",
              " Text(0.2761707988980716, 0.11904761904761904, 'x[56] <= 0.5\\nsquared_error = 2308888.889\\nsamples = 3\\nvalue = 148766.667'),\n",
              " Text(0.27525252525252525, 0.07142857142857142, 'x[162] <= 0.5\\nsquared_error = 562500.0\\nsamples = 2\\nvalue = 149750.0'),\n",
              " Text(0.2743342516069789, 0.023809523809523808, 'squared_error = 0.0\\nsamples = 1\\nvalue = 150500.0'),\n",
              " Text(0.2761707988980716, 0.023809523809523808, 'squared_error = 0.0\\nsamples = 1\\nvalue = 149000.0'),\n",
              " Text(0.277089072543618, 0.07142857142857142, 'squared_error = 0.0\\nsamples = 1\\nvalue = 146800.0'),\n",
              " Text(0.277089072543618, 0.16666666666666666, 'squared_error = 0.0\\nsamples = 1\\nvalue = 156000.0'),\n",
              " Text(0.2798438934802571, 0.21428571428571427, 'x[71] <= 0.5\\nsquared_error = 4250000.0\\nsamples = 6\\nvalue = 157500.0'),\n",
              " Text(0.27892561983471076, 0.16666666666666666, 'x[15] <= 0.152\\nsquared_error = 1687500.0\\nsamples = 4\\nvalue = 158750.0'),\n",
              " Text(0.2780073461891644, 0.11904761904761904, 'squared_error = 0.0\\nsamples = 2\\nvalue = 160000.0'),\n",
              " Text(0.2798438934802571, 0.11904761904761904, 'x[84] <= 0.5\\nsquared_error = 250000.0\\nsamples = 2\\nvalue = 157500.0'),\n",
              " Text(0.27892561983471076, 0.07142857142857142, 'squared_error = 0.0\\nsamples = 1\\nvalue = 157000.0'),\n",
              " Text(0.2807621671258035, 0.07142857142857142, 'squared_error = 0.0\\nsamples = 1\\nvalue = 158000.0'),\n",
              " Text(0.2807621671258035, 0.16666666666666666, 'squared_error = 0.0\\nsamples = 2\\nvalue = 155000.0'),\n",
              " Text(0.2874196510560147, 0.2619047619047619, 'x[34] <= 0.409\\nsquared_error = 21305443.787\\nsamples = 13\\nvalue = 148838.462'),\n",
              " Text(0.28351698806244263, 0.21428571428571427, 'x[11] <= 0.182\\nsquared_error = 1602222.222\\nsamples = 3\\nvalue = 143133.333'),\n",
              " Text(0.2825987144168962, 0.16666666666666666, 'squared_error = 0.0\\nsamples = 1\\nvalue = 144900.0'),\n",
              " Text(0.284435261707989, 0.16666666666666666, 'x[6] <= 0.533\\nsquared_error = 62500.0\\nsamples = 2\\nvalue = 142250.0'),\n",
              " Text(0.28351698806244263, 0.11904761904761904, 'squared_error = 0.0\\nsamples = 1\\nvalue = 142000.0'),\n",
              " Text(0.28535353535353536, 0.11904761904761904, 'squared_error = 0.0\\nsamples = 1\\nvalue = 142500.0'),\n",
              " Text(0.29132231404958675, 0.21428571428571427, 'x[156] <= 0.5\\nsquared_error = 14522500.0\\nsamples = 10\\nvalue = 150550.0'),\n",
              " Text(0.28902662993572087, 0.16666666666666666, 'x[26] <= 0.352\\nsquared_error = 10433593.75\\nsamples = 8\\nvalue = 149312.5'),\n",
              " Text(0.2871900826446281, 0.11904761904761904, 'x[10] <= 0.042\\nsquared_error = 1722222.222\\nsamples = 3\\nvalue = 152833.333'),\n",
              " Text(0.2862718089990817, 0.07142857142857142, 'squared_error = 0.0\\nsamples = 1\\nvalue = 151000.0'),\n",
              " Text(0.28810835629017445, 0.07142857142857142, 'x[139] <= 0.5\\nsquared_error = 62500.0\\nsamples = 2\\nvalue = 153750.0'),\n",
              " Text(0.2871900826446281, 0.023809523809523808, 'squared_error = 0.0\\nsamples = 1\\nvalue = 154000.0'),\n",
              " Text(0.28902662993572087, 0.023809523809523808, 'squared_error = 0.0\\nsamples = 1\\nvalue = 153500.0'),\n",
              " Text(0.2908631772268136, 0.11904761904761904, 'x[223] <= 0.5\\nsquared_error = 3760000.0\\nsamples = 5\\nvalue = 147200.0'),\n",
              " Text(0.28994490358126723, 0.07142857142857142, 'squared_error = 0.0\\nsamples = 2\\nvalue = 145000.0'),\n",
              " Text(0.29178145087235996, 0.07142857142857142, 'x[2] <= 0.039\\nsquared_error = 888888.889\\nsamples = 3\\nvalue = 148666.667'),\n",
              " Text(0.2908631772268136, 0.023809523809523808, 'squared_error = 0.0\\nsamples = 1\\nvalue = 150000.0'),\n",
              " Text(0.2926997245179063, 0.023809523809523808, 'squared_error = 0.0\\nsamples = 2\\nvalue = 148000.0'),\n",
              " Text(0.2936179981634527, 0.16666666666666666, 'x[4] <= 0.688\\nsquared_error = 250000.0\\nsamples = 2\\nvalue = 155500.0'),\n",
              " Text(0.2926997245179063, 0.11904761904761904, 'squared_error = 0.0\\nsamples = 1\\nvalue = 155000.0'),\n",
              " Text(0.2945362718089991, 0.11904761904761904, 'squared_error = 0.0\\nsamples = 1\\nvalue = 156000.0'),\n",
              " Text(0.28455004591368227, 0.30952380952380953, 'squared_error = 0.0\\nsamples = 1\\nvalue = 134000.0'),\n",
              " Text(0.2962580348943985, 0.5476190476190477, 'x[12] <= 0.181\\nsquared_error = 190778488.889\\nsamples = 15\\nvalue = 156513.333'),\n",
              " Text(0.29132231404958675, 0.5, 'x[35] <= 0.375\\nsquared_error = 111264722.222\\nsamples = 12\\nvalue = 151516.667'),\n",
              " Text(0.2874196510560147, 0.4523809523809524, 'x[49] <= 0.5\\nsquared_error = 18055555.556\\nsamples = 3\\nvalue = 136666.667'),\n",
              " Text(0.2865013774104683, 0.40476190476190477, 'squared_error = 0.0\\nsamples = 1\\nvalue = 142500.0'),\n",
              " Text(0.28833792470156105, 0.40476190476190477, 'x[34] <= 0.455\\nsquared_error = 1562500.0\\nsamples = 2\\nvalue = 133750.0'),\n",
              " Text(0.2874196510560147, 0.35714285714285715, 'squared_error = 0.0\\nsamples = 1\\nvalue = 135000.0'),\n",
              " Text(0.2892561983471074, 0.35714285714285715, 'squared_error = 0.0\\nsamples = 1\\nvalue = 132500.0'),\n",
              " Text(0.29522497704315886, 0.4523809523809524, 'x[26] <= 0.415\\nsquared_error = 44324444.444\\nsamples = 9\\nvalue = 156466.667'),\n",
              " Text(0.29292929292929293, 0.40476190476190477, 'x[11] <= 0.179\\nsquared_error = 9251020.408\\nsamples = 7\\nvalue = 153257.143'),\n",
              " Text(0.2910927456382002, 0.35714285714285715, 'x[281] <= 0.5\\nsquared_error = 3506400.0\\nsamples = 5\\nvalue = 151760.0'),\n",
              " Text(0.29017447199265384, 0.30952380952380953, 'x[4] <= 0.562\\nsquared_error = 1102500.0\\nsamples = 4\\nvalue = 150950.0'),\n",
              " Text(0.2892561983471074, 0.2619047619047619, 'squared_error = 0.0\\nsamples = 2\\nvalue = 152000.0'),\n",
              " Text(0.2910927456382002, 0.2619047619047619, 'squared_error = 0.0\\nsamples = 2\\nvalue = 149900.0'),\n",
              " Text(0.29201101928374656, 0.30952380952380953, 'squared_error = 0.0\\nsamples = 1\\nvalue = 155000.0'),\n",
              " Text(0.29476584022038566, 0.35714285714285715, 'x[10] <= 0.164\\nsquared_error = 4000000.0\\nsamples = 2\\nvalue = 157000.0'),\n",
              " Text(0.2938475665748393, 0.30952380952380953, 'squared_error = 0.0\\nsamples = 1\\nvalue = 155000.0'),\n",
              " Text(0.2956841138659321, 0.30952380952380953, 'squared_error = 0.0\\nsamples = 1\\nvalue = 159000.0'),\n",
              " Text(0.2975206611570248, 0.40476190476190477, 'x[118] <= 0.5\\nsquared_error = 4840000.0\\nsamples = 2\\nvalue = 167700.0'),\n",
              " Text(0.29660238751147844, 0.35714285714285715, 'squared_error = 0.0\\nsamples = 1\\nvalue = 165500.0'),\n",
              " Text(0.29843893480257117, 0.35714285714285715, 'squared_error = 0.0\\nsamples = 1\\nvalue = 169900.0'),\n",
              " Text(0.3011937557392103, 0.5, 'x[0] <= 0.176\\nsquared_error = 9500000.0\\nsamples = 3\\nvalue = 176500.0'),\n",
              " Text(0.3002754820936639, 0.4523809523809524, 'x[221] <= 0.5\\nsquared_error = 2250000.0\\nsamples = 2\\nvalue = 174500.0'),\n",
              " Text(0.29935720844811753, 0.40476190476190477, 'squared_error = 0.0\\nsamples = 1\\nvalue = 176000.0'),\n",
              " Text(0.3011937557392103, 0.40476190476190477, 'squared_error = 0.0\\nsamples = 1\\nvalue = 173000.0'),\n",
              " Text(0.3021120293847567, 0.4523809523809524, 'squared_error = 0.0\\nsamples = 1\\nvalue = 180500.0'),\n",
              " Text(0.330248507805326, 0.6904761904761905, 'x[186] <= 0.5\\nsquared_error = 442987377.598\\nsamples = 52\\nvalue = 161858.308'),\n",
              " Text(0.3160296143250689, 0.6428571428571429, 'x[5] <= 0.475\\nsquared_error = 243898371.914\\nsamples = 36\\nvalue = 153780.556'),\n",
              " Text(0.30968778696051424, 0.5952380952380952, 'x[230] <= 0.5\\nsquared_error = 156250000.0\\nsamples = 2\\nvalue = 112500.0'),\n",
              " Text(0.3087695133149679, 0.5476190476190477, 'squared_error = 0.0\\nsamples = 1\\nvalue = 125000.0'),\n",
              " Text(0.3106060606060606, 0.5476190476190477, 'squared_error = 0.0\\nsamples = 1\\nvalue = 100000.0'),\n",
              " Text(0.3223714416896235, 0.5952380952380952, 'x[10] <= 0.172\\nsquared_error = 142917422.145\\nsamples = 34\\nvalue = 156208.824'),\n",
              " Text(0.31244260789715333, 0.5476190476190477, 'x[257] <= 0.5\\nsquared_error = 98639648.438\\nsamples = 16\\nvalue = 162368.75'),\n",
              " Text(0.30808080808080807, 0.5, 'x[3] <= 0.5\\nsquared_error = 63363636.364\\nsamples = 11\\nvalue = 157900.0'),\n",
              " Text(0.30486685032139577, 0.4523809523809524, 'x[139] <= 0.5\\nsquared_error = 38744081.633\\nsamples = 7\\nvalue = 153485.714'),\n",
              " Text(0.30303030303030304, 0.40476190476190477, 'x[172] <= 0.5\\nsquared_error = 19505600.0\\nsamples = 5\\nvalue = 156580.0'),\n",
              " Text(0.3021120293847567, 0.35714285714285715, 'squared_error = 0.0\\nsamples = 1\\nvalue = 164900.0'),\n",
              " Text(0.3039485766758494, 0.35714285714285715, 'x[26] <= 0.308\\nsquared_error = 2750000.0\\nsamples = 4\\nvalue = 154500.0'),\n",
              " Text(0.30303030303030304, 0.30952380952380953, 'x[106] <= 0.5\\nsquared_error = 1000000.0\\nsamples = 2\\nvalue = 156000.0'),\n",
              " Text(0.3021120293847567, 0.2619047619047619, 'squared_error = 0.0\\nsamples = 1\\nvalue = 157000.0'),\n",
              " Text(0.3039485766758494, 0.2619047619047619, 'squared_error = 0.0\\nsamples = 1\\nvalue = 155000.0'),\n",
              " Text(0.30486685032139577, 0.30952380952380953, 'squared_error = 0.0\\nsamples = 2\\nvalue = 153000.0'),\n",
              " Text(0.30670339761248855, 0.40476190476190477, 'x[2] <= 0.039\\nsquared_error = 3062500.0\\nsamples = 2\\nvalue = 145750.0'),\n",
              " Text(0.30578512396694213, 0.35714285714285715, 'squared_error = 0.0\\nsamples = 1\\nvalue = 144000.0'),\n",
              " Text(0.3076216712580349, 0.35714285714285715, 'squared_error = 0.0\\nsamples = 1\\nvalue = 147500.0'),\n",
              " Text(0.31129476584022037, 0.4523809523809524, 'x[281] <= 0.5\\nsquared_error = 12671875.0\\nsamples = 4\\nvalue = 165625.0'),\n",
              " Text(0.310376492194674, 0.40476190476190477, 'x[26] <= 0.287\\nsquared_error = 1555555.556\\nsamples = 3\\nvalue = 163666.667'),\n",
              " Text(0.30945821854912764, 0.35714285714285715, 'x[256] <= 0.5\\nsquared_error = 250000.0\\nsamples = 2\\nvalue = 164500.0'),\n",
              " Text(0.3085399449035813, 0.30952380952380953, 'squared_error = 0.0\\nsamples = 1\\nvalue = 164000.0'),\n",
              " Text(0.310376492194674, 0.30952380952380953, 'squared_error = 0.0\\nsamples = 1\\nvalue = 165000.0'),\n",
              " Text(0.31129476584022037, 0.35714285714285715, 'squared_error = 0.0\\nsamples = 1\\nvalue = 162000.0'),\n",
              " Text(0.3122130394857668, 0.40476190476190477, 'squared_error = 0.0\\nsamples = 1\\nvalue = 171500.0'),\n",
              " Text(0.3168044077134986, 0.5, 'x[6] <= 0.542\\nsquared_error = 35660000.0\\nsamples = 5\\nvalue = 172200.0'),\n",
              " Text(0.3149678604224059, 0.4523809523809524, 'x[26] <= 0.382\\nsquared_error = 5388888.889\\nsamples = 3\\nvalue = 167666.667'),\n",
              " Text(0.3140495867768595, 0.40476190476190477, 'x[0] <= 0.176\\nsquared_error = 562500.0\\nsamples = 2\\nvalue = 169250.0'),\n",
              " Text(0.31313131313131315, 0.35714285714285715, 'squared_error = 0.0\\nsamples = 1\\nvalue = 170000.0'),\n",
              " Text(0.3149678604224059, 0.35714285714285715, 'squared_error = 0.0\\nsamples = 1\\nvalue = 168500.0'),\n",
              " Text(0.31588613406795224, 0.40476190476190477, 'squared_error = 0.0\\nsamples = 1\\nvalue = 164500.0'),\n",
              " Text(0.3186409550045914, 0.4523809523809524, 'x[158] <= 0.5\\nsquared_error = 4000000.0\\nsamples = 2\\nvalue = 179000.0'),\n",
              " Text(0.317722681359045, 0.40476190476190477, 'squared_error = 0.0\\nsamples = 1\\nvalue = 181000.0'),\n",
              " Text(0.31955922865013775, 0.40476190476190477, 'squared_error = 0.0\\nsamples = 1\\nvalue = 177000.0'),\n",
              " Text(0.3323002754820937, 0.5476190476190477, 'x[31] <= 0.149\\nsquared_error = 118565833.333\\nsamples = 18\\nvalue = 150733.333'),\n",
              " Text(0.32759412304866853, 0.5, 'x[3] <= 0.5\\nsquared_error = 90961581.633\\nsamples = 14\\nvalue = 147085.714'),\n",
              " Text(0.3236914600550964, 0.4523809523809524, 'x[24] <= 0.6\\nsquared_error = 36709722.222\\nsamples = 6\\nvalue = 139866.667'),\n",
              " Text(0.3213957759412305, 0.40476190476190477, 'x[23] <= 0.167\\nsquared_error = 10719218.75\\nsamples = 4\\nvalue = 136362.5'),\n",
              " Text(0.31955922865013775, 0.35714285714285715, 'x[9] <= 0.033\\nsquared_error = 250000.0\\nsamples = 2\\nvalue = 139500.0'),\n",
              " Text(0.3186409550045914, 0.30952380952380953, 'squared_error = 0.0\\nsamples = 1\\nvalue = 139000.0'),\n",
              " Text(0.3204775022956841, 0.30952380952380953, 'squared_error = 0.0\\nsamples = 1\\nvalue = 140000.0'),\n",
              " Text(0.32323232323232326, 0.35714285714285715, 'x[234] <= 0.5\\nsquared_error = 1500625.0\\nsamples = 2\\nvalue = 133225.0'),\n",
              " Text(0.32231404958677684, 0.30952380952380953, 'squared_error = 0.0\\nsamples = 1\\nvalue = 132000.0'),\n",
              " Text(0.3241505968778696, 0.30952380952380953, 'squared_error = 0.0\\nsamples = 1\\nvalue = 134450.0'),\n",
              " Text(0.32598714416896235, 0.40476190476190477, 'x[11] <= 0.186\\nsquared_error = 15015625.0\\nsamples = 2\\nvalue = 146875.0'),\n",
              " Text(0.325068870523416, 0.35714285714285715, 'squared_error = 0.0\\nsamples = 1\\nvalue = 150750.0'),\n",
              " Text(0.3269054178145087, 0.35714285714285715, 'squared_error = 0.0\\nsamples = 1\\nvalue = 143000.0'),\n",
              " Text(0.3314967860422406, 0.4523809523809524, 'x[26] <= 0.364\\nsquared_error = 63250000.0\\nsamples = 8\\nvalue = 152500.0'),\n",
              " Text(0.32966023875114786, 0.40476190476190477, 'x[90] <= 0.5\\nsquared_error = 19600000.0\\nsamples = 5\\nvalue = 158000.0'),\n",
              " Text(0.3287419651056015, 0.35714285714285715, 'x[165] <= 0.5\\nsquared_error = 4500000.0\\nsamples = 4\\nvalue = 160000.0'),\n",
              " Text(0.3278236914600551, 0.30952380952380953, 'squared_error = 0.0\\nsamples = 1\\nvalue = 163000.0'),\n",
              " Text(0.32966023875114786, 0.30952380952380953, 'x[20] <= 0.312\\nsquared_error = 2000000.0\\nsamples = 3\\nvalue = 159000.0'),\n",
              " Text(0.3287419651056015, 0.2619047619047619, 'squared_error = 0.0\\nsamples = 1\\nvalue = 157000.0'),\n",
              " Text(0.3305785123966942, 0.2619047619047619, 'squared_error = 0.0\\nsamples = 2\\nvalue = 160000.0'),\n",
              " Text(0.3305785123966942, 0.35714285714285715, 'squared_error = 0.0\\nsamples = 1\\nvalue = 150000.0'),\n",
              " Text(0.3333333333333333, 0.40476190476190477, 'x[154] <= 0.5\\nsquared_error = 1555555.556\\nsamples = 3\\nvalue = 143333.333'),\n",
              " Text(0.33241505968778695, 0.35714285714285715, 'squared_error = 0.0\\nsamples = 1\\nvalue = 145000.0'),\n",
              " Text(0.3342516069788797, 0.35714285714285715, 'x[171] <= 0.5\\nsquared_error = 250000.0\\nsamples = 2\\nvalue = 142500.0'),\n",
              " Text(0.3333333333333333, 0.30952380952380953, 'squared_error = 0.0\\nsamples = 1\\nvalue = 143000.0'),\n",
              " Text(0.3351698806244261, 0.30952380952380953, 'squared_error = 0.0\\nsamples = 1\\nvalue = 142000.0'),\n",
              " Text(0.3370064279155188, 0.5, 'x[7] <= 0.101\\nsquared_error = 5625000.0\\nsamples = 4\\nvalue = 163500.0'),\n",
              " Text(0.33608815426997246, 0.4523809523809524, 'x[120] <= 0.5\\nsquared_error = 388888.889\\nsamples = 3\\nvalue = 162166.667'),\n",
              " Text(0.3351698806244261, 0.40476190476190477, 'squared_error = 0.0\\nsamples = 1\\nvalue = 163000.0'),\n",
              " Text(0.3370064279155188, 0.40476190476190477, 'x[175] <= 0.5\\nsquared_error = 62500.0\\nsamples = 2\\nvalue = 161750.0'),\n",
              " Text(0.33608815426997246, 0.35714285714285715, 'squared_error = 0.0\\nsamples = 1\\nvalue = 161500.0'),\n",
              " Text(0.3379247015610652, 0.35714285714285715, 'squared_error = 0.0\\nsamples = 1\\nvalue = 162000.0'),\n",
              " Text(0.3379247015610652, 0.4523809523809524, 'squared_error = 0.0\\nsamples = 1\\nvalue = 167500.0'),\n",
              " Text(0.3444674012855831, 0.6428571428571429, 'x[22] <= 0.208\\nsquared_error = 413796433.438\\nsamples = 16\\nvalue = 180033.25'),\n",
              " Text(0.3415977961432507, 0.5952380952380952, 'x[245] <= 0.5\\nsquared_error = 178222500.0\\nsamples = 2\\nvalue = 221650.0'),\n",
              " Text(0.34067952249770433, 0.5476190476190477, 'squared_error = 0.0\\nsamples = 1\\nvalue = 208300.0'),\n",
              " Text(0.34251606978879706, 0.5476190476190477, 'squared_error = 0.0\\nsamples = 1\\nvalue = 235000.0'),\n",
              " Text(0.34733700642791554, 0.5952380952380952, 'x[5] <= 0.822\\nsquared_error = 164681872.0\\nsamples = 14\\nvalue = 174088.0'),\n",
              " Text(0.3443526170798898, 0.5476190476190477, 'x[62] <= 0.5\\nsquared_error = 129288888.889\\nsamples = 6\\nvalue = 163066.667'),\n",
              " Text(0.3434343434343434, 0.5, 'x[141] <= 0.5\\nsquared_error = 63261600.0\\nsamples = 5\\nvalue = 166980.0'),\n",
              " Text(0.34251606978879706, 0.4523809523809524, 'x[247] <= 0.5\\nsquared_error = 13192500.0\\nsamples = 4\\nvalue = 163350.0'),\n",
              " Text(0.34067952249770433, 0.40476190476190477, 'x[234] <= 0.5\\nsquared_error = 5062500.0\\nsamples = 2\\nvalue = 160250.0'),\n",
              " Text(0.3397612488521579, 0.35714285714285715, 'squared_error = 0.0\\nsamples = 1\\nvalue = 162500.0'),\n",
              " Text(0.3415977961432507, 0.35714285714285715, 'squared_error = 0.0\\nsamples = 1\\nvalue = 158000.0'),\n",
              " Text(0.3443526170798898, 0.40476190476190477, 'x[22] <= 0.375\\nsquared_error = 2102500.0\\nsamples = 2\\nvalue = 166450.0'),\n",
              " Text(0.3434343434343434, 0.35714285714285715, 'squared_error = 0.0\\nsamples = 1\\nvalue = 167900.0'),\n",
              " Text(0.34527089072543615, 0.35714285714285715, 'squared_error = 0.0\\nsamples = 1\\nvalue = 165000.0'),\n",
              " Text(0.3443526170798898, 0.4523809523809524, 'squared_error = 0.0\\nsamples = 1\\nvalue = 181500.0'),\n",
              " Text(0.34527089072543615, 0.5, 'squared_error = 0.0\\nsamples = 1\\nvalue = 143500.0'),\n",
              " Text(0.35032139577594124, 0.5476190476190477, 'x[12] <= 0.233\\nsquared_error = 31797512.0\\nsamples = 8\\nvalue = 182354.0'),\n",
              " Text(0.34940312213039487, 0.5, 'x[49] <= 0.5\\nsquared_error = 11454509.061\\nsamples = 7\\nvalue = 180590.286'),\n",
              " Text(0.34710743801652894, 0.4523809523809524, 'x[8] <= 0.032\\nsquared_error = 285156.0\\nsamples = 2\\nvalue = 176966.0'),\n",
              " Text(0.34618916437098257, 0.40476190476190477, 'squared_error = 0.0\\nsamples = 1\\nvalue = 176432.0'),\n",
              " Text(0.3480257116620753, 0.40476190476190477, 'squared_error = 0.0\\nsamples = 1\\nvalue = 177500.0'),\n",
              " Text(0.3516988062442608, 0.4523809523809524, 'x[161] <= 0.5\\nsquared_error = 8566400.0\\nsamples = 5\\nvalue = 182040.0'),\n",
              " Text(0.349862258953168, 0.40476190476190477, 'x[26] <= 0.355\\nsquared_error = 808888.889\\nsamples = 3\\nvalue = 179733.333'),\n",
              " Text(0.34894398530762166, 0.35714285714285715, 'x[16] <= 0.667\\nsquared_error = 10000.0\\nsamples = 2\\nvalue = 179100.0'),\n",
              " Text(0.3480257116620753, 0.30952380952380953, 'squared_error = 0.0\\nsamples = 1\\nvalue = 179200.0'),\n",
              " Text(0.349862258953168, 0.30952380952380953, 'squared_error = 0.0\\nsamples = 1\\nvalue = 179000.0'),\n",
              " Text(0.3507805325987144, 0.35714285714285715, 'squared_error = 0.0\\nsamples = 1\\nvalue = 181000.0'),\n",
              " Text(0.35353535353535354, 0.40476190476190477, 'x[71] <= 0.5\\nsquared_error = 250000.0\\nsamples = 2\\nvalue = 185500.0'),\n",
              " Text(0.3526170798898072, 0.35714285714285715, 'squared_error = 0.0\\nsamples = 1\\nvalue = 185000.0'),\n",
              " Text(0.3544536271808999, 0.35714285714285715, 'squared_error = 0.0\\nsamples = 1\\nvalue = 186000.0'),\n",
              " Text(0.3512396694214876, 0.5, 'squared_error = 0.0\\nsamples = 1\\nvalue = 194700.0'),\n",
              " Text(0.46536834969008267, 0.8333333333333334, 'x[8] <= 0.042\\nsquared_error = 1428211651.671\\nsamples = 266\\nvalue = 166066.241'),\n",
              " Text(0.3992302284205693, 0.7857142857142857, 'x[3] <= 0.5\\nsquared_error = 1066890549.107\\nsamples = 113\\nvalue = 146125.841'),\n",
              " Text(0.37980658861340677, 0.7380952380952381, 'x[224] <= 0.5\\nsquared_error = 572517285.347\\nsamples = 55\\nvalue = 129155.327'),\n",
              " Text(0.36659205693296604, 0.6904761904761905, 'x[4] <= 0.438\\nsquared_error = 430638393.844\\nsamples = 40\\nvalue = 137368.575'),\n",
              " Text(0.3581267217630854, 0.6428571428571429, 'x[158] <= 0.5\\nsquared_error = 448289795.918\\nsamples = 7\\nvalue = 116614.286'),\n",
              " Text(0.3558310376492195, 0.5952380952380952, 'x[26] <= 0.217\\nsquared_error = 124349600.0\\nsamples = 5\\nvalue = 104680.0'),\n",
              " Text(0.35399449035812675, 0.5476190476190477, 'x[146] <= 0.5\\nsquared_error = 562500.0\\nsamples = 2\\nvalue = 92250.0'),\n",
              " Text(0.3530762167125803, 0.5, 'squared_error = 0.0\\nsamples = 1\\nvalue = 91500.0'),\n",
              " Text(0.3549127640036731, 0.5, 'squared_error = 0.0\\nsamples = 1\\nvalue = 93000.0'),\n",
              " Text(0.3576675849403122, 0.5476190476190477, 'x[90] <= 0.5\\nsquared_error = 35202222.222\\nsamples = 3\\nvalue = 112966.667'),\n",
              " Text(0.35674931129476584, 0.5, 'x[5] <= 0.652\\nsquared_error = 4000000.0\\nsamples = 2\\nvalue = 117000.0'),\n",
              " Text(0.3558310376492195, 0.4523809523809524, 'squared_error = 0.0\\nsamples = 1\\nvalue = 115000.0'),\n",
              " Text(0.3576675849403122, 0.4523809523809524, 'squared_error = 0.0\\nsamples = 1\\nvalue = 119000.0'),\n",
              " Text(0.35858585858585856, 0.5, 'squared_error = 0.0\\nsamples = 1\\nvalue = 104900.0'),\n",
              " Text(0.36042240587695135, 0.5952380952380952, 'x[7] <= 0.041\\nsquared_error = 11902500.0\\nsamples = 2\\nvalue = 146450.0'),\n",
              " Text(0.359504132231405, 0.5476190476190477, 'squared_error = 0.0\\nsamples = 1\\nvalue = 143000.0'),\n",
              " Text(0.3613406795224977, 0.5476190476190477, 'squared_error = 0.0\\nsamples = 1\\nvalue = 149900.0'),\n",
              " Text(0.37505739210284667, 0.6428571428571429, 'x[15] <= 0.371\\nsquared_error = 316143609.152\\nsamples = 33\\nvalue = 141771.0'),\n",
              " Text(0.3701790633608815, 0.5952380952380952, 'x[248] <= 0.5\\nsquared_error = 234900119.725\\nsamples = 31\\nvalue = 139369.129'),\n",
              " Text(0.36317722681359044, 0.5476190476190477, 'x[111] <= 0.5\\nsquared_error = 123510100.0\\nsamples = 10\\nvalue = 151570.0'),\n",
              " Text(0.3608815426997245, 0.5, 'x[180] <= 0.5\\nsquared_error = 39049166.667\\nsamples = 6\\nvalue = 144150.0'),\n",
              " Text(0.35996326905417814, 0.4523809523809524, 'x[1] <= 0.151\\nsquared_error = 4085600.0\\nsamples = 5\\nvalue = 141480.0'),\n",
              " Text(0.3581267217630854, 0.40476190476190477, 'x[57] <= 0.5\\nsquared_error = 2500.0\\nsamples = 2\\nvalue = 143950.0'),\n",
              " Text(0.35720844811753905, 0.35714285714285715, 'squared_error = 0.0\\nsamples = 1\\nvalue = 144000.0'),\n",
              " Text(0.3590449954086318, 0.35714285714285715, 'squared_error = 0.0\\nsamples = 1\\nvalue = 143900.0'),\n",
              " Text(0.36179981634527086, 0.40476190476190477, 'x[211] <= 0.5\\nsquared_error = 28888.889\\nsamples = 3\\nvalue = 139833.333'),\n",
              " Text(0.3608815426997245, 0.35714285714285715, 'squared_error = 0.0\\nsamples = 1\\nvalue = 139600.0'),\n",
              " Text(0.3627180899908173, 0.35714285714285715, 'x[35] <= 0.625\\nsquared_error = 2500.0\\nsamples = 2\\nvalue = 139950.0'),\n",
              " Text(0.36179981634527086, 0.30952380952380953, 'squared_error = 0.0\\nsamples = 1\\nvalue = 139900.0'),\n",
              " Text(0.36363636363636365, 0.30952380952380953, 'squared_error = 0.0\\nsamples = 1\\nvalue = 140000.0'),\n",
              " Text(0.36179981634527086, 0.4523809523809524, 'squared_error = 0.0\\nsamples = 1\\nvalue = 157500.0'),\n",
              " Text(0.3654729109274564, 0.5, 'x[175] <= 0.5\\nsquared_error = 43740000.0\\nsamples = 4\\nvalue = 162700.0'),\n",
              " Text(0.36455463728191, 0.4523809523809524, 'x[49] <= 0.5\\nsquared_error = 15635555.556\\nsamples = 3\\nvalue = 159433.333'),\n",
              " Text(0.36363636363636365, 0.40476190476190477, 'squared_error = 0.0\\nsamples = 1\\nvalue = 153900.0'),\n",
              " Text(0.3654729109274564, 0.40476190476190477, 'x[245] <= 0.5\\nsquared_error = 490000.0\\nsamples = 2\\nvalue = 162200.0'),\n",
              " Text(0.36455463728191, 0.35714285714285715, 'squared_error = 0.0\\nsamples = 1\\nvalue = 161500.0'),\n",
              " Text(0.36639118457300274, 0.35714285714285715, 'squared_error = 0.0\\nsamples = 1\\nvalue = 162900.0'),\n",
              " Text(0.36639118457300274, 0.4523809523809524, 'squared_error = 0.0\\nsamples = 1\\nvalue = 172500.0'),\n",
              " Text(0.37718089990817266, 0.5476190476190477, 'x[5] <= 0.873\\nsquared_error = 183301289.583\\nsamples = 21\\nvalue = 133559.19'),\n",
              " Text(0.37626262626262624, 0.5, 'x[44] <= 0.5\\nsquared_error = 131987480.128\\nsamples = 20\\nvalue = 131862.15'),\n",
              " Text(0.3753443526170799, 0.4523809523809524, 'x[27] <= 0.065\\nsquared_error = 96817463.158\\nsamples = 19\\nvalue = 130411.0'),\n",
              " Text(0.37052341597796146, 0.40476190476190477, 'x[7] <= 0.063\\nsquared_error = 89937125.168\\nsamples = 14\\nvalue = 127319.214'),\n",
              " Text(0.3682277318640955, 0.35714285714285715, 'x[2] <= 0.047\\nsquared_error = 66723041.58\\nsamples = 9\\nvalue = 122940.444'),\n",
              " Text(0.36639118457300274, 0.30952380952380953, 'x[219] <= 0.5\\nsquared_error = 33126852.571\\nsamples = 7\\nvalue = 126352.0'),\n",
              " Text(0.3654729109274564, 0.2619047619047619, 'x[2] <= 0.031\\nsquared_error = 4496367.36\\nsamples = 5\\nvalue = 122892.8'),\n",
              " Text(0.36455463728191, 0.21428571428571427, 'squared_error = 0.0\\nsamples = 1\\nvalue = 118964.0'),\n",
              " Text(0.36639118457300274, 0.21428571428571427, 'x[2] <= 0.043\\nsquared_error = 796875.0\\nsamples = 4\\nvalue = 123875.0'),\n",
              " Text(0.3654729109274564, 0.16666666666666666, 'x[221] <= 0.5\\nsquared_error = 222222.222\\nsamples = 3\\nvalue = 124333.333'),\n",
              " Text(0.36455463728191, 0.11904761904761904, 'squared_error = 0.0\\nsamples = 2\\nvalue = 124000.0'),\n",
              " Text(0.36639118457300274, 0.11904761904761904, 'squared_error = 0.0\\nsamples = 1\\nvalue = 125000.0'),\n",
              " Text(0.3673094582185491, 0.16666666666666666, 'squared_error = 0.0\\nsamples = 1\\nvalue = 122500.0'),\n",
              " Text(0.3673094582185491, 0.2619047619047619, 'squared_error = 0.0\\nsamples = 2\\nvalue = 135000.0'),\n",
              " Text(0.37006427915518825, 0.30952380952380953, 'x[35] <= 0.5\\nsquared_error = 1000000.0\\nsamples = 2\\nvalue = 111000.0'),\n",
              " Text(0.3691460055096419, 0.2619047619047619, 'squared_error = 0.0\\nsamples = 1\\nvalue = 112000.0'),\n",
              " Text(0.3709825528007346, 0.2619047619047619, 'squared_error = 0.0\\nsamples = 1\\nvalue = 110000.0'),\n",
              " Text(0.37281910009182734, 0.35714285714285715, 'x[1] <= 0.151\\nsquared_error = 35087404.0\\nsamples = 5\\nvalue = 135201.0'),\n",
              " Text(0.371900826446281, 0.30952380952380953, 'squared_error = 0.0\\nsamples = 1\\nvalue = 124500.0'),\n",
              " Text(0.37373737373737376, 0.30952380952380953, 'x[2] <= 0.051\\nsquared_error = 8074442.188\\nsamples = 4\\nvalue = 137876.25'),\n",
              " Text(0.37281910009182734, 0.2619047619047619, 'x[34] <= 0.727\\nsquared_error = 848672.222\\nsamples = 3\\nvalue = 136301.667'),\n",
              " Text(0.371900826446281, 0.21428571428571427, 'x[34] <= 0.5\\nsquared_error = 2256.25\\nsamples = 2\\nvalue = 136952.5'),\n",
              " Text(0.3709825528007346, 0.16666666666666666, 'squared_error = 0.0\\nsamples = 1\\nvalue = 136905.0'),\n",
              " Text(0.37281910009182734, 0.16666666666666666, 'squared_error = 0.0\\nsamples = 1\\nvalue = 137000.0'),\n",
              " Text(0.37373737373737376, 0.21428571428571427, 'squared_error = 0.0\\nsamples = 1\\nvalue = 135000.0'),\n",
              " Text(0.3746556473829201, 0.2619047619047619, 'squared_error = 0.0\\nsamples = 1\\nvalue = 142600.0'),\n",
              " Text(0.38016528925619836, 0.40476190476190477, 'x[4] <= 0.688\\nsquared_error = 14373171.6\\nsamples = 5\\nvalue = 139068.0'),\n",
              " Text(0.379247015610652, 0.35714285714285715, 'x[24] <= 0.623\\nsquared_error = 2355019.5\\nsamples = 4\\nvalue = 140835.0'),\n",
              " Text(0.3774104683195592, 0.30952380952380953, 'x[179] <= 0.5\\nsquared_error = 309692.25\\nsamples = 2\\nvalue = 139443.5'),\n",
              " Text(0.37649219467401285, 0.2619047619047619, 'squared_error = 0.0\\nsamples = 1\\nvalue = 138887.0'),\n",
              " Text(0.3783287419651056, 0.2619047619047619, 'squared_error = 0.0\\nsamples = 1\\nvalue = 140000.0'),\n",
              " Text(0.3810835629017447, 0.30952380952380953, 'x[39] <= 0.5\\nsquared_error = 527802.25\\nsamples = 2\\nvalue = 142226.5'),\n",
              " Text(0.38016528925619836, 0.2619047619047619, 'squared_error = 0.0\\nsamples = 1\\nvalue = 141500.0'),\n",
              " Text(0.3820018365472911, 0.2619047619047619, 'squared_error = 0.0\\nsamples = 1\\nvalue = 142953.0'),\n",
              " Text(0.3810835629017447, 0.35714285714285715, 'squared_error = 0.0\\nsamples = 1\\nvalue = 132000.0'),\n",
              " Text(0.37718089990817266, 0.4523809523809524, 'squared_error = 0.0\\nsamples = 1\\nvalue = 159434.0'),\n",
              " Text(0.378099173553719, 0.5, 'squared_error = 0.0\\nsamples = 1\\nvalue = 167500.0'),\n",
              " Text(0.37993572084481175, 0.5952380952380952, 'x[11] <= 0.05\\nsquared_error = 100000000.0\\nsamples = 2\\nvalue = 179000.0'),\n",
              " Text(0.3790174471992654, 0.5476190476190477, 'squared_error = 0.0\\nsamples = 1\\nvalue = 169000.0'),\n",
              " Text(0.3808539944903581, 0.5476190476190477, 'squared_error = 0.0\\nsamples = 1\\nvalue = 189000.0'),\n",
              " Text(0.39302112029384756, 0.6904761904761905, 'x[82] <= 0.5\\nsquared_error = 291277155.556\\nsamples = 15\\nvalue = 107253.333'),\n",
              " Text(0.39026629935720847, 0.6428571428571429, 'x[165] <= 0.5\\nsquared_error = 214803888.889\\nsamples = 12\\nvalue = 102033.333'),\n",
              " Text(0.3875114784205693, 0.5952380952380952, 'x[178] <= 0.5\\nsquared_error = 124800900.0\\nsamples = 10\\nvalue = 97490.0'),\n",
              " Text(0.38475665748393023, 0.5476190476190477, 'x[40] <= 0.5\\nsquared_error = 78568571.429\\nsamples = 7\\nvalue = 102700.0'),\n",
              " Text(0.3820018365472911, 0.5, 'x[3] <= 0.278\\nsquared_error = 44222222.222\\nsamples = 3\\nvalue = 94333.333'),\n",
              " Text(0.3810835629017447, 0.4523809523809524, 'squared_error = 0.0\\nsamples = 1\\nvalue = 85000.0'),\n",
              " Text(0.38292011019283745, 0.4523809523809524, 'x[259] <= 0.5\\nsquared_error = 1000000.0\\nsamples = 2\\nvalue = 99000.0'),\n",
              " Text(0.3820018365472911, 0.40476190476190477, 'squared_error = 0.0\\nsamples = 1\\nvalue = 98000.0'),\n",
              " Text(0.3838383838383838, 0.40476190476190477, 'squared_error = 0.0\\nsamples = 1\\nvalue = 100000.0'),\n",
              " Text(0.3875114784205693, 0.5, 'x[5] <= 0.326\\nsquared_error = 12451875.0\\nsamples = 4\\nvalue = 108975.0'),\n",
              " Text(0.38659320477502296, 0.4523809523809524, 'x[1] <= 0.185\\nsquared_error = 468888.889\\nsamples = 3\\nvalue = 106966.667'),\n",
              " Text(0.3856749311294766, 0.40476190476190477, 'x[24] <= 0.455\\nsquared_error = 2500.0\\nsamples = 2\\nvalue = 107450.0'),\n",
              " Text(0.38475665748393023, 0.35714285714285715, 'squared_error = 0.0\\nsamples = 1\\nvalue = 107400.0'),\n",
              " Text(0.38659320477502296, 0.35714285714285715, 'squared_error = 0.0\\nsamples = 1\\nvalue = 107500.0'),\n",
              " Text(0.3875114784205693, 0.40476190476190477, 'squared_error = 0.0\\nsamples = 1\\nvalue = 106000.0'),\n",
              " Text(0.3884297520661157, 0.4523809523809524, 'squared_error = 0.0\\nsamples = 1\\nvalue = 115000.0'),\n",
              " Text(0.39026629935720847, 0.5476190476190477, 'x[2] <= 0.028\\nsquared_error = 21555555.556\\nsamples = 3\\nvalue = 85333.333'),\n",
              " Text(0.38934802571166205, 0.5, 'squared_error = 0.0\\nsamples = 1\\nvalue = 79000.0'),\n",
              " Text(0.39118457300275483, 0.5, 'x[22] <= 0.583\\nsquared_error = 2250000.0\\nsamples = 2\\nvalue = 88500.0'),\n",
              " Text(0.39026629935720847, 0.4523809523809524, 'squared_error = 0.0\\nsamples = 1\\nvalue = 87000.0'),\n",
              " Text(0.3921028466483012, 0.4523809523809524, 'squared_error = 0.0\\nsamples = 1\\nvalue = 90000.0'),\n",
              " Text(0.39302112029384756, 0.5952380952380952, 'x[106] <= 0.5\\nsquared_error = 45562500.0\\nsamples = 2\\nvalue = 124750.0'),\n",
              " Text(0.3921028466483012, 0.5476190476190477, 'squared_error = 0.0\\nsamples = 1\\nvalue = 118000.0'),\n",
              " Text(0.3939393939393939, 0.5476190476190477, 'squared_error = 0.0\\nsamples = 1\\nvalue = 131500.0'),\n",
              " Text(0.3957759412304867, 0.6428571428571429, 'x[35] <= 0.25\\nsquared_error = 52202222.222\\nsamples = 3\\nvalue = 128133.333'),\n",
              " Text(0.3948576675849403, 0.5952380952380952, 'squared_error = 0.0\\nsamples = 1\\nvalue = 118500.0'),\n",
              " Text(0.39669421487603307, 0.5952380952380952, 'x[192] <= 0.5\\nsquared_error = 8702500.0\\nsamples = 2\\nvalue = 132950.0'),\n",
              " Text(0.3957759412304867, 0.5476190476190477, 'squared_error = 0.0\\nsamples = 1\\nvalue = 135900.0'),\n",
              " Text(0.39761248852157943, 0.5476190476190477, 'squared_error = 0.0\\nsamples = 1\\nvalue = 130000.0'),\n",
              " Text(0.4186538682277319, 0.7380952380952381, 'x[25] <= 0.375\\nsquared_error = 1003615018.107\\nsamples = 58\\nvalue = 162218.569'),\n",
              " Text(0.40748393021120294, 0.6904761904761905, 'x[22] <= 0.375\\nsquared_error = 437184265.928\\nsamples = 19\\nvalue = 135168.421'),\n",
              " Text(0.4035812672176309, 0.6428571428571429, 'x[89] <= 0.5\\nsquared_error = 312347343.75\\nsamples = 8\\nvalue = 119962.5'),\n",
              " Text(0.40128558310376494, 0.5952380952380952, 'x[26] <= 0.185\\nsquared_error = 99901388.889\\nsamples = 6\\nvalue = 128783.333'),\n",
              " Text(0.39944903581267216, 0.5476190476190477, 'x[15] <= 0.247\\nsquared_error = 32666666.667\\nsamples = 3\\nvalue = 120000.0'),\n",
              " Text(0.3985307621671258, 0.5, 'x[219] <= 0.5\\nsquared_error = 1000000.0\\nsamples = 2\\nvalue = 116000.0'),\n",
              " Text(0.39761248852157943, 0.4523809523809524, 'squared_error = 0.0\\nsamples = 1\\nvalue = 117000.0'),\n",
              " Text(0.39944903581267216, 0.4523809523809524, 'squared_error = 0.0\\nsamples = 1\\nvalue = 115000.0'),\n",
              " Text(0.4003673094582185, 0.5, 'squared_error = 0.0\\nsamples = 1\\nvalue = 128000.0'),\n",
              " Text(0.40312213039485767, 0.5476190476190477, 'x[27] <= 0.026\\nsquared_error = 12842222.222\\nsamples = 3\\nvalue = 137566.667'),\n",
              " Text(0.4022038567493113, 0.5, 'x[91] <= 0.5\\nsquared_error = 10000.0\\nsamples = 2\\nvalue = 140100.0'),\n",
              " Text(0.40128558310376494, 0.4523809523809524, 'squared_error = 0.0\\nsamples = 1\\nvalue = 140200.0'),\n",
              " Text(0.40312213039485767, 0.4523809523809524, 'squared_error = 0.0\\nsamples = 1\\nvalue = 140000.0'),\n",
              " Text(0.40404040404040403, 0.5, 'squared_error = 0.0\\nsamples = 1\\nvalue = 132500.0'),\n",
              " Text(0.40587695133149676, 0.5952380952380952, 'x[274] <= 0.5\\nsquared_error = 16000000.0\\nsamples = 2\\nvalue = 93500.0'),\n",
              " Text(0.4049586776859504, 0.5476190476190477, 'squared_error = 0.0\\nsamples = 1\\nvalue = 89500.0'),\n",
              " Text(0.4067952249770432, 0.5476190476190477, 'squared_error = 0.0\\nsamples = 1\\nvalue = 97500.0'),\n",
              " Text(0.411386593204775, 0.6428571428571429, 'x[70] <= 0.5\\nsquared_error = 237516528.926\\nsamples = 11\\nvalue = 146227.273'),\n",
              " Text(0.40955004591368227, 0.5952380952380952, 'x[12] <= 0.309\\nsquared_error = 115617283.951\\nsamples = 9\\nvalue = 140722.222'),\n",
              " Text(0.4086317722681359, 0.5476190476190477, 'x[1] <= 0.091\\nsquared_error = 17621093.75\\nsamples = 8\\nvalue = 137187.5'),\n",
              " Text(0.40771349862258954, 0.5, 'squared_error = 0.0\\nsamples = 1\\nvalue = 128000.0'),\n",
              " Text(0.40955004591368227, 0.5, 'x[24] <= 0.227\\nsquared_error = 6357142.857\\nsamples = 7\\nvalue = 138500.0'),\n",
              " Text(0.40771349862258954, 0.4523809523809524, 'x[182] <= 0.5\\nsquared_error = 666666.667\\nsamples = 3\\nvalue = 136000.0'),\n",
              " Text(0.4067952249770432, 0.40476190476190477, 'x[91] <= 0.5\\nsquared_error = 250000.0\\nsamples = 2\\nvalue = 135500.0'),\n",
              " Text(0.40587695133149676, 0.35714285714285715, 'squared_error = 0.0\\nsamples = 1\\nvalue = 136000.0'),\n",
              " Text(0.40771349862258954, 0.35714285714285715, 'squared_error = 0.0\\nsamples = 1\\nvalue = 135000.0'),\n",
              " Text(0.4086317722681359, 0.40476190476190477, 'squared_error = 0.0\\nsamples = 1\\nvalue = 137000.0'),\n",
              " Text(0.411386593204775, 0.4523809523809524, 'x[89] <= 0.5\\nsquared_error = 2421875.0\\nsamples = 4\\nvalue = 140375.0'),\n",
              " Text(0.41046831955922863, 0.40476190476190477, 'x[19] <= 0.5\\nsquared_error = 166666.667\\nsamples = 3\\nvalue = 139500.0'),\n",
              " Text(0.40955004591368227, 0.35714285714285715, 'x[35] <= 0.625\\nsquared_error = 62500.0\\nsamples = 2\\nvalue = 139750.0'),\n",
              " Text(0.4086317722681359, 0.30952380952380953, 'squared_error = 0.0\\nsamples = 1\\nvalue = 140000.0'),\n",
              " Text(0.41046831955922863, 0.30952380952380953, 'squared_error = 0.0\\nsamples = 1\\nvalue = 139500.0'),\n",
              " Text(0.411386593204775, 0.35714285714285715, 'squared_error = 0.0\\nsamples = 1\\nvalue = 139000.0'),\n",
              " Text(0.4123048668503214, 0.40476190476190477, 'squared_error = 0.0\\nsamples = 1\\nvalue = 143000.0'),\n",
              " Text(0.41046831955922863, 0.5476190476190477, 'squared_error = 0.0\\nsamples = 1\\nvalue = 169000.0'),\n",
              " Text(0.4132231404958678, 0.5952380952380952, 'x[180] <= 0.5\\nsquared_error = 36000000.0\\nsamples = 2\\nvalue = 171000.0'),\n",
              " Text(0.4123048668503214, 0.5476190476190477, 'squared_error = 0.0\\nsamples = 1\\nvalue = 177000.0'),\n",
              " Text(0.41414141414141414, 0.5476190476190477, 'squared_error = 0.0\\nsamples = 1\\nvalue = 165000.0'),\n",
              " Text(0.4298238062442608, 0.6904761904761905, 'x[27] <= 0.535\\nsquared_error = 749427124.643\\nsamples = 39\\nvalue = 175396.846'),\n",
              " Text(0.4246728650137741, 0.6428571428571429, 'x[242] <= 0.5\\nsquared_error = 391008334.194\\nsamples = 36\\nvalue = 170458.528'),\n",
              " Text(0.4189623507805326, 0.5952380952380952, 'x[34] <= 0.682\\nsquared_error = 930500000.0\\nsamples = 4\\nvalue = 140000.0'),\n",
              " Text(0.4180440771349862, 0.5476190476190477, 'x[237] <= 0.5\\nsquared_error = 84666666.667\\nsamples = 3\\nvalue = 123000.0'),\n",
              " Text(0.41712580348943984, 0.5, 'x[235] <= 0.5\\nsquared_error = 250000.0\\nsamples = 2\\nvalue = 129500.0'),\n",
              " Text(0.4162075298438935, 0.4523809523809524, 'squared_error = 0.0\\nsamples = 1\\nvalue = 130000.0'),\n",
              " Text(0.4180440771349862, 0.4523809523809524, 'squared_error = 0.0\\nsamples = 1\\nvalue = 129000.0'),\n",
              " Text(0.4189623507805326, 0.5, 'squared_error = 0.0\\nsamples = 1\\nvalue = 110000.0'),\n",
              " Text(0.419880624426079, 0.5476190476190477, 'squared_error = 0.0\\nsamples = 1\\nvalue = 191000.0'),\n",
              " Text(0.4303833792470156, 0.5952380952380952, 'x[12] <= 0.303\\nsquared_error = 193110981.757\\nsamples = 32\\nvalue = 174265.844'),\n",
              " Text(0.4294651056014692, 0.5476190476190477, 'x[20] <= 0.562\\nsquared_error = 126514756.889\\nsamples = 31\\nvalue = 175774.419'),\n",
              " Text(0.42854683195592286, 0.5, 'x[11] <= 0.124\\nsquared_error = 79076594.912\\nsamples = 30\\nvalue = 174483.567'),\n",
              " Text(0.419880624426079, 0.4523809523809524, 'x[27] <= 0.021\\nsquared_error = 82055005.254\\nsamples = 13\\nvalue = 169508.231'),\n",
              " Text(0.4164370982552801, 0.40476190476190477, 'x[13] <= 0.379\\nsquared_error = 52720371.506\\nsamples = 9\\nvalue = 165400.778'),\n",
              " Text(0.41414141414141414, 0.35714285714285715, 'x[0] <= 0.294\\nsquared_error = 34817319.388\\nsamples = 7\\nvalue = 168096.429'),\n",
              " Text(0.4123048668503214, 0.30952380952380953, 'x[245] <= 0.5\\nsquared_error = 13929040.0\\nsamples = 5\\nvalue = 171135.0'),\n",
              " Text(0.411386593204775, 0.2619047619047619, 'x[10] <= 0.289\\nsquared_error = 1457854.688\\nsamples = 4\\nvalue = 172921.25'),\n",
              " Text(0.41046831955922863, 0.21428571428571427, 'squared_error = 0.0\\nsamples = 1\\nvalue = 171000.0'),\n",
              " Text(0.4123048668503214, 0.21428571428571427, 'x[171] <= 0.5\\nsquared_error = 303272.222\\nsamples = 3\\nvalue = 173561.667'),\n",
              " Text(0.411386593204775, 0.16666666666666666, 'x[24] <= 0.905\\nsquared_error = 2500.0\\nsamples = 2\\nvalue = 173950.0'),\n",
              " Text(0.41046831955922863, 0.11904761904761904, 'squared_error = 0.0\\nsamples = 1\\nvalue = 174000.0'),\n",
              " Text(0.4123048668503214, 0.11904761904761904, 'squared_error = 0.0\\nsamples = 1\\nvalue = 173900.0'),\n",
              " Text(0.4132231404958678, 0.16666666666666666, 'squared_error = 0.0\\nsamples = 1\\nvalue = 172785.0'),\n",
              " Text(0.4132231404958678, 0.2619047619047619, 'squared_error = 0.0\\nsamples = 1\\nvalue = 163990.0'),\n",
              " Text(0.41597796143250687, 0.30952380952380953, 'x[24] <= 0.795\\nsquared_error = 6250000.0\\nsamples = 2\\nvalue = 160500.0'),\n",
              " Text(0.4150596877869605, 0.2619047619047619, 'squared_error = 0.0\\nsamples = 1\\nvalue = 158000.0'),\n",
              " Text(0.41689623507805323, 0.2619047619047619, 'squared_error = 0.0\\nsamples = 1\\nvalue = 163000.0'),\n",
              " Text(0.418732782369146, 0.35714285714285715, 'x[256] <= 0.5\\nsquared_error = 933156.0\\nsamples = 2\\nvalue = 155966.0'),\n",
              " Text(0.41781450872359965, 0.30952380952380953, 'squared_error = 0.0\\nsamples = 1\\nvalue = 155000.0'),\n",
              " Text(0.4196510560146924, 0.30952380952380953, 'squared_error = 0.0\\nsamples = 1\\nvalue = 156932.0'),\n",
              " Text(0.4233241505968779, 0.40476190476190477, 'x[34] <= 0.591\\nsquared_error = 24687500.0\\nsamples = 4\\nvalue = 178750.0'),\n",
              " Text(0.42240587695133147, 0.35714285714285715, 'x[27] <= 0.079\\nsquared_error = 2666666.667\\nsamples = 3\\nvalue = 176000.0'),\n",
              " Text(0.4214876033057851, 0.30952380952380953, 'squared_error = 0.0\\nsamples = 1\\nvalue = 174000.0'),\n",
              " Text(0.4233241505968779, 0.30952380952380953, 'x[2] <= 0.041\\nsquared_error = 1000000.0\\nsamples = 2\\nvalue = 177000.0'),\n",
              " Text(0.42240587695133147, 0.2619047619047619, 'squared_error = 0.0\\nsamples = 1\\nvalue = 176000.0'),\n",
              " Text(0.42424242424242425, 0.2619047619047619, 'squared_error = 0.0\\nsamples = 1\\nvalue = 178000.0'),\n",
              " Text(0.42424242424242425, 0.35714285714285715, 'squared_error = 0.0\\nsamples = 1\\nvalue = 187000.0'),\n",
              " Text(0.4372130394857668, 0.4523809523809524, 'x[16] <= 0.167\\nsquared_error = 43393979.239\\nsamples = 17\\nvalue = 178288.235'),\n",
              " Text(0.43365472910927455, 0.40476190476190477, 'x[2] <= 0.047\\nsquared_error = 27919733.333\\nsamples = 15\\nvalue = 176760.0'),\n",
              " Text(0.4292929292929293, 0.35714285714285715, 'x[15] <= 0.235\\nsquared_error = 15549135.802\\nsamples = 9\\nvalue = 173544.444'),\n",
              " Text(0.42699724517906334, 0.30952380952380953, 'x[211] <= 0.5\\nsquared_error = 250000.0\\nsamples = 2\\nvalue = 167500.0'),\n",
              " Text(0.426078971533517, 0.2619047619047619, 'squared_error = 0.0\\nsamples = 1\\nvalue = 167000.0'),\n",
              " Text(0.4279155188246097, 0.2619047619047619, 'squared_error = 0.0\\nsamples = 1\\nvalue = 168000.0'),\n",
              " Text(0.4315886134067952, 0.30952380952380953, 'x[12] <= 0.148\\nsquared_error = 6499183.673\\nsamples = 7\\nvalue = 175271.429'),\n",
              " Text(0.4297520661157025, 0.2619047619047619, 'x[60] <= 0.5\\nsquared_error = 4529600.0\\nsamples = 5\\nvalue = 174180.0'),\n",
              " Text(0.4288337924701561, 0.21428571428571427, 'squared_error = 0.0\\nsamples = 1\\nvalue = 178000.0'),\n",
              " Text(0.43067033976124885, 0.21428571428571427, 'x[13] <= 0.34\\nsquared_error = 1101875.0\\nsamples = 4\\nvalue = 173225.0'),\n",
              " Text(0.4297520661157025, 0.16666666666666666, 'squared_error = 0.0\\nsamples = 1\\nvalue = 175000.0'),\n",
              " Text(0.4315886134067952, 0.16666666666666666, 'x[1] <= 0.159\\nsquared_error = 68888.889\\nsamples = 3\\nvalue = 172633.333'),\n",
              " Text(0.43067033976124885, 0.11904761904761904, 'squared_error = 0.0\\nsamples = 1\\nvalue = 173000.0'),\n",
              " Text(0.4325068870523416, 0.11904761904761904, 'x[7] <= 0.029\\nsquared_error = 2500.0\\nsamples = 2\\nvalue = 172450.0'),\n",
              " Text(0.4315886134067952, 0.07142857142857142, 'squared_error = 0.0\\nsamples = 1\\nvalue = 172400.0'),\n",
              " Text(0.43342516069788795, 0.07142857142857142, 'squared_error = 0.0\\nsamples = 1\\nvalue = 172500.0'),\n",
              " Text(0.43342516069788795, 0.2619047619047619, 'x[72] <= 0.5\\nsquared_error = 1000000.0\\nsamples = 2\\nvalue = 178000.0'),\n",
              " Text(0.4325068870523416, 0.21428571428571427, 'squared_error = 0.0\\nsamples = 1\\nvalue = 177000.0'),\n",
              " Text(0.43434343434343436, 0.21428571428571427, 'squared_error = 0.0\\nsamples = 1\\nvalue = 179000.0'),\n",
              " Text(0.4380165289256198, 0.35714285714285715, 'x[116] <= 0.5\\nsquared_error = 7701388.889\\nsamples = 6\\nvalue = 181583.333'),\n",
              " Text(0.4361799816345271, 0.30952380952380953, 'x[1] <= 0.123\\nsquared_error = 3555555.556\\nsamples = 3\\nvalue = 183666.667'),\n",
              " Text(0.43526170798898073, 0.2619047619047619, 'squared_error = 0.0\\nsamples = 1\\nvalue = 181000.0'),\n",
              " Text(0.43709825528007346, 0.2619047619047619, 'squared_error = 0.0\\nsamples = 2\\nvalue = 185000.0'),\n",
              " Text(0.4398530762167126, 0.30952380952380953, 'x[15] <= 0.233\\nsquared_error = 3166666.667\\nsamples = 3\\nvalue = 179500.0'),\n",
              " Text(0.4389348025711662, 0.2619047619047619, 'squared_error = 0.0\\nsamples = 1\\nvalue = 177000.0'),\n",
              " Text(0.44077134986225897, 0.2619047619047619, 'x[283] <= 0.5\\nsquared_error = 62500.0\\nsamples = 2\\nvalue = 180750.0'),\n",
              " Text(0.4398530762167126, 0.21428571428571427, 'squared_error = 0.0\\nsamples = 1\\nvalue = 180500.0'),\n",
              " Text(0.44168962350780533, 0.21428571428571427, 'squared_error = 0.0\\nsamples = 1\\nvalue = 181000.0'),\n",
              " Text(0.44077134986225897, 0.40476190476190477, 'x[5] <= 0.902\\nsquared_error = 10562500.0\\nsamples = 2\\nvalue = 189750.0'),\n",
              " Text(0.4398530762167126, 0.35714285714285715, 'squared_error = 0.0\\nsamples = 1\\nvalue = 193000.0'),\n",
              " Text(0.44168962350780533, 0.35714285714285715, 'squared_error = 0.0\\nsamples = 1\\nvalue = 186500.0'),\n",
              " Text(0.4303833792470156, 0.5, 'squared_error = 0.0\\nsamples = 1\\nvalue = 214500.0'),\n",
              " Text(0.431301652892562, 0.5476190476190477, 'squared_error = 0.0\\nsamples = 1\\nvalue = 127500.0'),\n",
              " Text(0.43497474747474746, 0.6428571428571429, 'x[180] <= 0.5\\nsquared_error = 1246082422.222\\nsamples = 3\\nvalue = 234656.667'),\n",
              " Text(0.4340564738292011, 0.5952380952380952, 'x[278] <= 0.5\\nsquared_error = 305725225.0\\nsamples = 2\\nvalue = 257485.0'),\n",
              " Text(0.43313820018365473, 0.5476190476190477, 'squared_error = 0.0\\nsamples = 1\\nvalue = 274970.0'),\n",
              " Text(0.43497474747474746, 0.5476190476190477, 'squared_error = 0.0\\nsamples = 1\\nvalue = 240000.0'),\n",
              " Text(0.4358930211202938, 0.5952380952380952, 'squared_error = 0.0\\nsamples = 1\\nvalue = 189000.0'),\n",
              " Text(0.5315064709595959, 0.7857142857142857, 'x[2] <= 0.051\\nsquared_error = 1184511885.386\\nsamples = 153\\nvalue = 180793.464'),\n",
              " Text(0.4912441173094582, 0.7380952380952381, 'x[5] <= 0.681\\nsquared_error = 896214404.47\\nsamples = 101\\nvalue = 170819.307'),\n",
              " ...]"
            ]
          },
          "metadata": {},
          "execution_count": 25
        },
        {
          "output_type": "display_data",
          "data": {
            "text/plain": [
              "<Figure size 2160x1080 with 1 Axes>"
            ],
            "image/png": "[encoded data removed]"
          },
          "metadata": {
            "needs_background": "light"
          }
        }
      ],
      "source": [
        "%%time\n",
        "plt.figure(figsize=(30,15))\n",
        "\n",
        "# Visualize the tree graphically using plot_tree\n",
        "plot_tree(tree, filled=True);"
      ]
    },
    {
      "cell_type": "code",
      "execution_count": null,
      "id": "asian-immunology",
      "metadata": {
        "id": "asian-immunology"
      },
      "outputs": [],
      "source": [
        "# Visualize the tree textually using export_text\n",
        "tree_text = export_text(tree, feature_names=list(train_inputs.columns))"
      ]
    },
    {
      "cell_type": "code",
      "execution_count": null,
      "id": "baking-knife",
      "metadata": {
        "colab": {
          "base_uri": "https://localhost:8080/"
        },
        "id": "baking-knife",
        "outputId": "6a58c74e-9343-4a0a-d450-dcbe36847c6a"
      },
      "outputs": [
        {
          "output_type": "stream",
          "name": "stdout",
          "text": [
            "|--- OverallQual <= 0.72\n",
            "|   |--- OverallQual <= 0.61\n",
            "|   |   |--- GrLivArea <= 0.20\n",
            "|   |   |   |--- TotalBsmtSF <= 0.16\n",
            "|   |   |   |   |--- OverallQual <= 0.39\n",
            "|   |   |   |   |   |--- GarageCond_TA <= 0.50\n",
            "|   |   |   |   |   |   |--- LotArea <= 0.04\n",
            "|   |   |   |   |   |   |   |--- CentralAir_Y <= 0.50\n",
            "|   |   |   |   |   |   |   |   |--- YearBuilt <= 0.54\n",
            "|   |   |   |   |   |   |   |   |   |--- SaleCondition_Abnorml <= 0.50\n",
            "|   |   |   |   |   |   |   |   |   |   |--- Neighborhood_BrkSide <= 0.50\n",
            "|   |   |   |   |   |   |   |   |   |   |   |--- truncated branch of depth 3\n",
            "|   |   |   |   |   |   |   |   |   |   |--- Neighborhood_BrkSide >  0.50\n",
            "|   |   |   |   |   |   |   |   |   |   |   |--- value: [39300.00]\n",
            "|   |   |   |   |   |   |   |   |   |--- SaleCondition_Abnorml >  0.50\n",
            "|   |   |   |   |   |   |   |   |   |   |--- 2ndFlrSF <= 0.09\n",
            "|   |   |   |   |   |   |   |   |   |   |   |--- value: [34900.00]\n",
            "|   |   |   |   |   |   |   |   |   |   |--- 2ndFlrSF >  0.09\n",
            "|   |   |   |   |   |   |   |   |   |   |   |--- value: [37900.00]\n",
            "|   |   |   |   |   |   |   |   |--- YearBuilt >  0.54\n",
            "|   |   |   |   |   |   |   |   |   |--- Condition1_Norm <= 0.50\n",
            "|   |   |   |   |   |   |   |   |   |   |--- value: [72500.00]\n",
            "|   |   |   |   |   |   |   |   |   |--- Condition1_Norm >  0.50\n",
            "|   |   |   |   |   |   |   |   |   |   |--- YrSold <= 0.25\n",
            "|   |   |   |   |   |   |   |   |   |   |   |--- value: [80500.00]\n",
            "|   |   |   |   |   |   |   |   |   |   |--- YrSold >  0.25\n",
            "|   |   |   |   |   |   |   |   |   |   |   |--- value: [82000.00]\n",
            "|   |   |   |   |   |   |   |--- CentralAir_Y >  0.50\n",
            "|   |   |   |   |   |   |   |   |--- Functional_Maj2 <= 0.50\n",
            "|   |   |   |   |   |   |   |   |   |--- Fireplaces <= 0.17\n",
            "|   |   |   |   |   |   |   |   |   |   |--- LotArea <= 0.03\n",
            "|   |   |   |   |   |   |   |   |   |   |   |--- truncated branch of depth 4\n",
            "|   |   |   |   |   |   |   |   |   |   |--- LotArea >  0.03\n",
            "|   |   |   |   |   |   |   |   |   |   |   |--- truncated branch of\n"
          ]
        }
      ],
      "source": [
        "# Display the first few lines\n",
        "print(tree_text[:2000])"
      ]
    },
    {
      "cell_type": "code",
      "execution_count": null,
      "id": "typical-birth",
      "metadata": {
        "id": "typical-birth"
      },
      "outputs": [],
      "source": [
        "# Check feature importance\n",
        "tree_importances = tree.feature_importances_"
      ]
    },
    {
      "cell_type": "code",
      "execution_count": null,
      "id": "entertaining-reply",
      "metadata": {
        "id": "entertaining-reply"
      },
      "outputs": [],
      "source": [
        "tree_importance_df = pd.DataFrame({\n",
        "    'feature': train_inputs.columns,\n",
        "    'importance': tree_importances\n",
        "}).sort_values('importance', ascending=False)"
      ]
    },
    {
      "cell_type": "code",
      "execution_count": null,
      "id": "limiting-ridge",
      "metadata": {
        "colab": {
          "base_uri": "https://localhost:8080/",
          "height": 411
        },
        "id": "limiting-ridge",
        "outputId": "d749d14b-93cd-491a-f0d2-1c07c5e099d3"
      },
      "outputs": [
        {
          "output_type": "execute_result",
          "data": {
            "text/plain": [
              "                feature  importance\n",
              "3           OverallQual    0.632537\n",
              "15            GrLivArea    0.104334\n",
              "13             2ndFlrSF    0.031896\n",
              "11          TotalBsmtSF    0.028504\n",
              "12             1stFlrSF    0.026730\n",
              "..                  ...         ...\n",
              "104     Condition2_RRAn    0.000000\n",
              "103     Condition2_RRAe    0.000000\n",
              "102     Condition2_PosN    0.000000\n",
              "212    BsmtFinType2_nan    0.000000\n",
              "152  Exterior2nd_CBlock    0.000000\n",
              "\n",
              "[304 rows x 2 columns]"
            ],
            "text/html": [
              "\n",
              "  <div id=\"df-76356042-ea7b-41a6-93c0-216b52cc98ab\">\n",
              "    <div class=\"colab-df-container\">\n",
              "      <div>\n",
              "<style scoped>\n",
              "    .dataframe tbody tr th:only-of-type {\n",
              "        vertical-align: middle;\n",
              "    }\n",
              "\n",
              "    .dataframe tbody tr th {\n",
              "        vertical-align: top;\n",
              "    }\n",
              "\n",
              "    .dataframe thead th {\n",
              "        text-align: right;\n",
              "    }\n",
              "</style>\n",
              "<table border=\"1\" class=\"dataframe\">\n",
              "  <thead>\n",
              "    <tr style=\"text-align: right;\">\n",
              "      <th></th>\n",
              "      <th>feature</th>\n",
              "      <th>importance</th>\n",
              "    </tr>\n",
              "  </thead>\n",
              "  <tbody>\n",
              "    <tr>\n",
              "      <th>3</th>\n",
              "      <td>OverallQual</td>\n",
              "      <td>0.632537</td>\n",
              "    </tr>\n",
              "    <tr>\n",
              "      <th>15</th>\n",
              "      <td>GrLivArea</td>\n",
              "      <td>0.104334</td>\n",
              "    </tr>\n",
              "    <tr>\n",
              "      <th>13</th>\n",
              "      <td>2ndFlrSF</td>\n",
              "      <td>0.031896</td>\n",
              "    </tr>\n",
              "    <tr>\n",
              "      <th>11</th>\n",
              "      <td>TotalBsmtSF</td>\n",
              "      <td>0.028504</td>\n",
              "    </tr>\n",
              "    <tr>\n",
              "      <th>12</th>\n",
              "      <td>1stFlrSF</td>\n",
              "      <td>0.026730</td>\n",
              "    </tr>\n",
              "    <tr>\n",
              "      <th>...</th>\n",
              "      <td>...</td>\n",
              "      <td>...</td>\n",
              "    </tr>\n",
              "    <tr>\n",
              "      <th>104</th>\n",
              "      <td>Condition2_RRAn</td>\n",
              "      <td>0.000000</td>\n",
              "    </tr>\n",
              "    <tr>\n",
              "      <th>103</th>\n",
              "      <td>Condition2_RRAe</td>\n",
              "      <td>0.000000</td>\n",
              "    </tr>\n",
              "    <tr>\n",
              "      <th>102</th>\n",
              "      <td>Condition2_PosN</td>\n",
              "      <td>0.000000</td>\n",
              "    </tr>\n",
              "    <tr>\n",
              "      <th>212</th>\n",
              "      <td>BsmtFinType2_nan</td>\n",
              "      <td>0.000000</td>\n",
              "    </tr>\n",
              "    <tr>\n",
              "      <th>152</th>\n",
              "      <td>Exterior2nd_CBlock</td>\n",
              "      <td>0.000000</td>\n",
              "    </tr>\n",
              "  </tbody>\n",
              "</table>\n",
              "<p>304 rows × 2 columns</p>\n",
              "</div>\n",
              "      <button class=\"colab-df-convert\" onclick=\"convertToInteractive('df-76356042-ea7b-41a6-93c0-216b52cc98ab')\"\n",
              "              title=\"Convert this dataframe to an interactive table.\"\n",
              "              style=\"display:none;\">\n",
              "        \n",
              "  <svg xmlns=\"http://www.w3.org/2000/svg\" height=\"24px\"viewBox=\"0 0 24 24\"\n",
              "       width=\"24px\">\n",
              "    <path d=\"M0 0h24v24H0V0z\" fill=\"none\"/>\n",
              "    <path d=\"M18.56 5.44l.94 2.06.94-2.06 2.06-.94-2.06-.94-.94-2.06-.94 2.06-2.06.94zm-11 1L8.5 8.5l.94-2.06 2.06-.94-2.06-.94L8.5 2.5l-.94 2.06-2.06.94zm10 10l.94 2.06.94-2.06 2.06-.94-2.06-.94-.94-2.06-.94 2.06-2.06.94z\"/><path d=\"M17.41 7.96l-1.37-1.37c-.4-.4-.92-.59-1.43-.59-.52 0-1.04.2-1.43.59L10.3 9.45l-7.72 7.72c-.78.78-.78 2.05 0 2.83L4 21.41c.39.39.9.59 1.41.59.51 0 1.02-.2 1.41-.59l7.78-7.78 2.81-2.81c.8-.78.8-2.07 0-2.86zM5.41 20L4 18.59l7.72-7.72 1.47 1.35L5.41 20z\"/>\n",
              "  </svg>\n",
              "      </button>\n",
              "      \n",
              "  <style>\n",
              "    .colab-df-container {\n",
              "      display:flex;\n",
              "      flex-wrap:wrap;\n",
              "      gap: 12px;\n",
              "    }\n",
              "\n",
              "    .colab-df-convert {\n",
              "      background-color: #E8F0FE;\n",
              "      border: none;\n",
              "      border-radius: 50%;\n",
              "      cursor: pointer;\n",
              "      display: none;\n",
              "      fill: #1967D2;\n",
              "      height: 32px;\n",
              "      padding: 0 0 0 0;\n",
              "      width: 32px;\n",
              "    }\n",
              "\n",
              "    .colab-df-convert:hover {\n",
              "      background-color: #E2EBFA;\n",
              "      box-shadow: 0px 1px 2px rgba(60, 64, 67, 0.3), 0px 1px 3px 1px rgba(60, 64, 67, 0.15);\n",
              "      fill: #174EA6;\n",
              "    }\n",
              "\n",
              "    [theme=dark] .colab-df-convert {\n",
              "      background-color: #3B4455;\n",
              "      fill: #D2E3FC;\n",
              "    }\n",
              "\n",
              "    [theme=dark] .colab-df-convert:hover {\n",
              "      background-color: #434B5C;\n",
              "      box-shadow: 0px 1px 3px 1px rgba(0, 0, 0, 0.15);\n",
              "      filter: drop-shadow(0px 1px 2px rgba(0, 0, 0, 0.3));\n",
              "      fill: #FFFFFF;\n",
              "    }\n",
              "  </style>\n",
              "\n",
              "      <script>\n",
              "        const buttonEl =\n",
              "          document.querySelector('#df-76356042-ea7b-41a6-93c0-216b52cc98ab button.colab-df-convert');\n",
              "        buttonEl.style.display =\n",
              "          google.colab.kernel.accessAllowed ? 'block' : 'none';\n",
              "\n",
              "        async function convertToInteractive(key) {\n",
              "          const element = document.querySelector('#df-76356042-ea7b-41a6-93c0-216b52cc98ab');\n",
              "          const dataTable =\n",
              "            await google.colab.kernel.invokeFunction('convertToInteractive',\n",
              "                                                     [key], {});\n",
              "          if (!dataTable) return;\n",
              "\n",
              "          const docLinkHtml = 'Like what you see? Visit the ' +\n",
              "            '<a target=\"_blank\" href=https://colab.research.google.com/notebooks/data_table.ipynb>data table notebook</a>'\n",
              "            + ' to learn more about interactive tables.';\n",
              "          element.innerHTML = '';\n",
              "          dataTable['output_type'] = 'display_data';\n",
              "          await google.colab.output.renderOutput(dataTable, element);\n",
              "          const docLink = document.createElement('div');\n",
              "          docLink.innerHTML = docLinkHtml;\n",
              "          element.appendChild(docLink);\n",
              "        }\n",
              "      </script>\n",
              "    </div>\n",
              "  </div>\n",
              "  "
            ]
          },
          "metadata": {},
          "execution_count": 30
        }
      ],
      "source": [
        "tree_importance_df"
      ]
    },
    {
      "cell_type": "code",
      "execution_count": null,
      "id": "amended-spain",
      "metadata": {
        "colab": {
          "base_uri": "https://localhost:8080/",
          "height": 632
        },
        "id": "amended-spain",
        "outputId": "53510ed6-a882-44d9-e63f-e87d6cefed57"
      },
      "outputs": [
        {
          "output_type": "display_data",
          "data": {
            "text/plain": [
              "<Figure size 1080x720 with 1 Axes>"
            ],
            "image/png": "[encoded data removed]"
          },
          "metadata": {
            "needs_background": "light"
          }
        }
      ],
      "source": [
        "import matplotlib \n",
        "matplotlib.rcParams['figure.figsize']=(15,10)\n",
        "matplotlib.rcParams['font.size']=14\n",
        "plt.title('Decision Tree Feature Importance')\n",
        "sns.barplot(data=tree_importance_df.head(10), x='importance', y='feature');"
      ]
    },
    {
      "cell_type": "code",
      "execution_count": null,
      "id": "personal-alert",
      "metadata": {
        "id": "personal-alert"
      },
      "outputs": [],
      "source": []
    },
    {
      "cell_type": "markdown",
      "id": "monthly-crazy",
      "metadata": {
        "id": "monthly-crazy"
      },
      "source": [
        "Let's save our work before continuing."
      ]
    },
    {
      "cell_type": "code",
      "execution_count": null,
      "id": "statistical-material",
      "metadata": {
        "colab": {
          "base_uri": "https://localhost:8080/"
        },
        "id": "statistical-material",
        "outputId": "a15c0354-a51a-4e85-fdd3-48ee4eafb26c"
      },
      "outputs": [
        {
          "output_type": "stream",
          "name": "stdout",
          "text": [
            "[jovian] Detected Colab notebook...\u001b[0m\n",
            "[jovian] jovian.commit() is no longer required on Google Colab. If you ran this notebook from Jovian, \n",
            "then just save this file in Colab using Ctrl+S/Cmd+S and it will be updated on Jovian. \n",
            "Also, you can also delete this cell, it's no longer necessary.\u001b[0m\n"
          ]
        }
      ],
      "source": [
        "jovian.commit()"
      ]
    },
    {
      "cell_type": "markdown",
      "id": "grand-option",
      "metadata": {
        "id": "grand-option"
      },
      "source": [
        "## Random Forests\n"
      ]
    },
    {
      "cell_type": "markdown",
      "id": "imperial-porcelain",
      "metadata": {
        "id": "imperial-porcelain"
      },
      "source": [
        "> **QUESTION 4**: Train a random forest regressor using the training set."
      ]
    },
    {
      "cell_type": "code",
      "execution_count": null,
      "id": "given-header",
      "metadata": {
        "id": "given-header"
      },
      "outputs": [],
      "source": [
        "from sklearn.ensemble import RandomForestRegressor"
      ]
    },
    {
      "cell_type": "code",
      "execution_count": null,
      "id": "virtual-mortgage",
      "metadata": {
        "id": "virtual-mortgage"
      },
      "outputs": [],
      "source": [
        "# Create the model\n",
        "rf1 = RandomForestRegressor(n_jobs=-1, random_state=42)"
      ]
    },
    {
      "cell_type": "code",
      "execution_count": null,
      "id": "parental-mistress",
      "metadata": {
        "colab": {
          "base_uri": "https://localhost:8080/",
          "height": 72
        },
        "id": "parental-mistress",
        "outputId": "118f834d-1d0f-4ae7-df7c-144b14e9456e"
      },
      "outputs": [
        {
          "output_type": "execute_result",
          "data": {
            "text/plain": [
              "RandomForestRegressor(n_jobs=-1, random_state=42)"
            ],
            "text/html": [
              "<style>#sk-container-id-2 {color: black;background-color: white;}#sk-container-id-2 pre{padding: 0;}#sk-container-id-2 div.sk-toggleable {background-color: white;}#sk-container-id-2 label.sk-toggleable__label {cursor: pointer;display: block;width: 100%;margin-bottom: 0;padding: 0.3em;box-sizing: border-box;text-align: center;}#sk-container-id-2 label.sk-toggleable__label-arrow:before {content: \"▸\";float: left;margin-right: 0.25em;color: #696969;}#sk-container-id-2 label.sk-toggleable__label-arrow:hover:before {color: black;}#sk-container-id-2 div.sk-estimator:hover label.sk-toggleable__label-arrow:before {color: black;}#sk-container-id-2 div.sk-toggleable__content {max-height: 0;max-width: 0;overflow: hidden;text-align: left;background-color: #f0f8ff;}#sk-container-id-2 div.sk-toggleable__content pre {margin: 0.2em;color: black;border-radius: 0.25em;background-color: #f0f8ff;}#sk-container-id-2 input.sk-toggleable__control:checked~div.sk-toggleable__content {max-height: 200px;max-width: 100%;overflow: auto;}#sk-container-id-2 input.sk-toggleable__control:checked~label.sk-toggleable__label-arrow:before {content: \"▾\";}#sk-container-id-2 div.sk-estimator input.sk-toggleable__control:checked~label.sk-toggleable__label {background-color: #d4ebff;}#sk-container-id-2 div.sk-label input.sk-toggleable__control:checked~label.sk-toggleable__label {background-color: #d4ebff;}#sk-container-id-2 input.sk-hidden--visually {border: 0;clip: rect(1px 1px 1px 1px);clip: rect(1px, 1px, 1px, 1px);height: 1px;margin: -1px;overflow: hidden;padding: 0;position: absolute;width: 1px;}#sk-container-id-2 div.sk-estimator {font-family: monospace;background-color: #f0f8ff;border: 1px dotted black;border-radius: 0.25em;box-sizing: border-box;margin-bottom: 0.5em;}#sk-container-id-2 div.sk-estimator:hover {background-color: #d4ebff;}#sk-container-id-2 div.sk-parallel-item::after {content: \"\";width: 100%;border-bottom: 1px solid gray;flex-grow: 1;}#sk-container-id-2 div.sk-label:hover label.sk-toggleable__label {background-color: #d4ebff;}#sk-container-id-2 div.sk-serial::before {content: \"\";position: absolute;border-left: 1px solid gray;box-sizing: border-box;top: 0;bottom: 0;left: 50%;z-index: 0;}#sk-container-id-2 div.sk-serial {display: flex;flex-direction: column;align-items: center;background-color: white;padding-right: 0.2em;padding-left: 0.2em;position: relative;}#sk-container-id-2 div.sk-item {position: relative;z-index: 1;}#sk-container-id-2 div.sk-parallel {display: flex;align-items: stretch;justify-content: center;background-color: white;position: relative;}#sk-container-id-2 div.sk-item::before, #sk-container-id-2 div.sk-parallel-item::before {content: \"\";position: absolute;border-left: 1px solid gray;box-sizing: border-box;top: 0;bottom: 0;left: 50%;z-index: -1;}#sk-container-id-2 div.sk-parallel-item {display: flex;flex-direction: column;z-index: 1;position: relative;background-color: white;}#sk-container-id-2 div.sk-parallel-item:first-child::after {align-self: flex-end;width: 50%;}#sk-container-id-2 div.sk-parallel-item:last-child::after {align-self: flex-start;width: 50%;}#sk-container-id-2 div.sk-parallel-item:only-child::after {width: 0;}#sk-container-id-2 div.sk-dashed-wrapped {border: 1px dashed gray;margin: 0 0.4em 0.5em 0.4em;box-sizing: border-box;padding-bottom: 0.4em;background-color: white;}#sk-container-id-2 div.sk-label label {font-family: monospace;font-weight: bold;display: inline-block;line-height: 1.2em;}#sk-container-id-2 div.sk-label-container {text-align: center;}#sk-container-id-2 div.sk-container {/* jupyter's `normalize.less` sets `[hidden] { display: none; }` but bootstrap.min.css set `[hidden] { display: none !important; }` so we also need the `!important` here to be able to override the default hidden behavior on the sphinx rendered scikit-learn.org. See: https://github.com/scikit-learn/scikit-learn/issues/21755 */display: inline-block !important;position: relative;}#sk-container-id-2 div.sk-text-repr-fallback {display: none;}</style><div id=\"sk-container-id-2\" class=\"sk-top-container\"><div class=\"sk-text-repr-fallback\"><pre>RandomForestRegressor(n_jobs=-1, random_state=42)</pre><b>In a Jupyter environment, please rerun this cell to show the HTML representation or trust the notebook. <br />On GitHub, the HTML representation is unable to render, please try loading this page with nbviewer.org.</b></div><div class=\"sk-container\" hidden><div class=\"sk-item\"><div class=\"sk-estimator sk-toggleable\"><input class=\"sk-toggleable__control sk-hidden--visually\" id=\"sk-estimator-id-2\" type=\"checkbox\" checked><label for=\"sk-estimator-id-2\" class=\"sk-toggleable__label sk-toggleable__label-arrow\">RandomForestRegressor</label><div class=\"sk-toggleable__content\"><pre>RandomForestRegressor(n_jobs=-1, random_state=42)</pre></div></div></div></div></div>"
            ]
          },
          "metadata": {},
          "execution_count": 35
        }
      ],
      "source": [
        "# Fit the model\n",
        "rf1.fit(train_inputs,train_targets)"
      ]
    },
    {
      "cell_type": "code",
      "execution_count": null,
      "id": "metric-application",
      "metadata": {
        "colab": {
          "base_uri": "https://localhost:8080/"
        },
        "id": "metric-application",
        "outputId": "910710e3-2b07-45b0-ee0b-6accadb9fd19"
      },
      "outputs": [
        {
          "output_type": "stream",
          "name": "stderr",
          "text": [
            "/usr/local/lib/python3.8/dist-packages/sklearn/utils/deprecation.py:101: FutureWarning: Attribute `base_estimator_` was deprecated in version 1.2 and will be removed in 1.4. Use `estimator_` instead.\n",
            "  warnings.warn(msg, category=FutureWarning)\n"
          ]
        },
        {
          "output_type": "execute_result",
          "data": {
            "text/plain": [
              "('criterion',\n",
              " 'max_depth',\n",
              " 'min_samples_split',\n",
              " 'min_samples_leaf',\n",
              " 'min_weight_fraction_leaf',\n",
              " 'max_features',\n",
              " 'max_leaf_nodes',\n",
              " 'min_impurity_decrease',\n",
              " 'random_state',\n",
              " 'ccp_alpha')"
            ]
          },
          "metadata": {},
          "execution_count": 36
        }
      ],
      "source": [
        "rf1.base_estimator_\n",
        "rf1.ccp_alpha\n",
        "rf1.class_weight\n",
        "rf1.estimator_\n",
        "rf1.estimator_params"
      ]
    },
    {
      "cell_type": "markdown",
      "id": "instant-ranking",
      "metadata": {
        "id": "instant-ranking"
      },
      "source": [
        "Let's save our work before continuing."
      ]
    },
    {
      "cell_type": "code",
      "execution_count": null,
      "id": "modular-tyler",
      "metadata": {
        "colab": {
          "base_uri": "https://localhost:8080/"
        },
        "id": "modular-tyler",
        "outputId": "1a2d2f38-ccca-4de1-baa8-016142bbd17e"
      },
      "outputs": [
        {
          "output_type": "stream",
          "name": "stdout",
          "text": [
            "[jovian] Detected Colab notebook...\u001b[0m\n",
            "[jovian] jovian.commit() is no longer required on Google Colab. If you ran this notebook from Jovian, \n",
            "then just save this file in Colab using Ctrl+S/Cmd+S and it will be updated on Jovian. \n",
            "Also, you can also delete this cell, it's no longer necessary.\u001b[0m\n"
          ]
        }
      ],
      "source": [
        "jovian.commit()"
      ]
    },
    {
      "cell_type": "markdown",
      "id": "proved-batman",
      "metadata": {
        "id": "proved-batman"
      },
      "source": [
        "> **QUESTION 5**: Make predictions using the random forest regressor."
      ]
    },
    {
      "cell_type": "code",
      "execution_count": null,
      "id": "removable-driving",
      "metadata": {
        "id": "removable-driving"
      },
      "outputs": [],
      "source": [
        "rf1_train_preds = rf1.predict(train_inputs)"
      ]
    },
    {
      "cell_type": "code",
      "execution_count": null,
      "id": "mature-ceremony",
      "metadata": {
        "id": "mature-ceremony"
      },
      "outputs": [],
      "source": [
        "rf1_train_rmse = mean_squared_error(rf1_train_preds, train_targets)"
      ]
    },
    {
      "cell_type": "code",
      "execution_count": null,
      "id": "unable-racing",
      "metadata": {
        "id": "unable-racing"
      },
      "outputs": [],
      "source": [
        "rf1_val_preds = rf1.predict(val_inputs)"
      ]
    },
    {
      "cell_type": "code",
      "execution_count": null,
      "id": "narrow-chaos",
      "metadata": {
        "id": "narrow-chaos"
      },
      "outputs": [],
      "source": [
        "rf1_val_rmse = mean_squared_error(rf1_val_preds, val_targets)"
      ]
    },
    {
      "cell_type": "code",
      "execution_count": null,
      "id": "norman-brooks",
      "metadata": {
        "colab": {
          "base_uri": "https://localhost:8080/"
        },
        "id": "norman-brooks",
        "outputId": "38a1f846-d69b-4674-efce-b0f824f8b86b"
      },
      "outputs": [
        {
          "output_type": "stream",
          "name": "stdout",
          "text": [
            "Train RMSE: 140762048.72081444, Validation RMSE: 774511050.5034367\n"
          ]
        }
      ],
      "source": [
        "print('Train RMSE: {}, Validation RMSE: {}'.format(rf1_train_rmse, rf1_val_rmse))"
      ]
    },
    {
      "cell_type": "code",
      "execution_count": null,
      "id": "apparent-square",
      "metadata": {
        "colab": {
          "base_uri": "https://localhost:8080/"
        },
        "id": "apparent-square",
        "outputId": "ab67d8a9-8c81-4e51-b943-6876c67a8a3e"
      },
      "outputs": [
        {
          "output_type": "execute_result",
          "data": {
            "text/plain": [
              "0.8894394173452205"
            ]
          },
          "metadata": {},
          "execution_count": 43
        }
      ],
      "source": [
        "rf1.score(train_inputs,train_targets)\n",
        "rf1.score(val_inputs,val_targets)"
      ]
    },
    {
      "cell_type": "markdown",
      "id": "further-camera",
      "metadata": {
        "id": "further-camera"
      },
      "source": [
        "Let's save our work before continuing."
      ]
    },
    {
      "cell_type": "code",
      "execution_count": null,
      "id": "worldwide-exhibit",
      "metadata": {
        "colab": {
          "base_uri": "https://localhost:8080/"
        },
        "id": "worldwide-exhibit",
        "outputId": "1080503a-d2b8-4c2f-9724-cc0fc74a2fc3"
      },
      "outputs": [
        {
          "output_type": "stream",
          "name": "stdout",
          "text": [
            "[jovian] Detected Colab notebook...\u001b[0m\n",
            "[jovian] jovian.commit() is no longer required on Google Colab. If you ran this notebook from Jovian, \n",
            "then just save this file in Colab using Ctrl+S/Cmd+S and it will be updated on Jovian. \n",
            "Also, you can also delete this cell, it's no longer necessary.\u001b[0m\n"
          ]
        }
      ],
      "source": [
        "jovian.commit()"
      ]
    },
    {
      "cell_type": "markdown",
      "id": "confident-soundtrack",
      "metadata": {
        "id": "confident-soundtrack"
      },
      "source": [
        "## Hyperparameter Tuning\n",
        "\n",
        "Let us now tune the hyperparameters of our model. You can find the hyperparameters for `RandomForestRegressor` here: https://scikit-learn.org/stable/modules/generated/sklearn.ensemble.RandomForestRegressor.html\n",
        "\n",
        "<img src=\"https://i.imgur.com/EJCrSZw.png\" width=\"480\">\n",
        "\n",
        "Hyperparameters are use"
      ]
    },
    {
      "cell_type": "markdown",
      "id": "narrative-makeup",
      "metadata": {
        "id": "narrative-makeup"
      },
      "source": [
        "Let's define a helper function `test_params` which can test the given value of one or more hyperparameters."
      ]
    },
    {
      "cell_type": "code",
      "execution_count": null,
      "id": "administrative-palestine",
      "metadata": {
        "id": "administrative-palestine"
      },
      "outputs": [],
      "source": [
        "def test_params(**params):\n",
        "    model = RandomForestRegressor(random_state=42, n_jobs=-1, **params).fit(train_inputs, train_targets)\n",
        "    train_rmse = mean_squared_error(model.predict(train_inputs), train_targets, squared=False)\n",
        "    val_rmse = mean_squared_error(model.predict(val_inputs), val_targets, squared=False)\n",
        "    return (train_rmse, val_rmse)"
      ]
    },
    {
      "cell_type": "markdown",
      "id": "legal-commander",
      "metadata": {
        "id": "legal-commander"
      },
      "source": [
        "It can be used as follows:"
      ]
    },
    {
      "cell_type": "code",
      "execution_count": null,
      "id": "banned-society",
      "metadata": {
        "id": "banned-society",
        "colab": {
          "base_uri": "https://localhost:8080/"
        },
        "outputId": "24f77ab7-75f5-4a57-b6da-822395872643"
      },
      "outputs": [
        {
          "output_type": "execute_result",
          "data": {
            "text/plain": [
              "(13776.89957127333, 28886.033523273858)"
            ]
          },
          "metadata": {},
          "execution_count": 46
        }
      ],
      "source": [
        "test_params(n_estimators=20, max_depth=20)"
      ]
    },
    {
      "cell_type": "code",
      "execution_count": null,
      "id": "outstanding-bradford",
      "metadata": {
        "id": "outstanding-bradford",
        "colab": {
          "base_uri": "https://localhost:8080/"
        },
        "outputId": "40a12af6-aa18-4669-8284-21dec06dc235"
      },
      "outputs": [
        {
          "output_type": "execute_result",
          "data": {
            "text/plain": [
              "(20490.359632429263, 29804.93164279161)"
            ]
          },
          "metadata": {},
          "execution_count": 47
        }
      ],
      "source": [
        "test_params(n_estimators=50, max_depth=10, min_samples_leaf=4, max_features=0.4)"
      ]
    },
    {
      "cell_type": "markdown",
      "id": "civilian-diary",
      "metadata": {
        "id": "civilian-diary"
      },
      "source": [
        "Let's also define a helper function to test and plot different values of a single parameter."
      ]
    },
    {
      "cell_type": "code",
      "execution_count": null,
      "id": "australian-removal",
      "metadata": {
        "id": "australian-removal"
      },
      "outputs": [],
      "source": [
        "def test_param_and_plot(param_name, param_values):\n",
        "    train_errors, val_errors = [], [] \n",
        "    for value in param_values:\n",
        "        params = {param_name: value}\n",
        "        train_rmse, val_rmse = test_params(**params)\n",
        "        train_errors.append(train_rmse)\n",
        "        val_errors.append(val_rmse)\n",
        "    plt.figure(figsize=(10,6))\n",
        "    plt.title('Overfitting curve: ' + param_name)\n",
        "    plt.plot(param_values, train_errors, 'b-o')\n",
        "    plt.plot(param_values, val_errors, 'r-o')\n",
        "    plt.xlabel(param_name)\n",
        "    plt.ylabel('RMSE')\n",
        "    plt.legend(['Training', 'Validation'])"
      ]
    },
    {
      "cell_type": "code",
      "execution_count": null,
      "id": "strategic-webmaster",
      "metadata": {
        "id": "strategic-webmaster",
        "colab": {
          "base_uri": "https://localhost:8080/",
          "height": 415
        },
        "outputId": "efc948e9-8b1f-4dec-81cc-ecff96a412c5"
      },
      "outputs": [
        {
          "output_type": "display_data",
          "data": {
            "text/plain": [
              "<Figure size 720x432 with 1 Axes>"
            ],
            "image/png": "[encoded data removed]"
          },
          "metadata": {
            "needs_background": "light"
          }
        }
      ],
      "source": [
        "test_param_and_plot('max_depth', [5, 10, 15, 20, 25, 30, 35])"
      ]
    },
    {
      "cell_type": "markdown",
      "id": "reasonable-version",
      "metadata": {
        "id": "reasonable-version"
      },
      "source": [
        "From the above graph, it appears that the best value for `max_depth` is around 20, beyond which the model starts to overfit."
      ]
    },
    {
      "cell_type": "code",
      "execution_count": null,
      "id": "individual-discretion",
      "metadata": {
        "id": "individual-discretion",
        "colab": {
          "base_uri": "https://localhost:8080/"
        },
        "outputId": "521054d7-e3a4-472c-d399-3029c96e6964"
      },
      "outputs": [
        {
          "output_type": "execute_result",
          "data": {
            "text/plain": [
              "20"
            ]
          },
          "metadata": {},
          "execution_count": 50
        }
      ],
      "source": [
        "model = RandomForestRegressor(max_depth=20, random_state=42)\n",
        "model.fit(train_inputs, train_targets)\n",
        "pred_score = model.predict(train_inputs)\n",
        "model.score(train_inputs,train_targets)\n",
        "model.score(val_inputs,val_targets)\n",
        "model.max_depth"
      ]
    },
    {
      "cell_type": "markdown",
      "id": "specific-stadium",
      "metadata": {
        "id": "specific-stadium"
      },
      "source": [
        "Let's save our work before continuing."
      ]
    },
    {
      "cell_type": "code",
      "execution_count": null,
      "id": "choice-confidentiality",
      "metadata": {
        "id": "choice-confidentiality",
        "colab": {
          "base_uri": "https://localhost:8080/"
        },
        "outputId": "4ac1e79c-3022-4079-b63b-a20ddf62a0da"
      },
      "outputs": [
        {
          "output_type": "stream",
          "name": "stdout",
          "text": [
            "[jovian] Detected Colab notebook...\u001b[0m\n",
            "[jovian] jovian.commit() is no longer required on Google Colab. If you ran this notebook from Jovian, \n",
            "then just save this file in Colab using Ctrl+S/Cmd+S and it will be updated on Jovian. \n",
            "Also, you can also delete this cell, it's no longer necessary.\u001b[0m\n"
          ]
        }
      ],
      "source": [
        "jovian.commit()"
      ]
    },
    {
      "cell_type": "markdown",
      "id": "bottom-configuration",
      "metadata": {
        "id": "bottom-configuration"
      },
      "source": [
        "> **QUESTION 6**: Use the `test_params` and `test_param_and_plot` functions to experiment with different values of the  hyperparmeters like `n_estimators`, `max_depth`, `min_samples_split`, `min_samples_leaf`, `min_weight_fraction_leaf`, `max_features`, `max_leaf_nodes`, `min_impurity_decrease`, `min_impurity_split` etc. You can learn more about the hyperparameters here: https://scikit-learn.org/stable/modules/generated/sklearn.ensemble.RandomForestRegressor.html"
      ]
    },
    {
      "cell_type": "code",
      "execution_count": null,
      "id": "guided-costs",
      "metadata": {
        "id": "guided-costs",
        "colab": {
          "base_uri": "https://localhost:8080/",
          "height": 415
        },
        "outputId": "e871fc90-9d29-42b3-8bf3-8d5783e3762e"
      },
      "outputs": [
        {
          "output_type": "display_data",
          "data": {
            "text/plain": [
              "<Figure size 720x432 with 1 Axes>"
            ],
            "image/png": "[encoded data removed]"
          },
          "metadata": {
            "needs_background": "light"
          }
        }
      ],
      "source": [
        "test_param_and_plot('n_estimators',[400,800,1200,1600,2000,2400,2800,3200] )\n",
        "#In below chart the best estimators_value is 400"
      ]
    },
    {
      "cell_type": "code",
      "execution_count": null,
      "id": "extraordinary-timer",
      "metadata": {
        "id": "extraordinary-timer",
        "colab": {
          "base_uri": "https://localhost:8080/",
          "height": 415
        },
        "outputId": "74af3c75-70e3-45a3-d850-465a6d62f977"
      },
      "outputs": [
        {
          "output_type": "display_data",
          "data": {
            "text/plain": [
              "<Figure size 720x432 with 1 Axes>"
            ],
            "image/png": "[encoded data removed]"
          },
          "metadata": {
            "needs_background": "light"
          }
        }
      ],
      "source": [
        "test_param_and_plot('criterion',[\"squared_error\", \"absolute_error\", \"friedman_mse\", \"poisson\"])\n",
        "# In below chart the best fit for criterion is poisson"
      ]
    },
    {
      "cell_type": "code",
      "source": [
        "#test_param_and_plot('max_depth',[50,100,None])\n",
        "# max_depth is not affecting this for best fit then we will consider the default value as None\n",
        "#test_param_and_plot('min_samples_leaf',[1,5,10,50,100,150,200,250])\n",
        "# min_samples_leaf is not affecting the model for best fit we will consider the the default value as 1\n",
        "# test_param_and_plot('min_weight_fraction_leaf',[0.0, 0.1,0.2,0.3,0.5])\n",
        "# min_weight_fraction_leaf is affecting the model the best value for min weight fraction leaf is 0.3\n",
        "# test_param_and_plot('min_weight_fraction_leaf',[0.0, 0.1,0.2,0.3,0.5])\n",
        "# min_impurity_decrease is affecting the model the best value for min weight fraction leaf is 0.3\n",
        "#test_param_and_plot('min_impurity_decrease',[0.0, 0.1,0.2,0.3,0.5])\n",
        "test_param_and_plot('min_impurity_decrease',[0.0, 0.1,0.2,0.3,0.5])\n"
      ],
      "metadata": {
        "id": "yr6oJv5H0jjQ",
        "colab": {
          "base_uri": "https://localhost:8080/",
          "height": 415
        },
        "outputId": "8d7f1fe7-e802-41ec-ab6d-be22e12867d3"
      },
      "id": "yr6oJv5H0jjQ",
      "execution_count": null,
      "outputs": [
        {
          "output_type": "display_data",
          "data": {
            "text/plain": [
              "<Figure size 720x432 with 1 Axes>"
            ],
            "image/png": "[encoded data removed]"
          },
          "metadata": {
            "needs_background": "light"
          }
        }
      ]
    },
    {
      "cell_type": "code",
      "execution_count": null,
      "id": "supposed-engine",
      "metadata": {
        "id": "supposed-engine",
        "colab": {
          "base_uri": "https://localhost:8080/",
          "height": 415
        },
        "outputId": "e068f93c-dc44-4dbd-d366-45fd2a71dc01"
      },
      "outputs": [
        {
          "output_type": "display_data",
          "data": {
            "text/plain": [
              "<Figure size 720x432 with 1 Axes>"
            ],
            "image/png": "[encoded data removed]"
          },
          "metadata": {
            "needs_background": "light"
          }
        }
      ],
      "source": [
        "# test_param_and_plot('min_samples_split',[2,50,100,150,200,250,300,350,400,450,500,800,1000])\n",
        "# In min_samples_split for best fit is 100\n",
        "# test_param_and_plot('max_features',[\"sqrt\", \"log2\"])\n",
        "# In max_feature are best fit for sqrt\n",
        "# test_param_and_plot('max_leaf_nodes',[100, 200,300,400,500,800,1000])\n",
        "# max Leaf nodes at 400 is the best fit\n",
        "#test_param_and_plot('bootstrap',[True,False])\n",
        "# Bootstrap is False it's getting better fit model\n",
        "# test_param_and_plot('oob_score',[True,False])\n",
        "# obb score not affecting on model so, we wil consider the default value False\n",
        "#test_param_and_plot('n_jobs',[-1,1,2,3,4])\n",
        "# n_jobs are already set to all cores are available in the CPU we are setting to -1\n",
        "#test_param_and_plot('warm_start',[True,False])\n",
        "test_param_and_plot('ccp_alpha',[10,20,30,40,50,60,100,150,200])\n",
        "# ccc_aplha not affecting the model leave it as a default"
      ]
    },
    {
      "cell_type": "code",
      "source": [
        "model = RandomForestRegressor(n_estimators=400,criterion=\"poisson\", min_samples_leaf=1,min_weight_fraction_leaf=0.3,min_impurity_decrease=0.3,min_samples_split=100,max_features=\"sqrt\",max_leaf_nodes=400,bootstrap=False)"
      ],
      "metadata": {
        "id": "Xzlieim5_fFq"
      },
      "id": "Xzlieim5_fFq",
      "execution_count": null,
      "outputs": []
    },
    {
      "cell_type": "code",
      "source": [
        "model.fit(train_inputs,train_targets)"
      ],
      "metadata": {
        "colab": {
          "base_uri": "https://localhost:8080/",
          "height": 122
        },
        "id": "6mONAeJw_nFb",
        "outputId": "14ef8979-79ba-430b-dee0-0a94abb28ea3"
      },
      "id": "6mONAeJw_nFb",
      "execution_count": null,
      "outputs": [
        {
          "output_type": "execute_result",
          "data": {
            "text/plain": [
              "RandomForestRegressor(bootstrap=False, criterion='poisson', max_features='sqrt',\n",
              "                      max_leaf_nodes=400, min_impurity_decrease=0.3,\n",
              "                      min_samples_split=100, min_weight_fraction_leaf=0.3,\n",
              "                      n_estimators=400)"
            ],
            "text/html": [
              "<style>#sk-container-id-3 {color: black;background-color: white;}#sk-container-id-3 pre{padding: 0;}#sk-container-id-3 div.sk-toggleable {background-color: white;}#sk-container-id-3 label.sk-toggleable__label {cursor: pointer;display: block;width: 100%;margin-bottom: 0;padding: 0.3em;box-sizing: border-box;text-align: center;}#sk-container-id-3 label.sk-toggleable__label-arrow:before {content: \"▸\";float: left;margin-right: 0.25em;color: #696969;}#sk-container-id-3 label.sk-toggleable__label-arrow:hover:before {color: black;}#sk-container-id-3 div.sk-estimator:hover label.sk-toggleable__label-arrow:before {color: black;}#sk-container-id-3 div.sk-toggleable__content {max-height: 0;max-width: 0;overflow: hidden;text-align: left;background-color: #f0f8ff;}#sk-container-id-3 div.sk-toggleable__content pre {margin: 0.2em;color: black;border-radius: 0.25em;background-color: #f0f8ff;}#sk-container-id-3 input.sk-toggleable__control:checked~div.sk-toggleable__content {max-height: 200px;max-width: 100%;overflow: auto;}#sk-container-id-3 input.sk-toggleable__control:checked~label.sk-toggleable__label-arrow:before {content: \"▾\";}#sk-container-id-3 div.sk-estimator input.sk-toggleable__control:checked~label.sk-toggleable__label {background-color: #d4ebff;}#sk-container-id-3 div.sk-label input.sk-toggleable__control:checked~label.sk-toggleable__label {background-color: #d4ebff;}#sk-container-id-3 input.sk-hidden--visually {border: 0;clip: rect(1px 1px 1px 1px);clip: rect(1px, 1px, 1px, 1px);height: 1px;margin: -1px;overflow: hidden;padding: 0;position: absolute;width: 1px;}#sk-container-id-3 div.sk-estimator {font-family: monospace;background-color: #f0f8ff;border: 1px dotted black;border-radius: 0.25em;box-sizing: border-box;margin-bottom: 0.5em;}#sk-container-id-3 div.sk-estimator:hover {background-color: #d4ebff;}#sk-container-id-3 div.sk-parallel-item::after {content: \"\";width: 100%;border-bottom: 1px solid gray;flex-grow: 1;}#sk-container-id-3 div.sk-label:hover label.sk-toggleable__label {background-color: #d4ebff;}#sk-container-id-3 div.sk-serial::before {content: \"\";position: absolute;border-left: 1px solid gray;box-sizing: border-box;top: 0;bottom: 0;left: 50%;z-index: 0;}#sk-container-id-3 div.sk-serial {display: flex;flex-direction: column;align-items: center;background-color: white;padding-right: 0.2em;padding-left: 0.2em;position: relative;}#sk-container-id-3 div.sk-item {position: relative;z-index: 1;}#sk-container-id-3 div.sk-parallel {display: flex;align-items: stretch;justify-content: center;background-color: white;position: relative;}#sk-container-id-3 div.sk-item::before, #sk-container-id-3 div.sk-parallel-item::before {content: \"\";position: absolute;border-left: 1px solid gray;box-sizing: border-box;top: 0;bottom: 0;left: 50%;z-index: -1;}#sk-container-id-3 div.sk-parallel-item {display: flex;flex-direction: column;z-index: 1;position: relative;background-color: white;}#sk-container-id-3 div.sk-parallel-item:first-child::after {align-self: flex-end;width: 50%;}#sk-container-id-3 div.sk-parallel-item:last-child::after {align-self: flex-start;width: 50%;}#sk-container-id-3 div.sk-parallel-item:only-child::after {width: 0;}#sk-container-id-3 div.sk-dashed-wrapped {border: 1px dashed gray;margin: 0 0.4em 0.5em 0.4em;box-sizing: border-box;padding-bottom: 0.4em;background-color: white;}#sk-container-id-3 div.sk-label label {font-family: monospace;font-weight: bold;display: inline-block;line-height: 1.2em;}#sk-container-id-3 div.sk-label-container {text-align: center;}#sk-container-id-3 div.sk-container {/* jupyter's `normalize.less` sets `[hidden] { display: none; }` but bootstrap.min.css set `[hidden] { display: none !important; }` so we also need the `!important` here to be able to override the default hidden behavior on the sphinx rendered scikit-learn.org. See: https://github.com/scikit-learn/scikit-learn/issues/21755 */display: inline-block !important;position: relative;}#sk-container-id-3 div.sk-text-repr-fallback {display: none;}</style><div id=\"sk-container-id-3\" class=\"sk-top-container\"><div class=\"sk-text-repr-fallback\"><pre>RandomForestRegressor(bootstrap=False, criterion=&#x27;poisson&#x27;, max_features=&#x27;sqrt&#x27;,\n",
              "                      max_leaf_nodes=400, min_impurity_decrease=0.3,\n",
              "                      min_samples_split=100, min_weight_fraction_leaf=0.3,\n",
              "                      n_estimators=400)</pre><b>In a Jupyter environment, please rerun this cell to show the HTML representation or trust the notebook. <br />On GitHub, the HTML representation is unable to render, please try loading this page with nbviewer.org.</b></div><div class=\"sk-container\" hidden><div class=\"sk-item\"><div class=\"sk-estimator sk-toggleable\"><input class=\"sk-toggleable__control sk-hidden--visually\" id=\"sk-estimator-id-3\" type=\"checkbox\" checked><label for=\"sk-estimator-id-3\" class=\"sk-toggleable__label sk-toggleable__label-arrow\">RandomForestRegressor</label><div class=\"sk-toggleable__content\"><pre>RandomForestRegressor(bootstrap=False, criterion=&#x27;poisson&#x27;, max_features=&#x27;sqrt&#x27;,\n",
              "                      max_leaf_nodes=400, min_impurity_decrease=0.3,\n",
              "                      min_samples_split=100, min_weight_fraction_leaf=0.3,\n",
              "                      n_estimators=400)</pre></div></div></div></div></div>"
            ]
          },
          "metadata": {},
          "execution_count": 57
        }
      ]
    },
    {
      "cell_type": "code",
      "source": [
        "test_params(n_estimators=400,criterion=\"poisson\", min_samples_leaf=1,min_weight_fraction_leaf=0.3,min_impurity_decrease=0.3,min_samples_split=100,max_features=\"sqrt\",max_leaf_nodes=400,bootstrap=False)"
      ],
      "metadata": {
        "colab": {
          "base_uri": "https://localhost:8080/"
        },
        "id": "m9VnxISL-GGw",
        "outputId": "20190f4e-3bce-4618-d254-e4e0e8d188d4"
      },
      "id": "m9VnxISL-GGw",
      "execution_count": null,
      "outputs": [
        {
          "output_type": "execute_result",
          "data": {
            "text/plain": [
              "(62266.02820420359, 67567.62822289346)"
            ]
          },
          "metadata": {},
          "execution_count": 58
        }
      ]
    },
    {
      "cell_type": "markdown",
      "id": "heard-creator",
      "metadata": {
        "id": "heard-creator"
      },
      "source": [
        "Let's save our work before continuing."
      ]
    },
    {
      "cell_type": "code",
      "execution_count": null,
      "id": "proper-apollo",
      "metadata": {
        "id": "proper-apollo",
        "colab": {
          "base_uri": "https://localhost:8080/"
        },
        "outputId": "2527aaf1-0756-4226-b158-4fcace49a7a5"
      },
      "outputs": [
        {
          "output_type": "stream",
          "name": "stdout",
          "text": [
            "[jovian] Detected Colab notebook...\u001b[0m\n",
            "[jovian] jovian.commit() is no longer required on Google Colab. If you ran this notebook from Jovian, \n",
            "then just save this file in Colab using Ctrl+S/Cmd+S and it will be updated on Jovian. \n",
            "Also, you can also delete this cell, it's no longer necessary.\u001b[0m\n"
          ]
        }
      ],
      "source": [
        "jovian.commit()"
      ]
    },
    {
      "cell_type": "markdown",
      "id": "swiss-charger",
      "metadata": {
        "id": "swiss-charger"
      },
      "source": [
        "## Training the Best Model\n",
        "\n",
        "> **QUESTION 7**: Train a random forest regressor model with your best hyperparameters to minimize the validation loss."
      ]
    },
    {
      "cell_type": "code",
      "execution_count": null,
      "id": "visible-seven",
      "metadata": {
        "id": "visible-seven"
      },
      "outputs": [],
      "source": [
        "# Create the model with custom hyperparameters\n",
        "rf2 = RandomForestRegressor(criterion=\"poisson\", n_estimators=400, min_samples_leaf=1,min_impurity_decrease=1.0, bootstrap=True, oob_score=True,max_leaf_nodes=400)"
      ]
    },
    {
      "cell_type": "code",
      "execution_count": null,
      "id": "sonic-nickname",
      "metadata": {
        "id": "sonic-nickname",
        "colab": {
          "base_uri": "https://localhost:8080/",
          "height": 105
        },
        "outputId": "1713c6c5-9b96-47d5-9b50-3bd5690eda79"
      },
      "outputs": [
        {
          "output_type": "execute_result",
          "data": {
            "text/plain": [
              "RandomForestRegressor(criterion='poisson', max_leaf_nodes=400,\n",
              "                      min_impurity_decrease=1.0, n_estimators=400,\n",
              "                      oob_score=True)"
            ],
            "text/html": [
              "<style>#sk-container-id-7 {color: black;background-color: white;}#sk-container-id-7 pre{padding: 0;}#sk-container-id-7 div.sk-toggleable {background-color: white;}#sk-container-id-7 label.sk-toggleable__label {cursor: pointer;display: block;width: 100%;margin-bottom: 0;padding: 0.3em;box-sizing: border-box;text-align: center;}#sk-container-id-7 label.sk-toggleable__label-arrow:before {content: \"▸\";float: left;margin-right: 0.25em;color: #696969;}#sk-container-id-7 label.sk-toggleable__label-arrow:hover:before {color: black;}#sk-container-id-7 div.sk-estimator:hover label.sk-toggleable__label-arrow:before {color: black;}#sk-container-id-7 div.sk-toggleable__content {max-height: 0;max-width: 0;overflow: hidden;text-align: left;background-color: #f0f8ff;}#sk-container-id-7 div.sk-toggleable__content pre {margin: 0.2em;color: black;border-radius: 0.25em;background-color: #f0f8ff;}#sk-container-id-7 input.sk-toggleable__control:checked~div.sk-toggleable__content {max-height: 200px;max-width: 100%;overflow: auto;}#sk-container-id-7 input.sk-toggleable__control:checked~label.sk-toggleable__label-arrow:before {content: \"▾\";}#sk-container-id-7 div.sk-estimator input.sk-toggleable__control:checked~label.sk-toggleable__label {background-color: #d4ebff;}#sk-container-id-7 div.sk-label input.sk-toggleable__control:checked~label.sk-toggleable__label {background-color: #d4ebff;}#sk-container-id-7 input.sk-hidden--visually {border: 0;clip: rect(1px 1px 1px 1px);clip: rect(1px, 1px, 1px, 1px);height: 1px;margin: -1px;overflow: hidden;padding: 0;position: absolute;width: 1px;}#sk-container-id-7 div.sk-estimator {font-family: monospace;background-color: #f0f8ff;border: 1px dotted black;border-radius: 0.25em;box-sizing: border-box;margin-bottom: 0.5em;}#sk-container-id-7 div.sk-estimator:hover {background-color: #d4ebff;}#sk-container-id-7 div.sk-parallel-item::after {content: \"\";width: 100%;border-bottom: 1px solid gray;flex-grow: 1;}#sk-container-id-7 div.sk-label:hover label.sk-toggleable__label {background-color: #d4ebff;}#sk-container-id-7 div.sk-serial::before {content: \"\";position: absolute;border-left: 1px solid gray;box-sizing: border-box;top: 0;bottom: 0;left: 50%;z-index: 0;}#sk-container-id-7 div.sk-serial {display: flex;flex-direction: column;align-items: center;background-color: white;padding-right: 0.2em;padding-left: 0.2em;position: relative;}#sk-container-id-7 div.sk-item {position: relative;z-index: 1;}#sk-container-id-7 div.sk-parallel {display: flex;align-items: stretch;justify-content: center;background-color: white;position: relative;}#sk-container-id-7 div.sk-item::before, #sk-container-id-7 div.sk-parallel-item::before {content: \"\";position: absolute;border-left: 1px solid gray;box-sizing: border-box;top: 0;bottom: 0;left: 50%;z-index: -1;}#sk-container-id-7 div.sk-parallel-item {display: flex;flex-direction: column;z-index: 1;position: relative;background-color: white;}#sk-container-id-7 div.sk-parallel-item:first-child::after {align-self: flex-end;width: 50%;}#sk-container-id-7 div.sk-parallel-item:last-child::after {align-self: flex-start;width: 50%;}#sk-container-id-7 div.sk-parallel-item:only-child::after {width: 0;}#sk-container-id-7 div.sk-dashed-wrapped {border: 1px dashed gray;margin: 0 0.4em 0.5em 0.4em;box-sizing: border-box;padding-bottom: 0.4em;background-color: white;}#sk-container-id-7 div.sk-label label {font-family: monospace;font-weight: bold;display: inline-block;line-height: 1.2em;}#sk-container-id-7 div.sk-label-container {text-align: center;}#sk-container-id-7 div.sk-container {/* jupyter's `normalize.less` sets `[hidden] { display: none; }` but bootstrap.min.css set `[hidden] { display: none !important; }` so we also need the `!important` here to be able to override the default hidden behavior on the sphinx rendered scikit-learn.org. See: https://github.com/scikit-learn/scikit-learn/issues/21755 */display: inline-block !important;position: relative;}#sk-container-id-7 div.sk-text-repr-fallback {display: none;}</style><div id=\"sk-container-id-7\" class=\"sk-top-container\"><div class=\"sk-text-repr-fallback\"><pre>RandomForestRegressor(criterion=&#x27;poisson&#x27;, max_leaf_nodes=400,\n",
              "                      min_impurity_decrease=1.0, n_estimators=400,\n",
              "                      oob_score=True)</pre><b>In a Jupyter environment, please rerun this cell to show the HTML representation or trust the notebook. <br />On GitHub, the HTML representation is unable to render, please try loading this page with nbviewer.org.</b></div><div class=\"sk-container\" hidden><div class=\"sk-item\"><div class=\"sk-estimator sk-toggleable\"><input class=\"sk-toggleable__control sk-hidden--visually\" id=\"sk-estimator-id-7\" type=\"checkbox\" checked><label for=\"sk-estimator-id-7\" class=\"sk-toggleable__label sk-toggleable__label-arrow\">RandomForestRegressor</label><div class=\"sk-toggleable__content\"><pre>RandomForestRegressor(criterion=&#x27;poisson&#x27;, max_leaf_nodes=400,\n",
              "                      min_impurity_decrease=1.0, n_estimators=400,\n",
              "                      oob_score=True)</pre></div></div></div></div></div>"
            ]
          },
          "metadata": {},
          "execution_count": 106
        }
      ],
      "source": [
        "# Train the model\n",
        "rf2.fit(train_inputs,train_targets)"
      ]
    },
    {
      "cell_type": "code",
      "execution_count": null,
      "id": "collectible-briefs",
      "metadata": {
        "id": "collectible-briefs",
        "colab": {
          "base_uri": "https://localhost:8080/"
        },
        "outputId": "a0123d1e-fac7-42c7-f5f8-399a8ab0abc8"
      },
      "outputs": [
        {
          "output_type": "execute_result",
          "data": {
            "text/plain": [
              "(0.9752399318815449, 0.8949920811000468)"
            ]
          },
          "metadata": {},
          "execution_count": 107
        }
      ],
      "source": [
        "rf2.score(train_inputs,train_targets), rf2.score(val_inputs,val_targets)"
      ]
    },
    {
      "cell_type": "markdown",
      "id": "prompt-lawrence",
      "metadata": {
        "id": "prompt-lawrence"
      },
      "source": [
        "Let's save our work before continuing."
      ]
    },
    {
      "cell_type": "code",
      "execution_count": null,
      "id": "oriental-essex",
      "metadata": {
        "id": "oriental-essex",
        "colab": {
          "base_uri": "https://localhost:8080/"
        },
        "outputId": "046095e4-63a2-4694-c005-0869e3f3e4dc"
      },
      "outputs": [
        {
          "output_type": "stream",
          "name": "stdout",
          "text": [
            "[jovian] Detected Colab notebook...\u001b[0m\n",
            "[jovian] jovian.commit() is no longer required on Google Colab. If you ran this notebook from Jovian, \n",
            "then just save this file in Colab using Ctrl+S/Cmd+S and it will be updated on Jovian. \n",
            "Also, you can also delete this cell, it's no longer necessary.\u001b[0m\n"
          ]
        }
      ],
      "source": [
        "jovian.commit()"
      ]
    },
    {
      "cell_type": "markdown",
      "id": "afraid-chamber",
      "metadata": {
        "id": "afraid-chamber"
      },
      "source": [
        "> **QUESTION 8**: Make predictions and evaluate your final model. If you're unhappy with the results, modify the hyperparameters above and try again."
      ]
    },
    {
      "cell_type": "code",
      "execution_count": null,
      "id": "latest-constraint",
      "metadata": {
        "id": "latest-constraint"
      },
      "outputs": [],
      "source": [
        "rf2_train_preds = rf2.predict(train_inputs)"
      ]
    },
    {
      "cell_type": "code",
      "execution_count": null,
      "id": "expected-musician",
      "metadata": {
        "id": "expected-musician"
      },
      "outputs": [],
      "source": [
        "rf2_train_rmse = mean_squared_error(rf2_train_preds, train_targets)"
      ]
    },
    {
      "cell_type": "code",
      "execution_count": null,
      "id": "equivalent-brand",
      "metadata": {
        "id": "equivalent-brand"
      },
      "outputs": [],
      "source": [
        "rf2_val_preds = rf2.predict(val_inputs)"
      ]
    },
    {
      "cell_type": "code",
      "execution_count": null,
      "id": "sacred-dealer",
      "metadata": {
        "id": "sacred-dealer"
      },
      "outputs": [],
      "source": [
        "rf2_val_rmse = mean_squared_error(rf2_val_preds, val_targets)"
      ]
    },
    {
      "cell_type": "code",
      "execution_count": null,
      "id": "relevant-musician",
      "metadata": {
        "id": "relevant-musician",
        "colab": {
          "base_uri": "https://localhost:8080/"
        },
        "outputId": "67bf7e9b-4f33-4b9a-e0d2-df3b32dc6db5"
      },
      "outputs": [
        {
          "output_type": "stream",
          "name": "stdout",
          "text": [
            "Train RMSE: 150329395.0121804, Validation RMSE: 735612924.8371552\n"
          ]
        }
      ],
      "source": [
        "print('Train RMSE: {}, Validation RMSE: {}'.format(rf2_train_rmse, rf2_val_rmse))"
      ]
    },
    {
      "cell_type": "code",
      "execution_count": null,
      "id": "average-player",
      "metadata": {
        "id": "average-player",
        "colab": {
          "base_uri": "https://localhost:8080/"
        },
        "outputId": "9c84c1df-40ba-459f-fc13-3bb85aaa6095"
      },
      "outputs": [
        {
          "output_type": "execute_result",
          "data": {
            "text/plain": [
              "array([2.41506068e-03, 6.26064978e-03, 1.45311155e-02, 5.63926220e-01,\n",
              "       6.24046067e-03, 1.19143004e-02, 6.71237392e-03, 2.56293271e-03,\n",
              "       2.65123969e-02, 5.31823766e-04, 4.34055591e-03, 3.66191591e-02,\n",
              "       2.56564286e-02, 1.22876940e-02, 4.72443178e-05, 1.12478660e-01,\n",
              "       9.57678057e-04, 1.47284229e-04, 6.50151229e-03, 7.31105186e-04,\n",
              "       1.29353002e-03, 1.04260581e-03, 3.53455893e-03, 2.49429302e-03,\n",
              "       4.56206310e-03, 3.99312268e-02, 1.76660389e-02, 4.22433520e-03,\n",
              "       4.88816034e-03, 1.04469963e-03, 1.67805270e-04, 1.26486416e-03,\n",
              "       3.51624464e-04, 5.71802285e-05, 2.93712813e-03, 1.30186031e-03,\n",
              "       1.02221145e-04, 4.77148514e-05, 3.56888490e-05, 8.33144246e-04,\n",
              "       1.32357227e-03, 3.75912228e-06, 4.74704156e-06, 1.03024061e-04,\n",
              "       1.42552520e-04, 3.00072069e-04, 3.01363776e-04, 1.24000373e-04,\n",
              "       6.96998177e-05, 1.87225070e-03, 7.29092642e-04, 2.84968215e-04,\n",
              "       8.08818253e-05, 5.25100804e-04, 0.00000000e+00, 6.02248751e-06,\n",
              "       2.76748028e-04, 3.20149393e-04, 6.80029426e-05, 3.49754861e-05,\n",
              "       4.49686822e-04, 3.60404330e-04, 1.82969117e-04, 2.08909191e-05,\n",
              "       6.13992540e-06, 1.79302582e-06, 4.33370871e-06, 6.60417314e-05,\n",
              "       1.75324702e-04, 2.30781328e-04, 6.20787457e-04, 8.85571738e-04,\n",
              "       7.49071033e-05, 8.39222979e-05, 1.24101302e-05, 4.24281010e-05,\n",
              "       1.90611690e-04, 4.67576264e-06, 1.15301465e-04, 1.71253517e-04,\n",
              "       1.54534993e-04, 2.83300213e-04, 2.92006815e-05, 1.40077256e-04,\n",
              "       3.55753149e-05, 1.98995176e-04, 2.11807351e-04, 9.28637310e-05,\n",
              "       2.39237628e-05, 1.29006711e-04, 1.63887545e-04, 3.45889279e-04,\n",
              "       1.89273500e-05, 1.35693726e-04, 8.34742231e-05, 9.67647248e-06,\n",
              "       2.00795159e-07, 1.98257405e-05, 8.23510347e-06, 3.74014780e-06,\n",
              "       6.46707312e-05, 0.00000000e+00, 7.39610242e-05, 0.00000000e+00,\n",
              "       0.00000000e+00, 0.00000000e+00, 2.30650078e-04, 1.35600548e-05,\n",
              "       8.50322110e-05, 2.19158004e-05, 3.07379273e-05, 2.38319159e-04,\n",
              "       1.64047817e-05, 1.89853952e-04, 7.36173983e-06, 1.55299815e-05,\n",
              "       2.60191287e-04, 2.04383319e-06, 8.75120029e-05, 5.79490397e-05,\n",
              "       3.31710085e-04, 6.84093650e-05, 3.01591071e-04, 0.00000000e+00,\n",
              "       1.43185162e-05, 5.97354726e-05, 1.43933149e-04, 0.00000000e+00,\n",
              "       1.85739101e-05, 0.00000000e+00, 2.68233714e-05, 4.49817043e-06,\n",
              "       1.86088401e-05, 4.29580522e-05, 1.14890023e-06, 1.02705690e-04,\n",
              "       2.40871498e-04, 0.00000000e+00, 7.97109528e-05, 1.34860021e-04,\n",
              "       1.73990940e-07, 3.93559791e-04, 2.58495007e-04, 1.34930425e-06,\n",
              "       3.37869011e-05, 3.91007307e-04, 2.90846370e-04, 8.96138420e-06,\n",
              "       2.22360030e-05, 2.92159089e-06, 8.86752947e-05, 1.60091821e-05,\n",
              "       0.00000000e+00, 1.62979568e-04, 1.41603582e-04, 1.08183580e-04,\n",
              "       3.87473777e-04, 5.65859718e-06, 2.84898043e-04, 1.09557540e-05,\n",
              "       8.80334541e-05, 5.53307821e-04, 1.31731830e-04, 9.66991734e-05,\n",
              "       6.22954246e-05, 2.66061716e-04, 1.91044537e-04, 3.20014586e-04,\n",
              "       6.45498242e-06, 1.37811461e-03, 1.71681824e-05, 7.32465862e-04,\n",
              "       5.27583842e-04, 0.00000000e+00, 1.75212736e-04, 4.06300771e-04,\n",
              "       1.97968629e-06, 3.72948059e-04, 3.07844505e-04, 2.73814766e-04,\n",
              "       3.47923407e-04, 2.79593884e-05, 9.79606329e-06, 2.57007036e-07,\n",
              "       8.38981544e-03, 1.02708658e-04, 2.17927270e-03, 3.77520765e-04,\n",
              "       1.95008197e-05, 2.26839893e-04, 3.92139189e-05, 3.62498904e-07,\n",
              "       3.10966604e-04, 2.84839630e-05, 2.42577197e-04, 1.43894990e-03,\n",
              "       1.29487891e-04, 6.60013945e-04, 2.22605016e-05, 2.77105532e-04,\n",
              "       1.23563105e-04, 6.80013537e-04, 1.66709245e-04, 1.24389297e-04,\n",
              "       2.29165599e-04, 3.18941742e-05, 1.09586102e-04, 7.32356891e-05,\n",
              "       1.23970886e-05, 4.38335202e-05, 5.12958431e-05, 9.72107056e-05,\n",
              "       1.47279680e-05, 1.44733124e-06, 8.11364051e-05, 2.61912475e-05,\n",
              "       1.80475884e-04, 1.36121964e-05, 2.45836303e-06, 3.55957707e-04,\n",
              "       6.55708660e-04, 3.33862780e-04, 2.27505158e-07, 5.44599882e-04,\n",
              "       2.18960628e-03, 2.43849012e-03, 6.21704723e-05, 6.05382282e-05,\n",
              "       5.82453207e-06, 0.00000000e+00, 1.93034268e-04, 1.34436821e-06,\n",
              "       2.02448688e-03, 1.41131558e-04, 1.58844068e-03, 1.00738630e-03,\n",
              "       3.03487480e-05, 8.88466818e-05, 7.39377385e-05, 5.81341060e-05,\n",
              "       1.55766081e-04, 7.73968228e-06, 4.71561321e-04, 2.02362853e-04,\n",
              "       1.66306814e-05, 5.77644575e-04, 1.60259704e-04, 3.90575685e-04,\n",
              "       1.88932755e-03, 3.21691949e-06, 1.88031280e-03, 1.23929583e-05,\n",
              "       1.61329662e-04, 5.92772771e-05, 3.17721103e-03, 1.44752857e-04,\n",
              "       4.68304762e-04, 4.51474324e-04, 1.87023860e-03, 1.31842495e-04,\n",
              "       3.76206401e-05, 1.09011512e-04, 1.49955387e-05, 2.50479782e-06,\n",
              "       3.70364041e-04, 1.03579346e-04, 0.00000000e+00, 5.78372713e-05,\n",
              "       2.02791519e-05, 1.11345538e-06, 3.49240982e-04, 1.17695182e-04,\n",
              "       4.85382194e-04, 6.78373675e-05, 2.27164285e-04, 3.32366435e-04,\n",
              "       1.57997308e-06, 1.06201014e-04, 1.39354320e-04, 6.93963315e-05,\n",
              "       2.29101960e-04, 2.42152658e-04, 3.08889794e-06, 2.24080798e-04,\n",
              "       3.28357766e-06, 3.42480249e-06, 1.51417325e-05, 7.79986884e-07,\n",
              "       4.26208210e-05, 5.09885205e-05, 1.02619539e-05, 2.75027840e-06,\n",
              "       1.59214231e-05, 3.71316286e-06, 5.30117435e-06, 3.28952803e-04,\n",
              "       0.00000000e+00, 3.52967801e-04, 4.99286569e-04, 7.08768350e-06,\n",
              "       1.60842527e-05, 5.80998842e-04, 3.90537487e-04, 3.56834086e-04])"
            ]
          },
          "metadata": {},
          "execution_count": 119
        }
      ],
      "source": [
        "rf2.feature_importances_"
      ]
    },
    {
      "cell_type": "markdown",
      "id": "danish-filename",
      "metadata": {
        "id": "danish-filename"
      },
      "source": [
        "Let's also view and plot the feature importances."
      ]
    },
    {
      "cell_type": "code",
      "execution_count": null,
      "id": "measured-circle",
      "metadata": {
        "id": "measured-circle"
      },
      "outputs": [],
      "source": [
        "rf2_importance_df = pd.DataFrame({\n",
        "    'feature': train_inputs.columns,\n",
        "    'importance': rf2.feature_importances_\n",
        "}).sort_values('importance', ascending=False)"
      ]
    },
    {
      "cell_type": "code",
      "execution_count": null,
      "id": "insured-thickness",
      "metadata": {
        "id": "insured-thickness",
        "colab": {
          "base_uri": "https://localhost:8080/",
          "height": 411
        },
        "outputId": "d663971b-ad8b-414b-9de2-0f98f41f4629"
      },
      "outputs": [
        {
          "output_type": "execute_result",
          "data": {
            "text/plain": [
              "                feature  importance\n",
              "3           OverallQual    0.563926\n",
              "15            GrLivArea    0.112479\n",
              "25           GarageCars    0.039931\n",
              "11          TotalBsmtSF    0.036619\n",
              "8            BsmtFinSF1    0.026512\n",
              "..                  ...         ...\n",
              "103     Condition2_RRAe    0.000000\n",
              "101     Condition2_PosA    0.000000\n",
              "229      Electrical_Mix    0.000000\n",
              "266       GarageCond_Ex    0.000000\n",
              "152  Exterior2nd_CBlock    0.000000\n",
              "\n",
              "[304 rows x 2 columns]"
            ],
            "text/html": [
              "\n",
              "  <div id=\"df-63fa90b1-c6e5-4f0c-bea3-1e4396de2620\">\n",
              "    <div class=\"colab-df-container\">\n",
              "      <div>\n",
              "<style scoped>\n",
              "    .dataframe tbody tr th:only-of-type {\n",
              "        vertical-align: middle;\n",
              "    }\n",
              "\n",
              "    .dataframe tbody tr th {\n",
              "        vertical-align: top;\n",
              "    }\n",
              "\n",
              "    .dataframe thead th {\n",
              "        text-align: right;\n",
              "    }\n",
              "</style>\n",
              "<table border=\"1\" class=\"dataframe\">\n",
              "  <thead>\n",
              "    <tr style=\"text-align: right;\">\n",
              "      <th></th>\n",
              "      <th>feature</th>\n",
              "      <th>importance</th>\n",
              "    </tr>\n",
              "  </thead>\n",
              "  <tbody>\n",
              "    <tr>\n",
              "      <th>3</th>\n",
              "      <td>OverallQual</td>\n",
              "      <td>0.563926</td>\n",
              "    </tr>\n",
              "    <tr>\n",
              "      <th>15</th>\n",
              "      <td>GrLivArea</td>\n",
              "      <td>0.112479</td>\n",
              "    </tr>\n",
              "    <tr>\n",
              "      <th>25</th>\n",
              "      <td>GarageCars</td>\n",
              "      <td>0.039931</td>\n",
              "    </tr>\n",
              "    <tr>\n",
              "      <th>11</th>\n",
              "      <td>TotalBsmtSF</td>\n",
              "      <td>0.036619</td>\n",
              "    </tr>\n",
              "    <tr>\n",
              "      <th>8</th>\n",
              "      <td>BsmtFinSF1</td>\n",
              "      <td>0.026512</td>\n",
              "    </tr>\n",
              "    <tr>\n",
              "      <th>...</th>\n",
              "      <td>...</td>\n",
              "      <td>...</td>\n",
              "    </tr>\n",
              "    <tr>\n",
              "      <th>103</th>\n",
              "      <td>Condition2_RRAe</td>\n",
              "      <td>0.000000</td>\n",
              "    </tr>\n",
              "    <tr>\n",
              "      <th>101</th>\n",
              "      <td>Condition2_PosA</td>\n",
              "      <td>0.000000</td>\n",
              "    </tr>\n",
              "    <tr>\n",
              "      <th>229</th>\n",
              "      <td>Electrical_Mix</td>\n",
              "      <td>0.000000</td>\n",
              "    </tr>\n",
              "    <tr>\n",
              "      <th>266</th>\n",
              "      <td>GarageCond_Ex</td>\n",
              "      <td>0.000000</td>\n",
              "    </tr>\n",
              "    <tr>\n",
              "      <th>152</th>\n",
              "      <td>Exterior2nd_CBlock</td>\n",
              "      <td>0.000000</td>\n",
              "    </tr>\n",
              "  </tbody>\n",
              "</table>\n",
              "<p>304 rows × 2 columns</p>\n",
              "</div>\n",
              "      <button class=\"colab-df-convert\" onclick=\"convertToInteractive('df-63fa90b1-c6e5-4f0c-bea3-1e4396de2620')\"\n",
              "              title=\"Convert this dataframe to an interactive table.\"\n",
              "              style=\"display:none;\">\n",
              "        \n",
              "  <svg xmlns=\"http://www.w3.org/2000/svg\" height=\"24px\"viewBox=\"0 0 24 24\"\n",
              "       width=\"24px\">\n",
              "    <path d=\"M0 0h24v24H0V0z\" fill=\"none\"/>\n",
              "    <path d=\"M18.56 5.44l.94 2.06.94-2.06 2.06-.94-2.06-.94-.94-2.06-.94 2.06-2.06.94zm-11 1L8.5 8.5l.94-2.06 2.06-.94-2.06-.94L8.5 2.5l-.94 2.06-2.06.94zm10 10l.94 2.06.94-2.06 2.06-.94-2.06-.94-.94-2.06-.94 2.06-2.06.94z\"/><path d=\"M17.41 7.96l-1.37-1.37c-.4-.4-.92-.59-1.43-.59-.52 0-1.04.2-1.43.59L10.3 9.45l-7.72 7.72c-.78.78-.78 2.05 0 2.83L4 21.41c.39.39.9.59 1.41.59.51 0 1.02-.2 1.41-.59l7.78-7.78 2.81-2.81c.8-.78.8-2.07 0-2.86zM5.41 20L4 18.59l7.72-7.72 1.47 1.35L5.41 20z\"/>\n",
              "  </svg>\n",
              "      </button>\n",
              "      \n",
              "  <style>\n",
              "    .colab-df-container {\n",
              "      display:flex;\n",
              "      flex-wrap:wrap;\n",
              "      gap: 12px;\n",
              "    }\n",
              "\n",
              "    .colab-df-convert {\n",
              "      background-color: #E8F0FE;\n",
              "      border: none;\n",
              "      border-radius: 50%;\n",
              "      cursor: pointer;\n",
              "      display: none;\n",
              "      fill: #1967D2;\n",
              "      height: 32px;\n",
              "      padding: 0 0 0 0;\n",
              "      width: 32px;\n",
              "    }\n",
              "\n",
              "    .colab-df-convert:hover {\n",
              "      background-color: #E2EBFA;\n",
              "      box-shadow: 0px 1px 2px rgba(60, 64, 67, 0.3), 0px 1px 3px 1px rgba(60, 64, 67, 0.15);\n",
              "      fill: #174EA6;\n",
              "    }\n",
              "\n",
              "    [theme=dark] .colab-df-convert {\n",
              "      background-color: #3B4455;\n",
              "      fill: #D2E3FC;\n",
              "    }\n",
              "\n",
              "    [theme=dark] .colab-df-convert:hover {\n",
              "      background-color: #434B5C;\n",
              "      box-shadow: 0px 1px 3px 1px rgba(0, 0, 0, 0.15);\n",
              "      filter: drop-shadow(0px 1px 2px rgba(0, 0, 0, 0.3));\n",
              "      fill: #FFFFFF;\n",
              "    }\n",
              "  </style>\n",
              "\n",
              "      <script>\n",
              "        const buttonEl =\n",
              "          document.querySelector('#df-63fa90b1-c6e5-4f0c-bea3-1e4396de2620 button.colab-df-convert');\n",
              "        buttonEl.style.display =\n",
              "          google.colab.kernel.accessAllowed ? 'block' : 'none';\n",
              "\n",
              "        async function convertToInteractive(key) {\n",
              "          const element = document.querySelector('#df-63fa90b1-c6e5-4f0c-bea3-1e4396de2620');\n",
              "          const dataTable =\n",
              "            await google.colab.kernel.invokeFunction('convertToInteractive',\n",
              "                                                     [key], {});\n",
              "          if (!dataTable) return;\n",
              "\n",
              "          const docLinkHtml = 'Like what you see? Visit the ' +\n",
              "            '<a target=\"_blank\" href=https://colab.research.google.com/notebooks/data_table.ipynb>data table notebook</a>'\n",
              "            + ' to learn more about interactive tables.';\n",
              "          element.innerHTML = '';\n",
              "          dataTable['output_type'] = 'display_data';\n",
              "          await google.colab.output.renderOutput(dataTable, element);\n",
              "          const docLink = document.createElement('div');\n",
              "          docLink.innerHTML = docLinkHtml;\n",
              "          element.appendChild(docLink);\n",
              "        }\n",
              "      </script>\n",
              "    </div>\n",
              "  </div>\n",
              "  "
            ]
          },
          "metadata": {},
          "execution_count": 121
        }
      ],
      "source": [
        "rf2_importance_df"
      ]
    },
    {
      "cell_type": "code",
      "execution_count": null,
      "id": "standard-explanation",
      "metadata": {
        "id": "standard-explanation",
        "colab": {
          "base_uri": "https://localhost:8080/",
          "height": 629
        },
        "outputId": "52dd927c-f67e-430d-9629-55170d07a1ff"
      },
      "outputs": [
        {
          "output_type": "execute_result",
          "data": {
            "text/plain": [
              "<matplotlib.axes._subplots.AxesSubplot at 0x7f560f364130>"
            ]
          },
          "metadata": {},
          "execution_count": 124
        },
        {
          "output_type": "display_data",
          "data": {
            "text/plain": [
              "<Figure size 1080x720 with 1 Axes>"
            ],
            "image/png": "[encoded data removed]"
          },
          "metadata": {
            "needs_background": "light"
          }
        }
      ],
      "source": [
        "sns.barplot(data=rf2_importance_df.head(10), x='importance', y='feature')"
      ]
    },
    {
      "cell_type": "code",
      "execution_count": null,
      "id": "junior-xerox",
      "metadata": {
        "id": "junior-xerox"
      },
      "outputs": [],
      "source": []
    },
    {
      "cell_type": "markdown",
      "id": "soviet-springer",
      "metadata": {
        "id": "soviet-springer"
      },
      "source": [
        "Let's save our work before continuing."
      ]
    },
    {
      "cell_type": "code",
      "execution_count": null,
      "id": "tested-majority",
      "metadata": {
        "id": "tested-majority",
        "outputId": "5c31fc0a-c8fc-40c1-9f15-265ee26a6bc1",
        "colab": {
          "base_uri": "https://localhost:8080/"
        }
      },
      "outputs": [
        {
          "output_type": "stream",
          "name": "stdout",
          "text": [
            "[jovian] Detected Colab notebook...\u001b[0m\n",
            "[jovian] jovian.commit() is no longer required on Google Colab. If you ran this notebook from Jovian, \n",
            "then just save this file in Colab using Ctrl+S/Cmd+S and it will be updated on Jovian. \n",
            "Also, you can also delete this cell, it's no longer necessary.\u001b[0m\n"
          ]
        }
      ],
      "source": [
        "jovian.commit()"
      ]
    },
    {
      "cell_type": "markdown",
      "id": "sharp-brush",
      "metadata": {
        "id": "sharp-brush"
      },
      "source": [
        "## Make a Submission\n",
        "\n",
        "To make a submission, just execute the following cell:"
      ]
    },
    {
      "cell_type": "code",
      "execution_count": null,
      "id": "sunset-archive",
      "metadata": {
        "id": "sunset-archive",
        "colab": {
          "base_uri": "https://localhost:8080/"
        },
        "outputId": "6431313d-7494-482c-f64b-623ca5f3090f"
      },
      "outputs": [
        {
          "output_type": "stream",
          "name": "stdout",
          "text": [
            "[jovian] Detected Colab notebook...\u001b[0m\n",
            "[jovian] jovian.commit() is no longer required on Google Colab. If you ran this notebook from Jovian, \n",
            "then just save this file in Colab using Ctrl+S/Cmd+S and it will be updated on Jovian. \n",
            "Also, you can also delete this cell, it's no longer necessary.\u001b[0m\n"
          ]
        }
      ],
      "source": [
        "jovian.submit('zerotogbms-a2')"
      ]
    },
    {
      "cell_type": "markdown",
      "id": "matched-cornell",
      "metadata": {
        "id": "matched-cornell"
      },
      "source": [
        "You can also submit your Jovian notebook link on the assignment page: https://jovian.ai/learn/machine-learning-with-python-zero-to-gbms/assignment/assignment-2-decision-trees-and-random-forests\n",
        "\n",
        "Make sure to review the evaluation criteria carefully. You can make any number of submissions, and only your final submission will be evalauted.\n",
        "\n",
        "Ask questions, discuss ideas and get help here: https://jovian.ai/forum/c/zero-to-gbms/gbms-assignment-2/99\n",
        "\n",
        "NOTE: **The rest of this assignment is optional.**"
      ]
    },
    {
      "cell_type": "markdown",
      "id": "further-scotland",
      "metadata": {
        "id": "further-scotland"
      },
      "source": [
        "## Making Predictions on the Test Set\n",
        "\n",
        "Let's make predictions on the test set provided with the data."
      ]
    },
    {
      "cell_type": "code",
      "execution_count": null,
      "id": "specialized-roots",
      "metadata": {
        "id": "specialized-roots"
      },
      "outputs": [],
      "source": [
        "test_df = pd.read_csv('house-prices/test.csv')"
      ]
    },
    {
      "cell_type": "code",
      "execution_count": null,
      "id": "related-marshall",
      "metadata": {
        "id": "related-marshall",
        "colab": {
          "base_uri": "https://localhost:8080/",
          "height": 264
        },
        "outputId": "534fc60d-511c-4ad7-cd35-213df0e8a196"
      },
      "outputs": [
        {
          "output_type": "execute_result",
          "data": {
            "text/plain": [
              "     Id  MSSubClass MSZoning  LotFrontage  LotArea Street Alley LotShape  \\\n",
              "0  1461          20       RH         80.0    11622   Pave   NaN      Reg   \n",
              "1  1462          20       RL         81.0    14267   Pave   NaN      IR1   \n",
              "2  1463          60       RL         74.0    13830   Pave   NaN      IR1   \n",
              "3  1464          60       RL         78.0     9978   Pave   NaN      IR1   \n",
              "4  1465         120       RL         43.0     5005   Pave   NaN      IR1   \n",
              "\n",
              "  LandContour Utilities LotConfig LandSlope Neighborhood Condition1  \\\n",
              "0         Lvl    AllPub    Inside       Gtl        NAmes      Feedr   \n",
              "1         Lvl    AllPub    Corner       Gtl        NAmes       Norm   \n",
              "2         Lvl    AllPub    Inside       Gtl      Gilbert       Norm   \n",
              "3         Lvl    AllPub    Inside       Gtl      Gilbert       Norm   \n",
              "4         HLS    AllPub    Inside       Gtl      StoneBr       Norm   \n",
              "\n",
              "  Condition2 BldgType HouseStyle  OverallQual  OverallCond  YearBuilt  \\\n",
              "0       Norm     1Fam     1Story            5            6       1961   \n",
              "1       Norm     1Fam     1Story            6            6       1958   \n",
              "2       Norm     1Fam     2Story            5            5       1997   \n",
              "3       Norm     1Fam     2Story            6            6       1998   \n",
              "4       Norm   TwnhsE     1Story            8            5       1992   \n",
              "\n",
              "   YearRemodAdd RoofStyle RoofMatl Exterior1st Exterior2nd MasVnrType  \\\n",
              "0          1961     Gable  CompShg     VinylSd     VinylSd       None   \n",
              "1          1958       Hip  CompShg     Wd Sdng     Wd Sdng    BrkFace   \n",
              "2          1998     Gable  CompShg     VinylSd     VinylSd       None   \n",
              "3          1998     Gable  CompShg     VinylSd     VinylSd    BrkFace   \n",
              "4          1992     Gable  CompShg     HdBoard     HdBoard       None   \n",
              "\n",
              "   MasVnrArea ExterQual ExterCond Foundation BsmtQual BsmtCond BsmtExposure  \\\n",
              "0         0.0        TA        TA     CBlock       TA       TA           No   \n",
              "1       108.0        TA        TA     CBlock       TA       TA           No   \n",
              "2         0.0        TA        TA      PConc       Gd       TA           No   \n",
              "3        20.0        TA        TA      PConc       TA       TA           No   \n",
              "4         0.0        Gd        TA      PConc       Gd       TA           No   \n",
              "\n",
              "  BsmtFinType1  BsmtFinSF1 BsmtFinType2  BsmtFinSF2  BsmtUnfSF  TotalBsmtSF  \\\n",
              "0          Rec       468.0          LwQ       144.0      270.0        882.0   \n",
              "1          ALQ       923.0          Unf         0.0      406.0       1329.0   \n",
              "2          GLQ       791.0          Unf         0.0      137.0        928.0   \n",
              "3          GLQ       602.0          Unf         0.0      324.0        926.0   \n",
              "4          ALQ       263.0          Unf         0.0     1017.0       1280.0   \n",
              "\n",
              "  Heating HeatingQC CentralAir Electrical  1stFlrSF  2ndFlrSF  LowQualFinSF  \\\n",
              "0    GasA        TA          Y      SBrkr       896         0             0   \n",
              "1    GasA        TA          Y      SBrkr      1329         0             0   \n",
              "2    GasA        Gd          Y      SBrkr       928       701             0   \n",
              "3    GasA        Ex          Y      SBrkr       926       678             0   \n",
              "4    GasA        Ex          Y      SBrkr      1280         0             0   \n",
              "\n",
              "   GrLivArea  BsmtFullBath  BsmtHalfBath  FullBath  HalfBath  BedroomAbvGr  \\\n",
              "0        896           0.0           0.0         1         0             2   \n",
              "1       1329           0.0           0.0         1         1             3   \n",
              "2       1629           0.0           0.0         2         1             3   \n",
              "3       1604           0.0           0.0         2         1             3   \n",
              "4       1280           0.0           0.0         2         0             2   \n",
              "\n",
              "   KitchenAbvGr KitchenQual  TotRmsAbvGrd Functional  Fireplaces FireplaceQu  \\\n",
              "0             1          TA             5        Typ           0         NaN   \n",
              "1             1          Gd             6        Typ           0         NaN   \n",
              "2             1          TA             6        Typ           1          TA   \n",
              "3             1          Gd             7        Typ           1          Gd   \n",
              "4             1          Gd             5        Typ           0         NaN   \n",
              "\n",
              "  GarageType  GarageYrBlt GarageFinish  GarageCars  GarageArea GarageQual  \\\n",
              "0     Attchd       1961.0          Unf         1.0       730.0         TA   \n",
              "1     Attchd       1958.0          Unf         1.0       312.0         TA   \n",
              "2     Attchd       1997.0          Fin         2.0       482.0         TA   \n",
              "3     Attchd       1998.0          Fin         2.0       470.0         TA   \n",
              "4     Attchd       1992.0          RFn         2.0       506.0         TA   \n",
              "\n",
              "  GarageCond PavedDrive  WoodDeckSF  OpenPorchSF  EnclosedPorch  3SsnPorch  \\\n",
              "0         TA          Y         140            0              0          0   \n",
              "1         TA          Y         393           36              0          0   \n",
              "2         TA          Y         212           34              0          0   \n",
              "3         TA          Y         360           36              0          0   \n",
              "4         TA          Y           0           82              0          0   \n",
              "\n",
              "   ScreenPorch  PoolArea PoolQC  Fence MiscFeature  MiscVal  MoSold  YrSold  \\\n",
              "0          120         0    NaN  MnPrv         NaN        0       6    2010   \n",
              "1            0         0    NaN    NaN        Gar2    12500       6    2010   \n",
              "2            0         0    NaN  MnPrv         NaN        0       3    2010   \n",
              "3            0         0    NaN    NaN         NaN        0       6    2010   \n",
              "4          144         0    NaN    NaN         NaN        0       1    2010   \n",
              "\n",
              "  SaleType SaleCondition  \n",
              "0       WD        Normal  \n",
              "1       WD        Normal  \n",
              "2       WD        Normal  \n",
              "3       WD        Normal  \n",
              "4       WD        Normal  "
            ],
            "text/html": [
              "\n",
              "  <div id=\"df-30c71490-088f-4a03-804e-bb5177fcb1f5\">\n",
              "    <div class=\"colab-df-container\">\n",
              "      <div>\n",
              "<style scoped>\n",
              "    .dataframe tbody tr th:only-of-type {\n",
              "        vertical-align: middle;\n",
              "    }\n",
              "\n",
              "    .dataframe tbody tr th {\n",
              "        vertical-align: top;\n",
              "    }\n",
              "\n",
              "    .dataframe thead th {\n",
              "        text-align: right;\n",
              "    }\n",
              "</style>\n",
              "<table border=\"1\" class=\"dataframe\">\n",
              "  <thead>\n",
              "    <tr style=\"text-align: right;\">\n",
              "      <th></th>\n",
              "      <th>Id</th>\n",
              "      <th>MSSubClass</th>\n",
              "      <th>MSZoning</th>\n",
              "      <th>LotFrontage</th>\n",
              "      <th>LotArea</th>\n",
              "      <th>Street</th>\n",
              "      <th>Alley</th>\n",
              "      <th>LotShape</th>\n",
              "      <th>LandContour</th>\n",
              "      <th>Utilities</th>\n",
              "      <th>LotConfig</th>\n",
              "      <th>LandSlope</th>\n",
              "      <th>Neighborhood</th>\n",
              "      <th>Condition1</th>\n",
              "      <th>Condition2</th>\n",
              "      <th>BldgType</th>\n",
              "      <th>HouseStyle</th>\n",
              "      <th>OverallQual</th>\n",
              "      <th>OverallCond</th>\n",
              "      <th>YearBuilt</th>\n",
              "      <th>YearRemodAdd</th>\n",
              "      <th>RoofStyle</th>\n",
              "      <th>RoofMatl</th>\n",
              "      <th>Exterior1st</th>\n",
              "      <th>Exterior2nd</th>\n",
              "      <th>MasVnrType</th>\n",
              "      <th>MasVnrArea</th>\n",
              "      <th>ExterQual</th>\n",
              "      <th>ExterCond</th>\n",
              "      <th>Foundation</th>\n",
              "      <th>BsmtQual</th>\n",
              "      <th>BsmtCond</th>\n",
              "      <th>BsmtExposure</th>\n",
              "      <th>BsmtFinType1</th>\n",
              "      <th>BsmtFinSF1</th>\n",
              "      <th>BsmtFinType2</th>\n",
              "      <th>BsmtFinSF2</th>\n",
              "      <th>BsmtUnfSF</th>\n",
              "      <th>TotalBsmtSF</th>\n",
              "      <th>Heating</th>\n",
              "      <th>HeatingQC</th>\n",
              "      <th>CentralAir</th>\n",
              "      <th>Electrical</th>\n",
              "      <th>1stFlrSF</th>\n",
              "      <th>2ndFlrSF</th>\n",
              "      <th>LowQualFinSF</th>\n",
              "      <th>GrLivArea</th>\n",
              "      <th>BsmtFullBath</th>\n",
              "      <th>BsmtHalfBath</th>\n",
              "      <th>FullBath</th>\n",
              "      <th>HalfBath</th>\n",
              "      <th>BedroomAbvGr</th>\n",
              "      <th>KitchenAbvGr</th>\n",
              "      <th>KitchenQual</th>\n",
              "      <th>TotRmsAbvGrd</th>\n",
              "      <th>Functional</th>\n",
              "      <th>Fireplaces</th>\n",
              "      <th>FireplaceQu</th>\n",
              "      <th>GarageType</th>\n",
              "      <th>GarageYrBlt</th>\n",
              "      <th>GarageFinish</th>\n",
              "      <th>GarageCars</th>\n",
              "      <th>GarageArea</th>\n",
              "      <th>GarageQual</th>\n",
              "      <th>GarageCond</th>\n",
              "      <th>PavedDrive</th>\n",
              "      <th>WoodDeckSF</th>\n",
              "      <th>OpenPorchSF</th>\n",
              "      <th>EnclosedPorch</th>\n",
              "      <th>3SsnPorch</th>\n",
              "      <th>ScreenPorch</th>\n",
              "      <th>PoolArea</th>\n",
              "      <th>PoolQC</th>\n",
              "      <th>Fence</th>\n",
              "      <th>MiscFeature</th>\n",
              "      <th>MiscVal</th>\n",
              "      <th>MoSold</th>\n",
              "      <th>YrSold</th>\n",
              "      <th>SaleType</th>\n",
              "      <th>SaleCondition</th>\n",
              "    </tr>\n",
              "  </thead>\n",
              "  <tbody>\n",
              "    <tr>\n",
              "      <th>0</th>\n",
              "      <td>1461</td>\n",
              "      <td>20</td>\n",
              "      <td>RH</td>\n",
              "      <td>80.0</td>\n",
              "      <td>11622</td>\n",
              "      <td>Pave</td>\n",
              "      <td>NaN</td>\n",
              "      <td>Reg</td>\n",
              "      <td>Lvl</td>\n",
              "      <td>AllPub</td>\n",
              "      <td>Inside</td>\n",
              "      <td>Gtl</td>\n",
              "      <td>NAmes</td>\n",
              "      <td>Feedr</td>\n",
              "      <td>Norm</td>\n",
              "      <td>1Fam</td>\n",
              "      <td>1Story</td>\n",
              "      <td>5</td>\n",
              "      <td>6</td>\n",
              "      <td>1961</td>\n",
              "      <td>1961</td>\n",
              "      <td>Gable</td>\n",
              "      <td>CompShg</td>\n",
              "      <td>VinylSd</td>\n",
              "      <td>VinylSd</td>\n",
              "      <td>None</td>\n",
              "      <td>0.0</td>\n",
              "      <td>TA</td>\n",
              "      <td>TA</td>\n",
              "      <td>CBlock</td>\n",
              "      <td>TA</td>\n",
              "      <td>TA</td>\n",
              "      <td>No</td>\n",
              "      <td>Rec</td>\n",
              "      <td>468.0</td>\n",
              "      <td>LwQ</td>\n",
              "      <td>144.0</td>\n",
              "      <td>270.0</td>\n",
              "      <td>882.0</td>\n",
              "      <td>GasA</td>\n",
              "      <td>TA</td>\n",
              "      <td>Y</td>\n",
              "      <td>SBrkr</td>\n",
              "      <td>896</td>\n",
              "      <td>0</td>\n",
              "      <td>0</td>\n",
              "      <td>896</td>\n",
              "      <td>0.0</td>\n",
              "      <td>0.0</td>\n",
              "      <td>1</td>\n",
              "      <td>0</td>\n",
              "      <td>2</td>\n",
              "      <td>1</td>\n",
              "      <td>TA</td>\n",
              "      <td>5</td>\n",
              "      <td>Typ</td>\n",
              "      <td>0</td>\n",
              "      <td>NaN</td>\n",
              "      <td>Attchd</td>\n",
              "      <td>1961.0</td>\n",
              "      <td>Unf</td>\n",
              "      <td>1.0</td>\n",
              "      <td>730.0</td>\n",
              "      <td>TA</td>\n",
              "      <td>TA</td>\n",
              "      <td>Y</td>\n",
              "      <td>140</td>\n",
              "      <td>0</td>\n",
              "      <td>0</td>\n",
              "      <td>0</td>\n",
              "      <td>120</td>\n",
              "      <td>0</td>\n",
              "      <td>NaN</td>\n",
              "      <td>MnPrv</td>\n",
              "      <td>NaN</td>\n",
              "      <td>0</td>\n",
              "      <td>6</td>\n",
              "      <td>2010</td>\n",
              "      <td>WD</td>\n",
              "      <td>Normal</td>\n",
              "    </tr>\n",
              "    <tr>\n",
              "      <th>1</th>\n",
              "      <td>1462</td>\n",
              "      <td>20</td>\n",
              "      <td>RL</td>\n",
              "      <td>81.0</td>\n",
              "      <td>14267</td>\n",
              "      <td>Pave</td>\n",
              "      <td>NaN</td>\n",
              "      <td>IR1</td>\n",
              "      <td>Lvl</td>\n",
              "      <td>AllPub</td>\n",
              "      <td>Corner</td>\n",
              "      <td>Gtl</td>\n",
              "      <td>NAmes</td>\n",
              "      <td>Norm</td>\n",
              "      <td>Norm</td>\n",
              "      <td>1Fam</td>\n",
              "      <td>1Story</td>\n",
              "      <td>6</td>\n",
              "      <td>6</td>\n",
              "      <td>1958</td>\n",
              "      <td>1958</td>\n",
              "      <td>Hip</td>\n",
              "      <td>CompShg</td>\n",
              "      <td>Wd Sdng</td>\n",
              "      <td>Wd Sdng</td>\n",
              "      <td>BrkFace</td>\n",
              "      <td>108.0</td>\n",
              "      <td>TA</td>\n",
              "      <td>TA</td>\n",
              "      <td>CBlock</td>\n",
              "      <td>TA</td>\n",
              "      <td>TA</td>\n",
              "      <td>No</td>\n",
              "      <td>ALQ</td>\n",
              "      <td>923.0</td>\n",
              "      <td>Unf</td>\n",
              "      <td>0.0</td>\n",
              "      <td>406.0</td>\n",
              "      <td>1329.0</td>\n",
              "      <td>GasA</td>\n",
              "      <td>TA</td>\n",
              "      <td>Y</td>\n",
              "      <td>SBrkr</td>\n",
              "      <td>1329</td>\n",
              "      <td>0</td>\n",
              "      <td>0</td>\n",
              "      <td>1329</td>\n",
              "      <td>0.0</td>\n",
              "      <td>0.0</td>\n",
              "      <td>1</td>\n",
              "      <td>1</td>\n",
              "      <td>3</td>\n",
              "      <td>1</td>\n",
              "      <td>Gd</td>\n",
              "      <td>6</td>\n",
              "      <td>Typ</td>\n",
              "      <td>0</td>\n",
              "      <td>NaN</td>\n",
              "      <td>Attchd</td>\n",
              "      <td>1958.0</td>\n",
              "      <td>Unf</td>\n",
              "      <td>1.0</td>\n",
              "      <td>312.0</td>\n",
              "      <td>TA</td>\n",
              "      <td>TA</td>\n",
              "      <td>Y</td>\n",
              "      <td>393</td>\n",
              "      <td>36</td>\n",
              "      <td>0</td>\n",
              "      <td>0</td>\n",
              "      <td>0</td>\n",
              "      <td>0</td>\n",
              "      <td>NaN</td>\n",
              "      <td>NaN</td>\n",
              "      <td>Gar2</td>\n",
              "      <td>12500</td>\n",
              "      <td>6</td>\n",
              "      <td>2010</td>\n",
              "      <td>WD</td>\n",
              "      <td>Normal</td>\n",
              "    </tr>\n",
              "    <tr>\n",
              "      <th>2</th>\n",
              "      <td>1463</td>\n",
              "      <td>60</td>\n",
              "      <td>RL</td>\n",
              "      <td>74.0</td>\n",
              "      <td>13830</td>\n",
              "      <td>Pave</td>\n",
              "      <td>NaN</td>\n",
              "      <td>IR1</td>\n",
              "      <td>Lvl</td>\n",
              "      <td>AllPub</td>\n",
              "      <td>Inside</td>\n",
              "      <td>Gtl</td>\n",
              "      <td>Gilbert</td>\n",
              "      <td>Norm</td>\n",
              "      <td>Norm</td>\n",
              "      <td>1Fam</td>\n",
              "      <td>2Story</td>\n",
              "      <td>5</td>\n",
              "      <td>5</td>\n",
              "      <td>1997</td>\n",
              "      <td>1998</td>\n",
              "      <td>Gable</td>\n",
              "      <td>CompShg</td>\n",
              "      <td>VinylSd</td>\n",
              "      <td>VinylSd</td>\n",
              "      <td>None</td>\n",
              "      <td>0.0</td>\n",
              "      <td>TA</td>\n",
              "      <td>TA</td>\n",
              "      <td>PConc</td>\n",
              "      <td>Gd</td>\n",
              "      <td>TA</td>\n",
              "      <td>No</td>\n",
              "      <td>GLQ</td>\n",
              "      <td>791.0</td>\n",
              "      <td>Unf</td>\n",
              "      <td>0.0</td>\n",
              "      <td>137.0</td>\n",
              "      <td>928.0</td>\n",
              "      <td>GasA</td>\n",
              "      <td>Gd</td>\n",
              "      <td>Y</td>\n",
              "      <td>SBrkr</td>\n",
              "      <td>928</td>\n",
              "      <td>701</td>\n",
              "      <td>0</td>\n",
              "      <td>1629</td>\n",
              "      <td>0.0</td>\n",
              "      <td>0.0</td>\n",
              "      <td>2</td>\n",
              "      <td>1</td>\n",
              "      <td>3</td>\n",
              "      <td>1</td>\n",
              "      <td>TA</td>\n",
              "      <td>6</td>\n",
              "      <td>Typ</td>\n",
              "      <td>1</td>\n",
              "      <td>TA</td>\n",
              "      <td>Attchd</td>\n",
              "      <td>1997.0</td>\n",
              "      <td>Fin</td>\n",
              "      <td>2.0</td>\n",
              "      <td>482.0</td>\n",
              "      <td>TA</td>\n",
              "      <td>TA</td>\n",
              "      <td>Y</td>\n",
              "      <td>212</td>\n",
              "      <td>34</td>\n",
              "      <td>0</td>\n",
              "      <td>0</td>\n",
              "      <td>0</td>\n",
              "      <td>0</td>\n",
              "      <td>NaN</td>\n",
              "      <td>MnPrv</td>\n",
              "      <td>NaN</td>\n",
              "      <td>0</td>\n",
              "      <td>3</td>\n",
              "      <td>2010</td>\n",
              "      <td>WD</td>\n",
              "      <td>Normal</td>\n",
              "    </tr>\n",
              "    <tr>\n",
              "      <th>3</th>\n",
              "      <td>1464</td>\n",
              "      <td>60</td>\n",
              "      <td>RL</td>\n",
              "      <td>78.0</td>\n",
              "      <td>9978</td>\n",
              "      <td>Pave</td>\n",
              "      <td>NaN</td>\n",
              "      <td>IR1</td>\n",
              "      <td>Lvl</td>\n",
              "      <td>AllPub</td>\n",
              "      <td>Inside</td>\n",
              "      <td>Gtl</td>\n",
              "      <td>Gilbert</td>\n",
              "      <td>Norm</td>\n",
              "      <td>Norm</td>\n",
              "      <td>1Fam</td>\n",
              "      <td>2Story</td>\n",
              "      <td>6</td>\n",
              "      <td>6</td>\n",
              "      <td>1998</td>\n",
              "      <td>1998</td>\n",
              "      <td>Gable</td>\n",
              "      <td>CompShg</td>\n",
              "      <td>VinylSd</td>\n",
              "      <td>VinylSd</td>\n",
              "      <td>BrkFace</td>\n",
              "      <td>20.0</td>\n",
              "      <td>TA</td>\n",
              "      <td>TA</td>\n",
              "      <td>PConc</td>\n",
              "      <td>TA</td>\n",
              "      <td>TA</td>\n",
              "      <td>No</td>\n",
              "      <td>GLQ</td>\n",
              "      <td>602.0</td>\n",
              "      <td>Unf</td>\n",
              "      <td>0.0</td>\n",
              "      <td>324.0</td>\n",
              "      <td>926.0</td>\n",
              "      <td>GasA</td>\n",
              "      <td>Ex</td>\n",
              "      <td>Y</td>\n",
              "      <td>SBrkr</td>\n",
              "      <td>926</td>\n",
              "      <td>678</td>\n",
              "      <td>0</td>\n",
              "      <td>1604</td>\n",
              "      <td>0.0</td>\n",
              "      <td>0.0</td>\n",
              "      <td>2</td>\n",
              "      <td>1</td>\n",
              "      <td>3</td>\n",
              "      <td>1</td>\n",
              "      <td>Gd</td>\n",
              "      <td>7</td>\n",
              "      <td>Typ</td>\n",
              "      <td>1</td>\n",
              "      <td>Gd</td>\n",
              "      <td>Attchd</td>\n",
              "      <td>1998.0</td>\n",
              "      <td>Fin</td>\n",
              "      <td>2.0</td>\n",
              "      <td>470.0</td>\n",
              "      <td>TA</td>\n",
              "      <td>TA</td>\n",
              "      <td>Y</td>\n",
              "      <td>360</td>\n",
              "      <td>36</td>\n",
              "      <td>0</td>\n",
              "      <td>0</td>\n",
              "      <td>0</td>\n",
              "      <td>0</td>\n",
              "      <td>NaN</td>\n",
              "      <td>NaN</td>\n",
              "      <td>NaN</td>\n",
              "      <td>0</td>\n",
              "      <td>6</td>\n",
              "      <td>2010</td>\n",
              "      <td>WD</td>\n",
              "      <td>Normal</td>\n",
              "    </tr>\n",
              "    <tr>\n",
              "      <th>4</th>\n",
              "      <td>1465</td>\n",
              "      <td>120</td>\n",
              "      <td>RL</td>\n",
              "      <td>43.0</td>\n",
              "      <td>5005</td>\n",
              "      <td>Pave</td>\n",
              "      <td>NaN</td>\n",
              "      <td>IR1</td>\n",
              "      <td>HLS</td>\n",
              "      <td>AllPub</td>\n",
              "      <td>Inside</td>\n",
              "      <td>Gtl</td>\n",
              "      <td>StoneBr</td>\n",
              "      <td>Norm</td>\n",
              "      <td>Norm</td>\n",
              "      <td>TwnhsE</td>\n",
              "      <td>1Story</td>\n",
              "      <td>8</td>\n",
              "      <td>5</td>\n",
              "      <td>1992</td>\n",
              "      <td>1992</td>\n",
              "      <td>Gable</td>\n",
              "      <td>CompShg</td>\n",
              "      <td>HdBoard</td>\n",
              "      <td>HdBoard</td>\n",
              "      <td>None</td>\n",
              "      <td>0.0</td>\n",
              "      <td>Gd</td>\n",
              "      <td>TA</td>\n",
              "      <td>PConc</td>\n",
              "      <td>Gd</td>\n",
              "      <td>TA</td>\n",
              "      <td>No</td>\n",
              "      <td>ALQ</td>\n",
              "      <td>263.0</td>\n",
              "      <td>Unf</td>\n",
              "      <td>0.0</td>\n",
              "      <td>1017.0</td>\n",
              "      <td>1280.0</td>\n",
              "      <td>GasA</td>\n",
              "      <td>Ex</td>\n",
              "      <td>Y</td>\n",
              "      <td>SBrkr</td>\n",
              "      <td>1280</td>\n",
              "      <td>0</td>\n",
              "      <td>0</td>\n",
              "      <td>1280</td>\n",
              "      <td>0.0</td>\n",
              "      <td>0.0</td>\n",
              "      <td>2</td>\n",
              "      <td>0</td>\n",
              "      <td>2</td>\n",
              "      <td>1</td>\n",
              "      <td>Gd</td>\n",
              "      <td>5</td>\n",
              "      <td>Typ</td>\n",
              "      <td>0</td>\n",
              "      <td>NaN</td>\n",
              "      <td>Attchd</td>\n",
              "      <td>1992.0</td>\n",
              "      <td>RFn</td>\n",
              "      <td>2.0</td>\n",
              "      <td>506.0</td>\n",
              "      <td>TA</td>\n",
              "      <td>TA</td>\n",
              "      <td>Y</td>\n",
              "      <td>0</td>\n",
              "      <td>82</td>\n",
              "      <td>0</td>\n",
              "      <td>0</td>\n",
              "      <td>144</td>\n",
              "      <td>0</td>\n",
              "      <td>NaN</td>\n",
              "      <td>NaN</td>\n",
              "      <td>NaN</td>\n",
              "      <td>0</td>\n",
              "      <td>1</td>\n",
              "      <td>2010</td>\n",
              "      <td>WD</td>\n",
              "      <td>Normal</td>\n",
              "    </tr>\n",
              "  </tbody>\n",
              "</table>\n",
              "</div>\n",
              "      <button class=\"colab-df-convert\" onclick=\"convertToInteractive('df-30c71490-088f-4a03-804e-bb5177fcb1f5')\"\n",
              "              title=\"Convert this dataframe to an interactive table.\"\n",
              "              style=\"display:none;\">\n",
              "        \n",
              "  <svg xmlns=\"http://www.w3.org/2000/svg\" height=\"24px\"viewBox=\"0 0 24 24\"\n",
              "       width=\"24px\">\n",
              "    <path d=\"M0 0h24v24H0V0z\" fill=\"none\"/>\n",
              "    <path d=\"M18.56 5.44l.94 2.06.94-2.06 2.06-.94-2.06-.94-.94-2.06-.94 2.06-2.06.94zm-11 1L8.5 8.5l.94-2.06 2.06-.94-2.06-.94L8.5 2.5l-.94 2.06-2.06.94zm10 10l.94 2.06.94-2.06 2.06-.94-2.06-.94-.94-2.06-.94 2.06-2.06.94z\"/><path d=\"M17.41 7.96l-1.37-1.37c-.4-.4-.92-.59-1.43-.59-.52 0-1.04.2-1.43.59L10.3 9.45l-7.72 7.72c-.78.78-.78 2.05 0 2.83L4 21.41c.39.39.9.59 1.41.59.51 0 1.02-.2 1.41-.59l7.78-7.78 2.81-2.81c.8-.78.8-2.07 0-2.86zM5.41 20L4 18.59l7.72-7.72 1.47 1.35L5.41 20z\"/>\n",
              "  </svg>\n",
              "      </button>\n",
              "      \n",
              "  <style>\n",
              "    .colab-df-container {\n",
              "      display:flex;\n",
              "      flex-wrap:wrap;\n",
              "      gap: 12px;\n",
              "    }\n",
              "\n",
              "    .colab-df-convert {\n",
              "      background-color: #E8F0FE;\n",
              "      border: none;\n",
              "      border-radius: 50%;\n",
              "      cursor: pointer;\n",
              "      display: none;\n",
              "      fill: #1967D2;\n",
              "      height: 32px;\n",
              "      padding: 0 0 0 0;\n",
              "      width: 32px;\n",
              "    }\n",
              "\n",
              "    .colab-df-convert:hover {\n",
              "      background-color: #E2EBFA;\n",
              "      box-shadow: 0px 1px 2px rgba(60, 64, 67, 0.3), 0px 1px 3px 1px rgba(60, 64, 67, 0.15);\n",
              "      fill: #174EA6;\n",
              "    }\n",
              "\n",
              "    [theme=dark] .colab-df-convert {\n",
              "      background-color: #3B4455;\n",
              "      fill: #D2E3FC;\n",
              "    }\n",
              "\n",
              "    [theme=dark] .colab-df-convert:hover {\n",
              "      background-color: #434B5C;\n",
              "      box-shadow: 0px 1px 3px 1px rgba(0, 0, 0, 0.15);\n",
              "      filter: drop-shadow(0px 1px 2px rgba(0, 0, 0, 0.3));\n",
              "      fill: #FFFFFF;\n",
              "    }\n",
              "  </style>\n",
              "\n",
              "      <script>\n",
              "        const buttonEl =\n",
              "          document.querySelector('#df-30c71490-088f-4a03-804e-bb5177fcb1f5 button.colab-df-convert');\n",
              "        buttonEl.style.display =\n",
              "          google.colab.kernel.accessAllowed ? 'block' : 'none';\n",
              "\n",
              "        async function convertToInteractive(key) {\n",
              "          const element = document.querySelector('#df-30c71490-088f-4a03-804e-bb5177fcb1f5');\n",
              "          const dataTable =\n",
              "            await google.colab.kernel.invokeFunction('convertToInteractive',\n",
              "                                                     [key], {});\n",
              "          if (!dataTable) return;\n",
              "\n",
              "          const docLinkHtml = 'Like what you see? Visit the ' +\n",
              "            '<a target=\"_blank\" href=https://colab.research.google.com/notebooks/data_table.ipynb>data table notebook</a>'\n",
              "            + ' to learn more about interactive tables.';\n",
              "          element.innerHTML = '';\n",
              "          dataTable['output_type'] = 'display_data';\n",
              "          await google.colab.output.renderOutput(dataTable, element);\n",
              "          const docLink = document.createElement('div');\n",
              "          docLink.innerHTML = docLinkHtml;\n",
              "          element.appendChild(docLink);\n",
              "        }\n",
              "      </script>\n",
              "    </div>\n",
              "  </div>\n",
              "  "
            ]
          },
          "metadata": {},
          "execution_count": 129
        }
      ],
      "source": [
        "test_df.head()"
      ]
    },
    {
      "cell_type": "markdown",
      "id": "hourly-government",
      "metadata": {
        "id": "hourly-government"
      },
      "source": [
        "First, we need to reapply all the preprocessing steps."
      ]
    },
    {
      "cell_type": "code",
      "execution_count": null,
      "id": "sunset-chick",
      "metadata": {
        "id": "sunset-chick",
        "colab": {
          "base_uri": "https://localhost:8080/"
        },
        "outputId": "d2637b2a-2e2d-4cf2-f07e-8a3654cc9f2f"
      },
      "outputs": [
        {
          "output_type": "stream",
          "name": "stderr",
          "text": [
            "/usr/local/lib/python3.8/dist-packages/pandas/core/frame.py:3678: PerformanceWarning: DataFrame is highly fragmented.  This is usually the result of calling `frame.insert` many times, which has poor performance.  Consider joining all columns at once using pd.concat(axis=1) instead.  To get a de-fragmented frame, use `newframe = frame.copy()`\n",
            "  self[col] = igetitem(value, i)\n"
          ]
        }
      ],
      "source": [
        "test_df[numeric_cols] = imputer.transform(test_df[numeric_cols])\n",
        "test_df[numeric_cols] = scaler.transform(test_df[numeric_cols])\n",
        "test_df[encoded_cols] = encoder.transform(test_df[categorical_cols])"
      ]
    },
    {
      "cell_type": "code",
      "execution_count": null,
      "id": "thirty-contract",
      "metadata": {
        "id": "thirty-contract"
      },
      "outputs": [],
      "source": [
        "test_inputs = test_df[numeric_cols + encoded_cols]"
      ]
    },
    {
      "cell_type": "markdown",
      "id": "secret-constitutional",
      "metadata": {
        "id": "secret-constitutional"
      },
      "source": [
        "We can now make predictions using our final model."
      ]
    },
    {
      "cell_type": "code",
      "execution_count": null,
      "id": "extreme-edinburgh",
      "metadata": {
        "id": "extreme-edinburgh"
      },
      "outputs": [],
      "source": [
        "test_preds = rf2.predict(test_inputs)"
      ]
    },
    {
      "cell_type": "code",
      "execution_count": null,
      "id": "solid-charger",
      "metadata": {
        "id": "solid-charger"
      },
      "outputs": [],
      "source": [
        "submission_df = pd.read_csv('house-prices/sample_submission.csv')"
      ]
    },
    {
      "cell_type": "code",
      "execution_count": null,
      "id": "fifth-adobe",
      "metadata": {
        "id": "fifth-adobe",
        "colab": {
          "base_uri": "https://localhost:8080/",
          "height": 411
        },
        "outputId": "cbc38104-1ac9-4300-9178-188df0f9fe39"
      },
      "outputs": [
        {
          "output_type": "execute_result",
          "data": {
            "text/plain": [
              "        Id      SalePrice\n",
              "0     1461  125860.850678\n",
              "1     1462  156048.153078\n",
              "2     1463  182203.759402\n",
              "3     1464  184760.731212\n",
              "4     1465  201864.996586\n",
              "...    ...            ...\n",
              "1454  2915   89922.628112\n",
              "1455  2916   90123.499193\n",
              "1456  2917  155551.669763\n",
              "1457  2918  117945.895092\n",
              "1458  2919  232051.103807\n",
              "\n",
              "[1459 rows x 2 columns]"
            ],
            "text/html": [
              "\n",
              "  <div id=\"df-1e874a7d-d4b5-4bb7-856e-23d1db6bd86f\">\n",
              "    <div class=\"colab-df-container\">\n",
              "      <div>\n",
              "<style scoped>\n",
              "    .dataframe tbody tr th:only-of-type {\n",
              "        vertical-align: middle;\n",
              "    }\n",
              "\n",
              "    .dataframe tbody tr th {\n",
              "        vertical-align: top;\n",
              "    }\n",
              "\n",
              "    .dataframe thead th {\n",
              "        text-align: right;\n",
              "    }\n",
              "</style>\n",
              "<table border=\"1\" class=\"dataframe\">\n",
              "  <thead>\n",
              "    <tr style=\"text-align: right;\">\n",
              "      <th></th>\n",
              "      <th>Id</th>\n",
              "      <th>SalePrice</th>\n",
              "    </tr>\n",
              "  </thead>\n",
              "  <tbody>\n",
              "    <tr>\n",
              "      <th>0</th>\n",
              "      <td>1461</td>\n",
              "      <td>125860.850678</td>\n",
              "    </tr>\n",
              "    <tr>\n",
              "      <th>1</th>\n",
              "      <td>1462</td>\n",
              "      <td>156048.153078</td>\n",
              "    </tr>\n",
              "    <tr>\n",
              "      <th>2</th>\n",
              "      <td>1463</td>\n",
              "      <td>182203.759402</td>\n",
              "    </tr>\n",
              "    <tr>\n",
              "      <th>3</th>\n",
              "      <td>1464</td>\n",
              "      <td>184760.731212</td>\n",
              "    </tr>\n",
              "    <tr>\n",
              "      <th>4</th>\n",
              "      <td>1465</td>\n",
              "      <td>201864.996586</td>\n",
              "    </tr>\n",
              "    <tr>\n",
              "      <th>...</th>\n",
              "      <td>...</td>\n",
              "      <td>...</td>\n",
              "    </tr>\n",
              "    <tr>\n",
              "      <th>1454</th>\n",
              "      <td>2915</td>\n",
              "      <td>89922.628112</td>\n",
              "    </tr>\n",
              "    <tr>\n",
              "      <th>1455</th>\n",
              "      <td>2916</td>\n",
              "      <td>90123.499193</td>\n",
              "    </tr>\n",
              "    <tr>\n",
              "      <th>1456</th>\n",
              "      <td>2917</td>\n",
              "      <td>155551.669763</td>\n",
              "    </tr>\n",
              "    <tr>\n",
              "      <th>1457</th>\n",
              "      <td>2918</td>\n",
              "      <td>117945.895092</td>\n",
              "    </tr>\n",
              "    <tr>\n",
              "      <th>1458</th>\n",
              "      <td>2919</td>\n",
              "      <td>232051.103807</td>\n",
              "    </tr>\n",
              "  </tbody>\n",
              "</table>\n",
              "<p>1459 rows × 2 columns</p>\n",
              "</div>\n",
              "      <button class=\"colab-df-convert\" onclick=\"convertToInteractive('df-1e874a7d-d4b5-4bb7-856e-23d1db6bd86f')\"\n",
              "              title=\"Convert this dataframe to an interactive table.\"\n",
              "              style=\"display:none;\">\n",
              "        \n",
              "  <svg xmlns=\"http://www.w3.org/2000/svg\" height=\"24px\"viewBox=\"0 0 24 24\"\n",
              "       width=\"24px\">\n",
              "    <path d=\"M0 0h24v24H0V0z\" fill=\"none\"/>\n",
              "    <path d=\"M18.56 5.44l.94 2.06.94-2.06 2.06-.94-2.06-.94-.94-2.06-.94 2.06-2.06.94zm-11 1L8.5 8.5l.94-2.06 2.06-.94-2.06-.94L8.5 2.5l-.94 2.06-2.06.94zm10 10l.94 2.06.94-2.06 2.06-.94-2.06-.94-.94-2.06-.94 2.06-2.06.94z\"/><path d=\"M17.41 7.96l-1.37-1.37c-.4-.4-.92-.59-1.43-.59-.52 0-1.04.2-1.43.59L10.3 9.45l-7.72 7.72c-.78.78-.78 2.05 0 2.83L4 21.41c.39.39.9.59 1.41.59.51 0 1.02-.2 1.41-.59l7.78-7.78 2.81-2.81c.8-.78.8-2.07 0-2.86zM5.41 20L4 18.59l7.72-7.72 1.47 1.35L5.41 20z\"/>\n",
              "  </svg>\n",
              "      </button>\n",
              "      \n",
              "  <style>\n",
              "    .colab-df-container {\n",
              "      display:flex;\n",
              "      flex-wrap:wrap;\n",
              "      gap: 12px;\n",
              "    }\n",
              "\n",
              "    .colab-df-convert {\n",
              "      background-color: #E8F0FE;\n",
              "      border: none;\n",
              "      border-radius: 50%;\n",
              "      cursor: pointer;\n",
              "      display: none;\n",
              "      fill: #1967D2;\n",
              "      height: 32px;\n",
              "      padding: 0 0 0 0;\n",
              "      width: 32px;\n",
              "    }\n",
              "\n",
              "    .colab-df-convert:hover {\n",
              "      background-color: #E2EBFA;\n",
              "      box-shadow: 0px 1px 2px rgba(60, 64, 67, 0.3), 0px 1px 3px 1px rgba(60, 64, 67, 0.15);\n",
              "      fill: #174EA6;\n",
              "    }\n",
              "\n",
              "    [theme=dark] .colab-df-convert {\n",
              "      background-color: #3B4455;\n",
              "      fill: #D2E3FC;\n",
              "    }\n",
              "\n",
              "    [theme=dark] .colab-df-convert:hover {\n",
              "      background-color: #434B5C;\n",
              "      box-shadow: 0px 1px 3px 1px rgba(0, 0, 0, 0.15);\n",
              "      filter: drop-shadow(0px 1px 2px rgba(0, 0, 0, 0.3));\n",
              "      fill: #FFFFFF;\n",
              "    }\n",
              "  </style>\n",
              "\n",
              "      <script>\n",
              "        const buttonEl =\n",
              "          document.querySelector('#df-1e874a7d-d4b5-4bb7-856e-23d1db6bd86f button.colab-df-convert');\n",
              "        buttonEl.style.display =\n",
              "          google.colab.kernel.accessAllowed ? 'block' : 'none';\n",
              "\n",
              "        async function convertToInteractive(key) {\n",
              "          const element = document.querySelector('#df-1e874a7d-d4b5-4bb7-856e-23d1db6bd86f');\n",
              "          const dataTable =\n",
              "            await google.colab.kernel.invokeFunction('convertToInteractive',\n",
              "                                                     [key], {});\n",
              "          if (!dataTable) return;\n",
              "\n",
              "          const docLinkHtml = 'Like what you see? Visit the ' +\n",
              "            '<a target=\"_blank\" href=https://colab.research.google.com/notebooks/data_table.ipynb>data table notebook</a>'\n",
              "            + ' to learn more about interactive tables.';\n",
              "          element.innerHTML = '';\n",
              "          dataTable['output_type'] = 'display_data';\n",
              "          await google.colab.output.renderOutput(dataTable, element);\n",
              "          const docLink = document.createElement('div');\n",
              "          docLink.innerHTML = docLinkHtml;\n",
              "          element.appendChild(docLink);\n",
              "        }\n",
              "      </script>\n",
              "    </div>\n",
              "  </div>\n",
              "  "
            ]
          },
          "metadata": {},
          "execution_count": 140
        }
      ],
      "source": [
        "submission_df"
      ]
    },
    {
      "cell_type": "markdown",
      "id": "capital-seven",
      "metadata": {
        "id": "capital-seven"
      },
      "source": [
        "Let's replace the values of the `SalePrice` column with our predictions."
      ]
    },
    {
      "cell_type": "code",
      "execution_count": null,
      "id": "personal-learning",
      "metadata": {
        "id": "personal-learning"
      },
      "outputs": [],
      "source": [
        "submission_df['SalePrice'] = test_preds"
      ]
    },
    {
      "cell_type": "markdown",
      "id": "informed-monitoring",
      "metadata": {
        "id": "informed-monitoring"
      },
      "source": [
        "Let's save it as a CSV file and download it."
      ]
    },
    {
      "cell_type": "code",
      "execution_count": null,
      "id": "polish-missile",
      "metadata": {
        "id": "polish-missile"
      },
      "outputs": [],
      "source": [
        "submission_df.to_csv('submission.csv', index=False)"
      ]
    },
    {
      "cell_type": "code",
      "execution_count": null,
      "id": "acting-national",
      "metadata": {
        "id": "acting-national",
        "colab": {
          "base_uri": "https://localhost:8080/",
          "height": 32
        },
        "outputId": "c007be10-4528-4a69-80b4-56b979a11364"
      },
      "outputs": [
        {
          "output_type": "execute_result",
          "data": {
            "text/plain": [
              "/content/submission.csv"
            ],
            "text/html": [
              "<a href='submission.csv' target='_blank'>submission.csv</a><br>"
            ]
          },
          "metadata": {},
          "execution_count": 145
        }
      ],
      "source": [
        "from IPython.display import FileLink\n",
        "FileLink('submission.csv') # Doesn't work on Colab, use the file browser instead to download the file."
      ]
    },
    {
      "cell_type": "markdown",
      "id": "national-knowing",
      "metadata": {
        "id": "national-knowing"
      },
      "source": [
        "We can now submit this file to the competition: https://www.kaggle.com/c/house-prices-advanced-regression-techniques/submissions\n",
        "\n",
        "![](https://i.imgur.com/6h2vXRq.png)\n"
      ]
    },
    {
      "cell_type": "markdown",
      "id": "twelve-intention",
      "metadata": {
        "id": "twelve-intention"
      },
      "source": [
        "> **(OPTIONAL) QUESTION**: Submit your predictions to the competition. Experiment with different models, feature engineering strategies and hyperparameters and try to reach the top 10% on the leaderboard."
      ]
    },
    {
      "cell_type": "code",
      "execution_count": null,
      "id": "super-beverage",
      "metadata": {
        "id": "super-beverage"
      },
      "outputs": [],
      "source": []
    },
    {
      "cell_type": "code",
      "execution_count": null,
      "id": "accredited-establishment",
      "metadata": {
        "id": "accredited-establishment"
      },
      "outputs": [],
      "source": []
    },
    {
      "cell_type": "markdown",
      "id": "pediatric-instruction",
      "metadata": {
        "id": "pediatric-instruction"
      },
      "source": [
        "Let's save our work before continuing."
      ]
    },
    {
      "cell_type": "code",
      "execution_count": null,
      "id": "seven-smooth",
      "metadata": {
        "id": "seven-smooth",
        "outputId": "8a8413a8-635c-4134-a20c-cf0e87551abc",
        "colab": {
          "base_uri": "https://localhost:8080/",
          "height": 158
        }
      },
      "outputs": [
        {
          "output_type": "error",
          "ename": "NameError",
          "evalue": "ignored",
          "traceback": [
            "\u001b[0;31m---------------------------------------------------------------------------\u001b[0m",
            "\u001b[0;31mNameError\u001b[0m                                 Traceback (most recent call last)",
            "\u001b[0;32m<ipython-input-1-7f2017c1a3df>\u001b[0m in \u001b[0;36m<module>\u001b[0;34m\u001b[0m\n\u001b[0;32m----> 1\u001b[0;31m \u001b[0mjovian\u001b[0m\u001b[0;34m.\u001b[0m\u001b[0mcommit\u001b[0m\u001b[0;34m(\u001b[0m\u001b[0;34m)\u001b[0m\u001b[0;34m\u001b[0m\u001b[0;34m\u001b[0m\u001b[0m\n\u001b[0m",
            "\u001b[0;31mNameError\u001b[0m: name 'jovian' is not defined"
          ]
        }
      ],
      "source": [
        "jovian.commit()"
      ]
    },
    {
      "cell_type": "markdown",
      "id": "suffering-belize",
      "metadata": {
        "id": "suffering-belize"
      },
      "source": [
        "### Making Predictions on Single Inputs"
      ]
    },
    {
      "cell_type": "code",
      "execution_count": null,
      "id": "extended-hindu",
      "metadata": {
        "id": "extended-hindu"
      },
      "outputs": [],
      "source": [
        "def predict_input(model, single_input):\n",
        "    input_df = pd.DataFrame([single_input])\n",
        "    input_df[numeric_cols] = imputer.transform(input_df[numeric_cols])\n",
        "    input_df[numeric_cols] = scaler.transform(input_df[numeric_cols])\n",
        "    input_df[encoded_cols] = encoder.transform(input_df[categorical_cols].values)\n",
        "    return model.predict(input_df[numeric_cols + encoded_cols])[0]"
      ]
    },
    {
      "cell_type": "code",
      "execution_count": null,
      "id": "portuguese-concentration",
      "metadata": {
        "id": "portuguese-concentration"
      },
      "outputs": [],
      "source": [
        "sample_input = { 'MSSubClass': 20, 'MSZoning': 'RL', 'LotFrontage': 77.0, 'LotArea': 9320,\n",
        " 'Street': 'Pave', 'Alley': None, 'LotShape': 'IR1', 'LandContour': 'Lvl', 'Utilities': 'AllPub',\n",
        " 'LotConfig': 'Inside', 'LandSlope': 'Gtl', 'Neighborhood': 'NAmes', 'Condition1': 'Norm', 'Condition2': 'Norm',\n",
        " 'BldgType': '1Fam', 'HouseStyle': '1Story', 'OverallQual': 4, 'OverallCond': 5, 'YearBuilt': 1959,\n",
        " 'YearRemodAdd': 1959, 'RoofStyle': 'Gable', 'RoofMatl': 'CompShg', 'Exterior1st': 'Plywood',\n",
        " 'Exterior2nd': 'Plywood', 'MasVnrType': 'None','MasVnrArea': 0.0,'ExterQual': 'TA','ExterCond': 'TA',\n",
        " 'Foundation': 'CBlock','BsmtQual': 'TA','BsmtCond': 'TA','BsmtExposure': 'No','BsmtFinType1': 'ALQ',\n",
        " 'BsmtFinSF1': 569,'BsmtFinType2': 'Unf','BsmtFinSF2': 0,'BsmtUnfSF': 381,\n",
        " 'TotalBsmtSF': 950,'Heating': 'GasA','HeatingQC': 'Fa','CentralAir': 'Y','Electrical': 'SBrkr', '1stFlrSF': 1225,\n",
        " '2ndFlrSF': 0, 'LowQualFinSF': 0, 'GrLivArea': 1225, 'BsmtFullBath': 1, 'BsmtHalfBath': 0, 'FullBath': 1,\n",
        " 'HalfBath': 1, 'BedroomAbvGr': 3, 'KitchenAbvGr': 1,'KitchenQual': 'TA','TotRmsAbvGrd': 6,'Functional': 'Typ',\n",
        " 'Fireplaces': 0,'FireplaceQu': np.nan,'GarageType': np.nan,'GarageYrBlt': np.nan,'GarageFinish': np.nan,'GarageCars': 0,\n",
        " 'GarageArea': 0,'GarageQual': np.nan,'GarageCond': np.nan,'PavedDrive': 'Y', 'WoodDeckSF': 352, 'OpenPorchSF': 0,\n",
        " 'EnclosedPorch': 0,'3SsnPorch': 0, 'ScreenPorch': 0, 'PoolArea': 0, 'PoolQC': np.nan, 'Fence': np.nan, 'MiscFeature': 'Shed',\n",
        " 'MiscVal': 400, 'MoSold': 1, 'YrSold': 2010, 'SaleType': 'WD', 'SaleCondition': 'Normal'}"
      ]
    },
    {
      "cell_type": "code",
      "execution_count": null,
      "id": "reverse-duplicate",
      "metadata": {
        "id": "reverse-duplicate"
      },
      "outputs": [],
      "source": [
        "predicted_price = predict_input(rf2, sample_input)"
      ]
    },
    {
      "cell_type": "code",
      "execution_count": null,
      "id": "protective-elizabeth",
      "metadata": {
        "id": "protective-elizabeth"
      },
      "outputs": [],
      "source": [
        "print('The predicted sale price of the house is ${}'.format(predicted_price))"
      ]
    },
    {
      "cell_type": "markdown",
      "id": "unlimited-pursuit",
      "metadata": {
        "id": "unlimited-pursuit"
      },
      "source": [
        "> **EXERCISE**: Change the sample input above and make predictions. Try different examples and try to figure out which columns have a big impact on the sale price. Hint: Look at the feature importance to decide which columns to try."
      ]
    },
    {
      "cell_type": "code",
      "execution_count": null,
      "id": "unable-percentage",
      "metadata": {
        "id": "unable-percentage"
      },
      "outputs": [],
      "source": []
    },
    {
      "cell_type": "code",
      "execution_count": null,
      "id": "legislative-decade",
      "metadata": {
        "id": "legislative-decade"
      },
      "outputs": [],
      "source": []
    },
    {
      "cell_type": "markdown",
      "id": "eight-source",
      "metadata": {
        "id": "eight-source"
      },
      "source": [
        "### Saving the Model"
      ]
    },
    {
      "cell_type": "code",
      "execution_count": null,
      "id": "boring-insight",
      "metadata": {
        "id": "boring-insight"
      },
      "outputs": [],
      "source": [
        "import joblib"
      ]
    },
    {
      "cell_type": "code",
      "execution_count": null,
      "id": "practical-distribution",
      "metadata": {
        "id": "practical-distribution"
      },
      "outputs": [],
      "source": [
        "house_prices_rf = {\n",
        "    'model': rf2,\n",
        "    'imputer': imputer,\n",
        "    'scaler': scaler,\n",
        "    'encoder': encoder,\n",
        "    'input_cols': input_cols,\n",
        "    'target_col': target_col,\n",
        "    'numeric_cols': numeric_cols,\n",
        "    'categorical_cols': categorical_cols,\n",
        "    'encoded_cols': encoded_cols\n",
        "}"
      ]
    },
    {
      "cell_type": "code",
      "execution_count": null,
      "id": "animated-spoke",
      "metadata": {
        "id": "animated-spoke"
      },
      "outputs": [],
      "source": [
        "joblib.dump(house_prices_rf, 'house_prices_rf.joblib')"
      ]
    },
    {
      "cell_type": "markdown",
      "id": "normal-culture",
      "metadata": {
        "id": "normal-culture"
      },
      "source": [
        "Let's save our work before continuing."
      ]
    },
    {
      "cell_type": "code",
      "execution_count": null,
      "id": "fallen-primary",
      "metadata": {
        "id": "fallen-primary"
      },
      "outputs": [],
      "source": [
        "jovian.commit(outputs=['house_prices_rf.joblib'])"
      ]
    },
    {
      "cell_type": "code",
      "execution_count": null,
      "id": "biblical-insight",
      "metadata": {
        "id": "biblical-insight"
      },
      "outputs": [],
      "source": []
    },
    {
      "cell_type": "markdown",
      "id": "loved-clause",
      "metadata": {
        "id": "loved-clause"
      },
      "source": [
        "### Predicting the Logarithm of Sale Price"
      ]
    },
    {
      "cell_type": "markdown",
      "id": "talented-introduction",
      "metadata": {
        "id": "talented-introduction"
      },
      "source": [
        "> **(OPTIONAL) QUESTION**: In the [original Kaggle competition](https://www.kaggle.com/c/house-prices-advanced-regression-techniques/overview/evaluation), the model is evaluated by computing the Root Mean Squared Error on the logarithm of the sale price. Try training a random forest to predict the logarithm of the sale price, instead of the actual sales price and see if the results you obtain are better than the models trained above."
      ]
    },
    {
      "cell_type": "code",
      "execution_count": null,
      "id": "driven-lobby",
      "metadata": {
        "id": "driven-lobby"
      },
      "outputs": [],
      "source": []
    },
    {
      "cell_type": "code",
      "execution_count": null,
      "id": "entitled-island",
      "metadata": {
        "id": "entitled-island"
      },
      "outputs": [],
      "source": []
    }
  ],
  "metadata": {
    "kernelspec": {
      "display_name": "Python 3",
      "language": "python",
      "name": "python3"
    },
    "language_info": {
      "codemirror_mode": {
        "name": "ipython",
        "version": 3
      },
      "file_extension": ".py",
      "mimetype": "text/x-python",
      "name": "python",
      "nbconvert_exporter": "python",
      "pygments_lexer": "ipython3",
      "version": "3.9.5"
    },
    "colab": {
      "provenance": [],
      "include_colab_link": true
    }
  },
  "nbformat": 4,
  "nbformat_minor": 5
}